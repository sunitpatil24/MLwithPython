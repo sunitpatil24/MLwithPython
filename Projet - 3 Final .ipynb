{
 "cells": [
  {
   "cell_type": "code",
   "execution_count": 1,
   "metadata": {},
   "outputs": [],
   "source": [
    "import warnings\n",
    "warnings.filterwarnings('ignore')\n",
    "import pandas as pd\n",
    "import numpy as np\n",
    "from scipy import stats\n",
    "import category_encoders as ce"
   ]
  },
  {
   "cell_type": "code",
   "execution_count": 2,
   "metadata": {},
   "outputs": [],
   "source": [
    "file_train = pd.read_csv('counterfeit_train.csv')\n",
    "file_test = pd.read_csv('counterfeit_test.csv')"
   ]
  },
  {
   "cell_type": "code",
   "execution_count": 3,
   "metadata": {},
   "outputs": [
    {
     "data": {
      "text/html": [
       "<div>\n",
       "<style scoped>\n",
       "    .dataframe tbody tr th:only-of-type {\n",
       "        vertical-align: middle;\n",
       "    }\n",
       "\n",
       "    .dataframe tbody tr th {\n",
       "        vertical-align: top;\n",
       "    }\n",
       "\n",
       "    .dataframe thead th {\n",
       "        text-align: right;\n",
       "    }\n",
       "</style>\n",
       "<table border=\"1\" class=\"dataframe\">\n",
       "  <thead>\n",
       "    <tr style=\"text-align: right;\">\n",
       "      <th></th>\n",
       "      <th>Medicine_ID</th>\n",
       "      <th>Counterfeit_Weight</th>\n",
       "      <th>DistArea_ID</th>\n",
       "      <th>Active_Since</th>\n",
       "      <th>Medicine_MRP</th>\n",
       "      <th>Medicine_Type</th>\n",
       "      <th>SidEffect_Level</th>\n",
       "      <th>Availability_rating</th>\n",
       "      <th>Area_Type</th>\n",
       "      <th>Area_City_Type</th>\n",
       "      <th>Area_dist_level</th>\n",
       "      <th>Counterfeit_Sales</th>\n",
       "    </tr>\n",
       "  </thead>\n",
       "  <tbody>\n",
       "    <tr>\n",
       "      <th>0</th>\n",
       "      <td>RRA15</td>\n",
       "      <td>13.100</td>\n",
       "      <td>Area046</td>\n",
       "      <td>1995</td>\n",
       "      <td>160.2366</td>\n",
       "      <td>Antimalarial</td>\n",
       "      <td>critical</td>\n",
       "      <td>0.070422</td>\n",
       "      <td>DownTown</td>\n",
       "      <td>Tier 1</td>\n",
       "      <td>Small</td>\n",
       "      <td>1775.5026</td>\n",
       "    </tr>\n",
       "    <tr>\n",
       "      <th>1</th>\n",
       "      <td>YVV26</td>\n",
       "      <td>NaN</td>\n",
       "      <td>Area027</td>\n",
       "      <td>1983</td>\n",
       "      <td>110.4384</td>\n",
       "      <td>Mstablizers</td>\n",
       "      <td>mild</td>\n",
       "      <td>0.013000</td>\n",
       "      <td>CityLimits</td>\n",
       "      <td>Tier 3</td>\n",
       "      <td>Medium</td>\n",
       "      <td>3069.1520</td>\n",
       "    </tr>\n",
       "    <tr>\n",
       "      <th>2</th>\n",
       "      <td>LJC15</td>\n",
       "      <td>9.025</td>\n",
       "      <td>Area046</td>\n",
       "      <td>1995</td>\n",
       "      <td>259.4092</td>\n",
       "      <td>Cardiac</td>\n",
       "      <td>mild</td>\n",
       "      <td>0.060783</td>\n",
       "      <td>DownTown</td>\n",
       "      <td>Tier 1</td>\n",
       "      <td>Small</td>\n",
       "      <td>2603.0920</td>\n",
       "    </tr>\n",
       "    <tr>\n",
       "      <th>3</th>\n",
       "      <td>GWC40</td>\n",
       "      <td>11.800</td>\n",
       "      <td>Area046</td>\n",
       "      <td>1995</td>\n",
       "      <td>99.9830</td>\n",
       "      <td>OralContraceptives</td>\n",
       "      <td>mild</td>\n",
       "      <td>0.065555</td>\n",
       "      <td>DownTown</td>\n",
       "      <td>Tier 1</td>\n",
       "      <td>Small</td>\n",
       "      <td>1101.7130</td>\n",
       "    </tr>\n",
       "    <tr>\n",
       "      <th>4</th>\n",
       "      <td>QMN13</td>\n",
       "      <td>NaN</td>\n",
       "      <td>Area019</td>\n",
       "      <td>1983</td>\n",
       "      <td>56.4402</td>\n",
       "      <td>Hreplacements</td>\n",
       "      <td>critical</td>\n",
       "      <td>0.248859</td>\n",
       "      <td>MidTownResidential</td>\n",
       "      <td>Tier 1</td>\n",
       "      <td>Small</td>\n",
       "      <td>158.9402</td>\n",
       "    </tr>\n",
       "  </tbody>\n",
       "</table>\n",
       "</div>"
      ],
      "text/plain": [
       "  Medicine_ID  Counterfeit_Weight DistArea_ID  Active_Since  Medicine_MRP  \\\n",
       "0       RRA15              13.100     Area046          1995      160.2366   \n",
       "1       YVV26                 NaN     Area027          1983      110.4384   \n",
       "2       LJC15               9.025     Area046          1995      259.4092   \n",
       "3       GWC40              11.800     Area046          1995       99.9830   \n",
       "4       QMN13                 NaN     Area019          1983       56.4402   \n",
       "\n",
       "        Medicine_Type SidEffect_Level  Availability_rating  \\\n",
       "0        Antimalarial        critical             0.070422   \n",
       "1         Mstablizers            mild             0.013000   \n",
       "2             Cardiac            mild             0.060783   \n",
       "3  OralContraceptives            mild             0.065555   \n",
       "4       Hreplacements        critical             0.248859   \n",
       "\n",
       "            Area_Type Area_City_Type Area_dist_level  Counterfeit_Sales  \n",
       "0            DownTown         Tier 1           Small          1775.5026  \n",
       "1          CityLimits         Tier 3          Medium          3069.1520  \n",
       "2            DownTown         Tier 1           Small          2603.0920  \n",
       "3            DownTown         Tier 1           Small          1101.7130  \n",
       "4  MidTownResidential         Tier 1           Small           158.9402  "
      ]
     },
     "execution_count": 3,
     "metadata": {},
     "output_type": "execute_result"
    }
   ],
   "source": [
    "file_train.head()"
   ]
  },
  {
   "cell_type": "code",
   "execution_count": 4,
   "metadata": {},
   "outputs": [
    {
     "data": {
      "text/plain": [
       "Medicine_ID             object\n",
       "Counterfeit_Weight     float64\n",
       "DistArea_ID             object\n",
       "Active_Since             int64\n",
       "Medicine_MRP           float64\n",
       "Medicine_Type           object\n",
       "SidEffect_Level         object\n",
       "Availability_rating    float64\n",
       "Area_Type               object\n",
       "Area_City_Type          object\n",
       "Area_dist_level         object\n",
       "Counterfeit_Sales      float64\n",
       "dtype: object"
      ]
     },
     "execution_count": 4,
     "metadata": {},
     "output_type": "execute_result"
    }
   ],
   "source": [
    "file_train.dtypes"
   ]
  },
  {
   "cell_type": "code",
   "execution_count": 5,
   "metadata": {},
   "outputs": [
    {
     "data": {
      "text/plain": [
       "Medicine_ID               0\n",
       "Counterfeit_Weight     1166\n",
       "DistArea_ID               0\n",
       "Active_Since              0\n",
       "Medicine_MRP              0\n",
       "Medicine_Type             0\n",
       "SidEffect_Level           0\n",
       "Availability_rating       0\n",
       "Area_Type                 0\n",
       "Area_City_Type            0\n",
       "Area_dist_level           0\n",
       "Counterfeit_Sales         0\n",
       "dtype: int64"
      ]
     },
     "execution_count": 5,
     "metadata": {},
     "output_type": "execute_result"
    }
   ],
   "source": [
    "file_train.isnull().sum()"
   ]
  },
  {
   "cell_type": "code",
   "execution_count": 6,
   "metadata": {},
   "outputs": [
    {
     "data": {
      "text/html": [
       "<div>\n",
       "<style scoped>\n",
       "    .dataframe tbody tr th:only-of-type {\n",
       "        vertical-align: middle;\n",
       "    }\n",
       "\n",
       "    .dataframe tbody tr th {\n",
       "        vertical-align: top;\n",
       "    }\n",
       "\n",
       "    .dataframe thead th {\n",
       "        text-align: right;\n",
       "    }\n",
       "</style>\n",
       "<table border=\"1\" class=\"dataframe\">\n",
       "  <thead>\n",
       "    <tr style=\"text-align: right;\">\n",
       "      <th></th>\n",
       "      <th>Medicine_ID</th>\n",
       "      <th>Counterfeit_Weight</th>\n",
       "      <th>DistArea_ID</th>\n",
       "      <th>Active_Since</th>\n",
       "      <th>Medicine_MRP</th>\n",
       "      <th>Medicine_Type</th>\n",
       "      <th>SidEffect_Level</th>\n",
       "      <th>Availability_rating</th>\n",
       "      <th>Area_Type</th>\n",
       "      <th>Area_City_Type</th>\n",
       "      <th>Area_dist_level</th>\n",
       "    </tr>\n",
       "  </thead>\n",
       "  <tbody>\n",
       "    <tr>\n",
       "      <th>0</th>\n",
       "      <td>HLZ81</td>\n",
       "      <td>NaN</td>\n",
       "      <td>Area027</td>\n",
       "      <td>1983</td>\n",
       "      <td>85.5328</td>\n",
       "      <td>Antibiotics</td>\n",
       "      <td>mild</td>\n",
       "      <td>0.112747</td>\n",
       "      <td>CityLimits</td>\n",
       "      <td>Tier 3</td>\n",
       "      <td>Medium</td>\n",
       "    </tr>\n",
       "    <tr>\n",
       "      <th>1</th>\n",
       "      <td>ECE94</td>\n",
       "      <td>13.45</td>\n",
       "      <td>Area045</td>\n",
       "      <td>2000</td>\n",
       "      <td>257.1460</td>\n",
       "      <td>OralContraceptives</td>\n",
       "      <td>mild</td>\n",
       "      <td>0.144446</td>\n",
       "      <td>DownTown</td>\n",
       "      <td>Tier 2</td>\n",
       "      <td>Unknown</td>\n",
       "    </tr>\n",
       "    <tr>\n",
       "      <th>2</th>\n",
       "      <td>SAD14</td>\n",
       "      <td>7.10</td>\n",
       "      <td>Area045</td>\n",
       "      <td>2000</td>\n",
       "      <td>98.1172</td>\n",
       "      <td>Antipyretics</td>\n",
       "      <td>mild</td>\n",
       "      <td>0.144221</td>\n",
       "      <td>DownTown</td>\n",
       "      <td>Tier 2</td>\n",
       "      <td>Unknown</td>\n",
       "    </tr>\n",
       "    <tr>\n",
       "      <th>3</th>\n",
       "      <td>EQV63</td>\n",
       "      <td>18.30</td>\n",
       "      <td>Area010</td>\n",
       "      <td>1996</td>\n",
       "      <td>135.3730</td>\n",
       "      <td>Tranquilizers</td>\n",
       "      <td>mild</td>\n",
       "      <td>0.100388</td>\n",
       "      <td>MidTownResidential</td>\n",
       "      <td>Tier 3</td>\n",
       "      <td>Unknown</td>\n",
       "    </tr>\n",
       "    <tr>\n",
       "      <th>4</th>\n",
       "      <td>AIR10</td>\n",
       "      <td>NaN</td>\n",
       "      <td>Area019</td>\n",
       "      <td>1983</td>\n",
       "      <td>112.8016</td>\n",
       "      <td>OralContraceptives</td>\n",
       "      <td>mild</td>\n",
       "      <td>0.022585</td>\n",
       "      <td>MidTownResidential</td>\n",
       "      <td>Tier 1</td>\n",
       "      <td>Small</td>\n",
       "    </tr>\n",
       "  </tbody>\n",
       "</table>\n",
       "</div>"
      ],
      "text/plain": [
       "  Medicine_ID  Counterfeit_Weight DistArea_ID  Active_Since  Medicine_MRP  \\\n",
       "0       HLZ81                 NaN     Area027          1983       85.5328   \n",
       "1       ECE94               13.45     Area045          2000      257.1460   \n",
       "2       SAD14                7.10     Area045          2000       98.1172   \n",
       "3       EQV63               18.30     Area010          1996      135.3730   \n",
       "4       AIR10                 NaN     Area019          1983      112.8016   \n",
       "\n",
       "        Medicine_Type SidEffect_Level  Availability_rating  \\\n",
       "0         Antibiotics            mild             0.112747   \n",
       "1  OralContraceptives            mild             0.144446   \n",
       "2        Antipyretics            mild             0.144221   \n",
       "3       Tranquilizers            mild             0.100388   \n",
       "4  OralContraceptives            mild             0.022585   \n",
       "\n",
       "            Area_Type Area_City_Type Area_dist_level  \n",
       "0          CityLimits         Tier 3          Medium  \n",
       "1            DownTown         Tier 2         Unknown  \n",
       "2            DownTown         Tier 2         Unknown  \n",
       "3  MidTownResidential         Tier 3         Unknown  \n",
       "4  MidTownResidential         Tier 1           Small  "
      ]
     },
     "execution_count": 6,
     "metadata": {},
     "output_type": "execute_result"
    }
   ],
   "source": [
    "file_test.head()"
   ]
  },
  {
   "cell_type": "code",
   "execution_count": 7,
   "metadata": {},
   "outputs": [
    {
     "data": {
      "text/plain": [
       "Medicine_ID              0\n",
       "Counterfeit_Weight     297\n",
       "DistArea_ID              0\n",
       "Active_Since             0\n",
       "Medicine_MRP             0\n",
       "Medicine_Type            0\n",
       "SidEffect_Level          0\n",
       "Availability_rating      0\n",
       "Area_Type                0\n",
       "Area_City_Type           0\n",
       "Area_dist_level          0\n",
       "dtype: int64"
      ]
     },
     "execution_count": 7,
     "metadata": {},
     "output_type": "execute_result"
    }
   ],
   "source": [
    "file_test.isnull().sum()"
   ]
  },
  {
   "cell_type": "code",
   "execution_count": 8,
   "metadata": {},
   "outputs": [
    {
     "data": {
      "text/plain": [
       "(6818, 12)"
      ]
     },
     "execution_count": 8,
     "metadata": {},
     "output_type": "execute_result"
    }
   ],
   "source": [
    "file_train.shape"
   ]
  },
  {
   "cell_type": "code",
   "execution_count": 9,
   "metadata": {},
   "outputs": [
    {
     "data": {
      "text/plain": [
       "(1705, 11)"
      ]
     },
     "execution_count": 9,
     "metadata": {},
     "output_type": "execute_result"
    }
   ],
   "source": [
    "file_test.shape"
   ]
  },
  {
   "cell_type": "code",
   "execution_count": 10,
   "metadata": {},
   "outputs": [],
   "source": [
    "file_test['Counterfeit_Sales'] = np.nan\n",
    "file_test = file_test[file_train.columns]\n",
    "file_train['Data'] = 'Train'\n",
    "file_test['Data'] = 'Test'"
   ]
  },
  {
   "cell_type": "code",
   "execution_count": 12,
   "metadata": {},
   "outputs": [],
   "source": [
    "zscore = np.abs(stats.zscore(file_train['Counterfeit_Sales']))\n",
    "\n",
    "threshold=3\n",
    "value = np.where(zscore>threshold)[0]\n",
    "\n",
    "file_train.drop(value, inplace=True)\n",
    "#print(np.where(zscore_comp>threshold), len(drp_idx))"
   ]
  },
  {
   "cell_type": "code",
   "execution_count": 13,
   "metadata": {},
   "outputs": [
    {
     "data": {
      "text/plain": [
       "(6752, 13)"
      ]
     },
     "execution_count": 13,
     "metadata": {},
     "output_type": "execute_result"
    }
   ],
   "source": [
    "file_train.shape"
   ]
  },
  {
   "cell_type": "code",
   "execution_count": 14,
   "metadata": {},
   "outputs": [
    {
     "data": {
      "text/plain": [
       "(1705, 13)"
      ]
     },
     "execution_count": 14,
     "metadata": {},
     "output_type": "execute_result"
    }
   ],
   "source": [
    "file_test.shape"
   ]
  },
  {
   "cell_type": "code",
   "execution_count": 15,
   "metadata": {},
   "outputs": [
    {
     "data": {
      "text/plain": [
       "Medicine_ID               0\n",
       "Counterfeit_Weight     1121\n",
       "DistArea_ID               0\n",
       "Active_Since              0\n",
       "Medicine_MRP              0\n",
       "Medicine_Type             0\n",
       "SidEffect_Level           0\n",
       "Availability_rating       0\n",
       "Area_Type                 0\n",
       "Area_City_Type            0\n",
       "Area_dist_level           0\n",
       "Counterfeit_Sales         0\n",
       "Data                      0\n",
       "dtype: int64"
      ]
     },
     "execution_count": 15,
     "metadata": {},
     "output_type": "execute_result"
    }
   ],
   "source": [
    "file_train.isnull().sum()"
   ]
  },
  {
   "cell_type": "code",
   "execution_count": 16,
   "metadata": {},
   "outputs": [
    {
     "data": {
      "text/plain": [
       "Medicine_ID               0\n",
       "Counterfeit_Weight      297\n",
       "DistArea_ID               0\n",
       "Active_Since              0\n",
       "Medicine_MRP              0\n",
       "Medicine_Type             0\n",
       "SidEffect_Level           0\n",
       "Availability_rating       0\n",
       "Area_Type                 0\n",
       "Area_City_Type            0\n",
       "Area_dist_level           0\n",
       "Counterfeit_Sales      1705\n",
       "Data                      0\n",
       "dtype: int64"
      ]
     },
     "execution_count": 16,
     "metadata": {},
     "output_type": "execute_result"
    }
   ],
   "source": [
    "file_test.isnull().sum()"
   ]
  },
  {
   "cell_type": "code",
   "execution_count": 17,
   "metadata": {},
   "outputs": [],
   "source": [
    "file_conc = pd.concat([file_train,file_test], axis=0)"
   ]
  },
  {
   "cell_type": "code",
   "execution_count": 18,
   "metadata": {},
   "outputs": [
    {
     "data": {
      "text/html": [
       "<div>\n",
       "<style scoped>\n",
       "    .dataframe tbody tr th:only-of-type {\n",
       "        vertical-align: middle;\n",
       "    }\n",
       "\n",
       "    .dataframe tbody tr th {\n",
       "        vertical-align: top;\n",
       "    }\n",
       "\n",
       "    .dataframe thead th {\n",
       "        text-align: right;\n",
       "    }\n",
       "</style>\n",
       "<table border=\"1\" class=\"dataframe\">\n",
       "  <thead>\n",
       "    <tr style=\"text-align: right;\">\n",
       "      <th></th>\n",
       "      <th>Medicine_ID</th>\n",
       "      <th>Counterfeit_Weight</th>\n",
       "      <th>DistArea_ID</th>\n",
       "      <th>Active_Since</th>\n",
       "      <th>Medicine_MRP</th>\n",
       "      <th>Medicine_Type</th>\n",
       "      <th>SidEffect_Level</th>\n",
       "      <th>Availability_rating</th>\n",
       "      <th>Area_Type</th>\n",
       "      <th>Area_City_Type</th>\n",
       "      <th>Area_dist_level</th>\n",
       "      <th>Counterfeit_Sales</th>\n",
       "      <th>Data</th>\n",
       "    </tr>\n",
       "  </thead>\n",
       "  <tbody>\n",
       "    <tr>\n",
       "      <th>0</th>\n",
       "      <td>RRA15</td>\n",
       "      <td>13.100</td>\n",
       "      <td>Area046</td>\n",
       "      <td>1995</td>\n",
       "      <td>160.2366</td>\n",
       "      <td>Antimalarial</td>\n",
       "      <td>critical</td>\n",
       "      <td>0.070422</td>\n",
       "      <td>DownTown</td>\n",
       "      <td>Tier 1</td>\n",
       "      <td>Small</td>\n",
       "      <td>1775.5026</td>\n",
       "      <td>Train</td>\n",
       "    </tr>\n",
       "    <tr>\n",
       "      <th>1</th>\n",
       "      <td>YVV26</td>\n",
       "      <td>NaN</td>\n",
       "      <td>Area027</td>\n",
       "      <td>1983</td>\n",
       "      <td>110.4384</td>\n",
       "      <td>Mstablizers</td>\n",
       "      <td>mild</td>\n",
       "      <td>0.013000</td>\n",
       "      <td>CityLimits</td>\n",
       "      <td>Tier 3</td>\n",
       "      <td>Medium</td>\n",
       "      <td>3069.1520</td>\n",
       "      <td>Train</td>\n",
       "    </tr>\n",
       "    <tr>\n",
       "      <th>2</th>\n",
       "      <td>LJC15</td>\n",
       "      <td>9.025</td>\n",
       "      <td>Area046</td>\n",
       "      <td>1995</td>\n",
       "      <td>259.4092</td>\n",
       "      <td>Cardiac</td>\n",
       "      <td>mild</td>\n",
       "      <td>0.060783</td>\n",
       "      <td>DownTown</td>\n",
       "      <td>Tier 1</td>\n",
       "      <td>Small</td>\n",
       "      <td>2603.0920</td>\n",
       "      <td>Train</td>\n",
       "    </tr>\n",
       "    <tr>\n",
       "      <th>3</th>\n",
       "      <td>GWC40</td>\n",
       "      <td>11.800</td>\n",
       "      <td>Area046</td>\n",
       "      <td>1995</td>\n",
       "      <td>99.9830</td>\n",
       "      <td>OralContraceptives</td>\n",
       "      <td>mild</td>\n",
       "      <td>0.065555</td>\n",
       "      <td>DownTown</td>\n",
       "      <td>Tier 1</td>\n",
       "      <td>Small</td>\n",
       "      <td>1101.7130</td>\n",
       "      <td>Train</td>\n",
       "    </tr>\n",
       "    <tr>\n",
       "      <th>4</th>\n",
       "      <td>QMN13</td>\n",
       "      <td>NaN</td>\n",
       "      <td>Area019</td>\n",
       "      <td>1983</td>\n",
       "      <td>56.4402</td>\n",
       "      <td>Hreplacements</td>\n",
       "      <td>critical</td>\n",
       "      <td>0.248859</td>\n",
       "      <td>MidTownResidential</td>\n",
       "      <td>Tier 1</td>\n",
       "      <td>Small</td>\n",
       "      <td>158.9402</td>\n",
       "      <td>Train</td>\n",
       "    </tr>\n",
       "    <tr>\n",
       "      <th>...</th>\n",
       "      <td>...</td>\n",
       "      <td>...</td>\n",
       "      <td>...</td>\n",
       "      <td>...</td>\n",
       "      <td>...</td>\n",
       "      <td>...</td>\n",
       "      <td>...</td>\n",
       "      <td>...</td>\n",
       "      <td>...</td>\n",
       "      <td>...</td>\n",
       "      <td>...</td>\n",
       "      <td>...</td>\n",
       "      <td>...</td>\n",
       "    </tr>\n",
       "    <tr>\n",
       "      <th>1700</th>\n",
       "      <td>KXW10</td>\n",
       "      <td>NaN</td>\n",
       "      <td>Area027</td>\n",
       "      <td>1983</td>\n",
       "      <td>136.5704</td>\n",
       "      <td>Hreplacements</td>\n",
       "      <td>mild</td>\n",
       "      <td>0.050505</td>\n",
       "      <td>CityLimits</td>\n",
       "      <td>Tier 3</td>\n",
       "      <td>Medium</td>\n",
       "      <td>NaN</td>\n",
       "      <td>Test</td>\n",
       "    </tr>\n",
       "    <tr>\n",
       "      <th>1701</th>\n",
       "      <td>CKE54</td>\n",
       "      <td>21.300</td>\n",
       "      <td>Area035</td>\n",
       "      <td>2002</td>\n",
       "      <td>57.0744</td>\n",
       "      <td>Antibiotics</td>\n",
       "      <td>critical</td>\n",
       "      <td>0.041118</td>\n",
       "      <td>DownTown</td>\n",
       "      <td>Tier 2</td>\n",
       "      <td>Small</td>\n",
       "      <td>NaN</td>\n",
       "      <td>Test</td>\n",
       "    </tr>\n",
       "    <tr>\n",
       "      <th>1702</th>\n",
       "      <td>HAY13</td>\n",
       "      <td>20.400</td>\n",
       "      <td>Area017</td>\n",
       "      <td>2005</td>\n",
       "      <td>182.7422</td>\n",
       "      <td>Antiseptics</td>\n",
       "      <td>mild</td>\n",
       "      <td>0.191273</td>\n",
       "      <td>DownTown</td>\n",
       "      <td>Tier 2</td>\n",
       "      <td>Unknown</td>\n",
       "      <td>NaN</td>\n",
       "      <td>Test</td>\n",
       "    </tr>\n",
       "    <tr>\n",
       "      <th>1703</th>\n",
       "      <td>ZEE32</td>\n",
       "      <td>20.000</td>\n",
       "      <td>Area018</td>\n",
       "      <td>2007</td>\n",
       "      <td>266.9672</td>\n",
       "      <td>Hreplacements</td>\n",
       "      <td>mild</td>\n",
       "      <td>0.013000</td>\n",
       "      <td>Industrial</td>\n",
       "      <td>Tier 3</td>\n",
       "      <td>Medium</td>\n",
       "      <td>NaN</td>\n",
       "      <td>Test</td>\n",
       "    </tr>\n",
       "    <tr>\n",
       "      <th>1704</th>\n",
       "      <td>NDL93</td>\n",
       "      <td>8.080</td>\n",
       "      <td>Area045</td>\n",
       "      <td>2000</td>\n",
       "      <td>238.7694</td>\n",
       "      <td>Antibiotics</td>\n",
       "      <td>critical</td>\n",
       "      <td>0.098982</td>\n",
       "      <td>DownTown</td>\n",
       "      <td>Tier 2</td>\n",
       "      <td>Unknown</td>\n",
       "      <td>NaN</td>\n",
       "      <td>Test</td>\n",
       "    </tr>\n",
       "  </tbody>\n",
       "</table>\n",
       "<p>8457 rows × 13 columns</p>\n",
       "</div>"
      ],
      "text/plain": [
       "     Medicine_ID  Counterfeit_Weight DistArea_ID  Active_Since  Medicine_MRP  \\\n",
       "0          RRA15              13.100     Area046          1995      160.2366   \n",
       "1          YVV26                 NaN     Area027          1983      110.4384   \n",
       "2          LJC15               9.025     Area046          1995      259.4092   \n",
       "3          GWC40              11.800     Area046          1995       99.9830   \n",
       "4          QMN13                 NaN     Area019          1983       56.4402   \n",
       "...          ...                 ...         ...           ...           ...   \n",
       "1700       KXW10                 NaN     Area027          1983      136.5704   \n",
       "1701       CKE54              21.300     Area035          2002       57.0744   \n",
       "1702       HAY13              20.400     Area017          2005      182.7422   \n",
       "1703       ZEE32              20.000     Area018          2007      266.9672   \n",
       "1704       NDL93               8.080     Area045          2000      238.7694   \n",
       "\n",
       "           Medicine_Type SidEffect_Level  Availability_rating  \\\n",
       "0           Antimalarial        critical             0.070422   \n",
       "1            Mstablizers            mild             0.013000   \n",
       "2                Cardiac            mild             0.060783   \n",
       "3     OralContraceptives            mild             0.065555   \n",
       "4          Hreplacements        critical             0.248859   \n",
       "...                  ...             ...                  ...   \n",
       "1700       Hreplacements            mild             0.050505   \n",
       "1701         Antibiotics        critical             0.041118   \n",
       "1702         Antiseptics            mild             0.191273   \n",
       "1703       Hreplacements            mild             0.013000   \n",
       "1704         Antibiotics        critical             0.098982   \n",
       "\n",
       "               Area_Type Area_City_Type Area_dist_level  Counterfeit_Sales  \\\n",
       "0               DownTown         Tier 1           Small          1775.5026   \n",
       "1             CityLimits         Tier 3          Medium          3069.1520   \n",
       "2               DownTown         Tier 1           Small          2603.0920   \n",
       "3               DownTown         Tier 1           Small          1101.7130   \n",
       "4     MidTownResidential         Tier 1           Small           158.9402   \n",
       "...                  ...            ...             ...                ...   \n",
       "1700          CityLimits         Tier 3          Medium                NaN   \n",
       "1701            DownTown         Tier 2           Small                NaN   \n",
       "1702            DownTown         Tier 2         Unknown                NaN   \n",
       "1703          Industrial         Tier 3          Medium                NaN   \n",
       "1704            DownTown         Tier 2         Unknown                NaN   \n",
       "\n",
       "       Data  \n",
       "0     Train  \n",
       "1     Train  \n",
       "2     Train  \n",
       "3     Train  \n",
       "4     Train  \n",
       "...     ...  \n",
       "1700   Test  \n",
       "1701   Test  \n",
       "1702   Test  \n",
       "1703   Test  \n",
       "1704   Test  \n",
       "\n",
       "[8457 rows x 13 columns]"
      ]
     },
     "execution_count": 18,
     "metadata": {},
     "output_type": "execute_result"
    }
   ],
   "source": [
    "file_conc"
   ]
  },
  {
   "cell_type": "code",
   "execution_count": 19,
   "metadata": {},
   "outputs": [
    {
     "data": {
      "text/plain": [
       "(8457, 13)"
      ]
     },
     "execution_count": 19,
     "metadata": {},
     "output_type": "execute_result"
    }
   ],
   "source": [
    "file_conc.shape"
   ]
  },
  {
   "cell_type": "code",
   "execution_count": 20,
   "metadata": {},
   "outputs": [
    {
     "data": {
      "text/plain": [
       "Medicine_ID               0\n",
       "Counterfeit_Weight     1418\n",
       "DistArea_ID               0\n",
       "Active_Since              0\n",
       "Medicine_MRP              0\n",
       "Medicine_Type             0\n",
       "SidEffect_Level           0\n",
       "Availability_rating       0\n",
       "Area_Type                 0\n",
       "Area_City_Type            0\n",
       "Area_dist_level           0\n",
       "Counterfeit_Sales      1705\n",
       "Data                      0\n",
       "dtype: int64"
      ]
     },
     "execution_count": 20,
     "metadata": {},
     "output_type": "execute_result"
    }
   ],
   "source": [
    "file_conc.isnull().sum()"
   ]
  },
  {
   "cell_type": "code",
   "execution_count": 21,
   "metadata": {},
   "outputs": [],
   "source": [
    "miss_val_repla = file_conc.groupby(['Medicine_ID'])['Counterfeit_Weight'].mean().to_dict()\n",
    "for key, values in miss_val_repla.items():\n",
    "    file_conc.loc[file_conc['Medicine_ID']== key, 'Counterfeit_Weight'] = np.round(values)\n",
    "\n",
    "# file_conc.drop(file_conc[file_conc['Counterfeit_Weight'].isna()].index ,  inplace=True)"
   ]
  },
  {
   "cell_type": "code",
   "execution_count": 22,
   "metadata": {},
   "outputs": [
    {
     "data": {
      "text/plain": [
       "Medicine_ID               0\n",
       "Counterfeit_Weight        4\n",
       "DistArea_ID               0\n",
       "Active_Since              0\n",
       "Medicine_MRP              0\n",
       "Medicine_Type             0\n",
       "SidEffect_Level           0\n",
       "Availability_rating       0\n",
       "Area_Type                 0\n",
       "Area_City_Type            0\n",
       "Area_dist_level           0\n",
       "Counterfeit_Sales      1705\n",
       "Data                      0\n",
       "dtype: int64"
      ]
     },
     "execution_count": 22,
     "metadata": {},
     "output_type": "execute_result"
    }
   ],
   "source": [
    "file_conc.isnull().sum()"
   ]
  },
  {
   "cell_type": "code",
   "execution_count": 23,
   "metadata": {},
   "outputs": [],
   "source": [
    "for col in file_conc.columns:\n",
    "    if (col not in ['Counterfeit_Sales', 'Data']) & (file_conc[col].isnull().sum()>0):\n",
    "        file_conc.loc[file_conc[col].isnull(),col] = file_conc.loc[file_conc['Data'] == 'Train',col].mean()"
   ]
  },
  {
   "cell_type": "code",
   "execution_count": 24,
   "metadata": {},
   "outputs": [
    {
     "data": {
      "text/plain": [
       "Medicine_ID               0\n",
       "Counterfeit_Weight        0\n",
       "DistArea_ID               0\n",
       "Active_Since              0\n",
       "Medicine_MRP              0\n",
       "Medicine_Type             0\n",
       "SidEffect_Level           0\n",
       "Availability_rating       0\n",
       "Area_Type                 0\n",
       "Area_City_Type            0\n",
       "Area_dist_level           0\n",
       "Counterfeit_Sales      1705\n",
       "Data                      0\n",
       "dtype: int64"
      ]
     },
     "execution_count": 24,
     "metadata": {},
     "output_type": "execute_result"
    }
   ],
   "source": [
    "file_conc.isnull().sum()"
   ]
  },
  {
   "cell_type": "code",
   "execution_count": 25,
   "metadata": {},
   "outputs": [],
   "source": [
    "# file_conc['Counterfeit_Weight'] = file_conc.groupby('Medicine_ID').transform(lambda x: x.fillna(x.mean()))"
   ]
  },
  {
   "cell_type": "code",
   "execution_count": null,
   "metadata": {},
   "outputs": [],
   "source": [
    "import seaborn as sns\n",
    "%matplotlib inline"
   ]
  },
  {
   "cell_type": "code",
   "execution_count": null,
   "metadata": {},
   "outputs": [],
   "source": [
    "# sns.histplot(file_conc['Counterfeit_Weight'])"
   ]
  },
  {
   "cell_type": "code",
   "execution_count": null,
   "metadata": {},
   "outputs": [],
   "source": [
    "# sns.displot(file_conc['Counterfeit_Weight'])"
   ]
  },
  {
   "cell_type": "code",
   "execution_count": null,
   "metadata": {},
   "outputs": [],
   "source": [
    "# file_conc['Counterfeit_Weight'].isnull().sum()"
   ]
  },
  {
   "cell_type": "code",
   "execution_count": null,
   "metadata": {},
   "outputs": [],
   "source": [
    "# file_conc['Counterfeit_Weight'].mean()"
   ]
  },
  {
   "cell_type": "code",
   "execution_count": null,
   "metadata": {},
   "outputs": [],
   "source": [
    "# file_conc['Counterfeit_Weight'].median()"
   ]
  },
  {
   "cell_type": "code",
   "execution_count": null,
   "metadata": {},
   "outputs": [],
   "source": [
    "# file_conc['Counterfeit_Weight'].mode()"
   ]
  },
  {
   "cell_type": "code",
   "execution_count": 26,
   "metadata": {},
   "outputs": [],
   "source": [
    "# file_conc.drop(['Medicine_ID', 'Counterfeit_Weight'],axis=1,inplace=True)\n",
    "file_conc.drop(['Medicine_ID'],axis=1,inplace=True)"
   ]
  },
  {
   "cell_type": "code",
   "execution_count": 27,
   "metadata": {
    "scrolled": true
   },
   "outputs": [
    {
     "data": {
      "text/html": [
       "<div>\n",
       "<style scoped>\n",
       "    .dataframe tbody tr th:only-of-type {\n",
       "        vertical-align: middle;\n",
       "    }\n",
       "\n",
       "    .dataframe tbody tr th {\n",
       "        vertical-align: top;\n",
       "    }\n",
       "\n",
       "    .dataframe thead th {\n",
       "        text-align: right;\n",
       "    }\n",
       "</style>\n",
       "<table border=\"1\" class=\"dataframe\">\n",
       "  <thead>\n",
       "    <tr style=\"text-align: right;\">\n",
       "      <th></th>\n",
       "      <th>Counterfeit_Weight</th>\n",
       "      <th>DistArea_ID</th>\n",
       "      <th>Active_Since</th>\n",
       "      <th>Medicine_MRP</th>\n",
       "      <th>Medicine_Type</th>\n",
       "      <th>SidEffect_Level</th>\n",
       "      <th>Availability_rating</th>\n",
       "      <th>Area_Type</th>\n",
       "      <th>Area_City_Type</th>\n",
       "      <th>Area_dist_level</th>\n",
       "      <th>Counterfeit_Sales</th>\n",
       "      <th>Data</th>\n",
       "    </tr>\n",
       "  </thead>\n",
       "  <tbody>\n",
       "    <tr>\n",
       "      <th>0</th>\n",
       "      <td>13.0</td>\n",
       "      <td>Area046</td>\n",
       "      <td>1995</td>\n",
       "      <td>160.2366</td>\n",
       "      <td>Antimalarial</td>\n",
       "      <td>critical</td>\n",
       "      <td>0.070422</td>\n",
       "      <td>DownTown</td>\n",
       "      <td>Tier 1</td>\n",
       "      <td>Small</td>\n",
       "      <td>1775.5026</td>\n",
       "      <td>Train</td>\n",
       "    </tr>\n",
       "    <tr>\n",
       "      <th>1</th>\n",
       "      <td>7.0</td>\n",
       "      <td>Area027</td>\n",
       "      <td>1983</td>\n",
       "      <td>110.4384</td>\n",
       "      <td>Mstablizers</td>\n",
       "      <td>mild</td>\n",
       "      <td>0.013000</td>\n",
       "      <td>CityLimits</td>\n",
       "      <td>Tier 3</td>\n",
       "      <td>Medium</td>\n",
       "      <td>3069.1520</td>\n",
       "      <td>Train</td>\n",
       "    </tr>\n",
       "    <tr>\n",
       "      <th>2</th>\n",
       "      <td>9.0</td>\n",
       "      <td>Area046</td>\n",
       "      <td>1995</td>\n",
       "      <td>259.4092</td>\n",
       "      <td>Cardiac</td>\n",
       "      <td>mild</td>\n",
       "      <td>0.060783</td>\n",
       "      <td>DownTown</td>\n",
       "      <td>Tier 1</td>\n",
       "      <td>Small</td>\n",
       "      <td>2603.0920</td>\n",
       "      <td>Train</td>\n",
       "    </tr>\n",
       "    <tr>\n",
       "      <th>3</th>\n",
       "      <td>12.0</td>\n",
       "      <td>Area046</td>\n",
       "      <td>1995</td>\n",
       "      <td>99.9830</td>\n",
       "      <td>OralContraceptives</td>\n",
       "      <td>mild</td>\n",
       "      <td>0.065555</td>\n",
       "      <td>DownTown</td>\n",
       "      <td>Tier 1</td>\n",
       "      <td>Small</td>\n",
       "      <td>1101.7130</td>\n",
       "      <td>Train</td>\n",
       "    </tr>\n",
       "    <tr>\n",
       "      <th>4</th>\n",
       "      <td>9.0</td>\n",
       "      <td>Area019</td>\n",
       "      <td>1983</td>\n",
       "      <td>56.4402</td>\n",
       "      <td>Hreplacements</td>\n",
       "      <td>critical</td>\n",
       "      <td>0.248859</td>\n",
       "      <td>MidTownResidential</td>\n",
       "      <td>Tier 1</td>\n",
       "      <td>Small</td>\n",
       "      <td>158.9402</td>\n",
       "      <td>Train</td>\n",
       "    </tr>\n",
       "    <tr>\n",
       "      <th>...</th>\n",
       "      <td>...</td>\n",
       "      <td>...</td>\n",
       "      <td>...</td>\n",
       "      <td>...</td>\n",
       "      <td>...</td>\n",
       "      <td>...</td>\n",
       "      <td>...</td>\n",
       "      <td>...</td>\n",
       "      <td>...</td>\n",
       "      <td>...</td>\n",
       "      <td>...</td>\n",
       "      <td>...</td>\n",
       "    </tr>\n",
       "    <tr>\n",
       "      <th>1700</th>\n",
       "      <td>17.0</td>\n",
       "      <td>Area027</td>\n",
       "      <td>1983</td>\n",
       "      <td>136.5704</td>\n",
       "      <td>Hreplacements</td>\n",
       "      <td>mild</td>\n",
       "      <td>0.050505</td>\n",
       "      <td>CityLimits</td>\n",
       "      <td>Tier 3</td>\n",
       "      <td>Medium</td>\n",
       "      <td>NaN</td>\n",
       "      <td>Test</td>\n",
       "    </tr>\n",
       "    <tr>\n",
       "      <th>1701</th>\n",
       "      <td>21.0</td>\n",
       "      <td>Area035</td>\n",
       "      <td>2002</td>\n",
       "      <td>57.0744</td>\n",
       "      <td>Antibiotics</td>\n",
       "      <td>critical</td>\n",
       "      <td>0.041118</td>\n",
       "      <td>DownTown</td>\n",
       "      <td>Tier 2</td>\n",
       "      <td>Small</td>\n",
       "      <td>NaN</td>\n",
       "      <td>Test</td>\n",
       "    </tr>\n",
       "    <tr>\n",
       "      <th>1702</th>\n",
       "      <td>20.0</td>\n",
       "      <td>Area017</td>\n",
       "      <td>2005</td>\n",
       "      <td>182.7422</td>\n",
       "      <td>Antiseptics</td>\n",
       "      <td>mild</td>\n",
       "      <td>0.191273</td>\n",
       "      <td>DownTown</td>\n",
       "      <td>Tier 2</td>\n",
       "      <td>Unknown</td>\n",
       "      <td>NaN</td>\n",
       "      <td>Test</td>\n",
       "    </tr>\n",
       "    <tr>\n",
       "      <th>1703</th>\n",
       "      <td>20.0</td>\n",
       "      <td>Area018</td>\n",
       "      <td>2007</td>\n",
       "      <td>266.9672</td>\n",
       "      <td>Hreplacements</td>\n",
       "      <td>mild</td>\n",
       "      <td>0.013000</td>\n",
       "      <td>Industrial</td>\n",
       "      <td>Tier 3</td>\n",
       "      <td>Medium</td>\n",
       "      <td>NaN</td>\n",
       "      <td>Test</td>\n",
       "    </tr>\n",
       "    <tr>\n",
       "      <th>1704</th>\n",
       "      <td>8.0</td>\n",
       "      <td>Area045</td>\n",
       "      <td>2000</td>\n",
       "      <td>238.7694</td>\n",
       "      <td>Antibiotics</td>\n",
       "      <td>critical</td>\n",
       "      <td>0.098982</td>\n",
       "      <td>DownTown</td>\n",
       "      <td>Tier 2</td>\n",
       "      <td>Unknown</td>\n",
       "      <td>NaN</td>\n",
       "      <td>Test</td>\n",
       "    </tr>\n",
       "  </tbody>\n",
       "</table>\n",
       "<p>8457 rows × 12 columns</p>\n",
       "</div>"
      ],
      "text/plain": [
       "      Counterfeit_Weight DistArea_ID  Active_Since  Medicine_MRP  \\\n",
       "0                   13.0     Area046          1995      160.2366   \n",
       "1                    7.0     Area027          1983      110.4384   \n",
       "2                    9.0     Area046          1995      259.4092   \n",
       "3                   12.0     Area046          1995       99.9830   \n",
       "4                    9.0     Area019          1983       56.4402   \n",
       "...                  ...         ...           ...           ...   \n",
       "1700                17.0     Area027          1983      136.5704   \n",
       "1701                21.0     Area035          2002       57.0744   \n",
       "1702                20.0     Area017          2005      182.7422   \n",
       "1703                20.0     Area018          2007      266.9672   \n",
       "1704                 8.0     Area045          2000      238.7694   \n",
       "\n",
       "           Medicine_Type SidEffect_Level  Availability_rating  \\\n",
       "0           Antimalarial        critical             0.070422   \n",
       "1            Mstablizers            mild             0.013000   \n",
       "2                Cardiac            mild             0.060783   \n",
       "3     OralContraceptives            mild             0.065555   \n",
       "4          Hreplacements        critical             0.248859   \n",
       "...                  ...             ...                  ...   \n",
       "1700       Hreplacements            mild             0.050505   \n",
       "1701         Antibiotics        critical             0.041118   \n",
       "1702         Antiseptics            mild             0.191273   \n",
       "1703       Hreplacements            mild             0.013000   \n",
       "1704         Antibiotics        critical             0.098982   \n",
       "\n",
       "               Area_Type Area_City_Type Area_dist_level  Counterfeit_Sales  \\\n",
       "0               DownTown         Tier 1           Small          1775.5026   \n",
       "1             CityLimits         Tier 3          Medium          3069.1520   \n",
       "2               DownTown         Tier 1           Small          2603.0920   \n",
       "3               DownTown         Tier 1           Small          1101.7130   \n",
       "4     MidTownResidential         Tier 1           Small           158.9402   \n",
       "...                  ...            ...             ...                ...   \n",
       "1700          CityLimits         Tier 3          Medium                NaN   \n",
       "1701            DownTown         Tier 2           Small                NaN   \n",
       "1702            DownTown         Tier 2         Unknown                NaN   \n",
       "1703          Industrial         Tier 3          Medium                NaN   \n",
       "1704            DownTown         Tier 2         Unknown                NaN   \n",
       "\n",
       "       Data  \n",
       "0     Train  \n",
       "1     Train  \n",
       "2     Train  \n",
       "3     Train  \n",
       "4     Train  \n",
       "...     ...  \n",
       "1700   Test  \n",
       "1701   Test  \n",
       "1702   Test  \n",
       "1703   Test  \n",
       "1704   Test  \n",
       "\n",
       "[8457 rows x 12 columns]"
      ]
     },
     "execution_count": 27,
     "metadata": {},
     "output_type": "execute_result"
    }
   ],
   "source": [
    "file_conc"
   ]
  },
  {
   "cell_type": "code",
   "execution_count": 28,
   "metadata": {},
   "outputs": [
    {
     "data": {
      "text/plain": [
       "(8457, 12)"
      ]
     },
     "execution_count": 28,
     "metadata": {},
     "output_type": "execute_result"
    }
   ],
   "source": [
    "file_conc.shape"
   ]
  },
  {
   "cell_type": "code",
   "execution_count": 29,
   "metadata": {},
   "outputs": [],
   "source": [
    "cat_col = file_conc.select_dtypes(['object']).columns"
   ]
  },
  {
   "cell_type": "code",
   "execution_count": 30,
   "metadata": {},
   "outputs": [
    {
     "data": {
      "text/plain": [
       "Index(['DistArea_ID', 'Medicine_Type', 'SidEffect_Level', 'Area_Type',\n",
       "       'Area_City_Type', 'Area_dist_level', 'Data'],\n",
       "      dtype='object')"
      ]
     },
     "execution_count": 30,
     "metadata": {},
     "output_type": "execute_result"
    }
   ],
   "source": [
    "cat_col"
   ]
  },
  {
   "cell_type": "code",
   "execution_count": 31,
   "metadata": {},
   "outputs": [
    {
     "data": {
      "text/plain": [
       "pandas.core.indexes.base.Index"
      ]
     },
     "execution_count": 31,
     "metadata": {},
     "output_type": "execute_result"
    }
   ],
   "source": [
    "type(cat_col)"
   ]
  },
  {
   "cell_type": "code",
   "execution_count": 32,
   "metadata": {},
   "outputs": [],
   "source": [
    "cat_col =cat_col[:-1]"
   ]
  },
  {
   "cell_type": "code",
   "execution_count": 33,
   "metadata": {},
   "outputs": [
    {
     "data": {
      "text/plain": [
       "Index(['DistArea_ID', 'Medicine_Type', 'SidEffect_Level', 'Area_Type',\n",
       "       'Area_City_Type', 'Area_dist_level'],\n",
       "      dtype='object')"
      ]
     },
     "execution_count": 33,
     "metadata": {},
     "output_type": "execute_result"
    }
   ],
   "source": [
    "cat_col"
   ]
  },
  {
   "cell_type": "code",
   "execution_count": 34,
   "metadata": {},
   "outputs": [
    {
     "data": {
      "text/plain": [
       "SidEffect_Level    1\n",
       "Area_dist_level    1\n",
       "DistArea_ID        1\n",
       "Area_Type          1\n",
       "Area_City_Type     1\n",
       "Medicine_Type      1\n",
       "dtype: int64"
      ]
     },
     "execution_count": 34,
     "metadata": {},
     "output_type": "execute_result"
    }
   ],
   "source": [
    "cat_col.value_counts()"
   ]
  },
  {
   "cell_type": "code",
   "execution_count": 35,
   "metadata": {},
   "outputs": [],
   "source": [
    "# for col in cat_col:\n",
    "#     freqns= file_conc[col].value_counts()\n",
    "#     k = freqns.index[freqns>80][:-1]\n",
    "#     for cat in k:\n",
    "#         name=col+'_'+cat\n",
    "#         file_conc[name]=(file_conc[col]==cat).astype(int)\n",
    "#     del file_conc[col]\n",
    "#     print(col)"
   ]
  },
  {
   "cell_type": "code",
   "execution_count": 36,
   "metadata": {},
   "outputs": [],
   "source": [
    "for col in ['DistArea_ID', 'Medicine_Type', 'SidEffect_Level', 'Area_Type','Area_City_Type', 'Area_dist_level']:\n",
    "            temp = pd.get_dummies(file_conc[col], prefix=col, drop_first=True)\n",
    "            file_conc = pd.concat([temp, file_conc], 1)\n",
    "            file_conc.drop([col],1,inplace=True)"
   ]
  },
  {
   "cell_type": "code",
   "execution_count": 37,
   "metadata": {},
   "outputs": [],
   "source": [
    "# #DistArea_ID , Medicine_Type\n",
    "\n",
    "# import category_encoders as ce\n",
    "\n",
    "# file_conc['DistArea_ID'] = file_conc['DistArea_ID'].replace('Area', '')\n",
    "# be = ce.BinaryEncoder(cols=['DistArea_ID'])\n",
    "# City_code = be.fit_transform(file_conc['DistArea_ID'] , file_conc['Counterfeit_Sales'])\n",
    "# file_conc  = pd.concat([file_conc, City_code] , axis=1)\n",
    "\n",
    "# #del all_data['DistArea_ID_0']\n",
    "# Medicine_type = file_conc['Medicine_Type'].value_counts().to_dict()\n",
    "# file_conc['Medicine_Type'] = file_conc['Medicine_Type'].replace(Medicine_type)\n",
    "\n",
    "# file_conc.drop(['DistArea_ID'], axis=1,inplace=True)\n",
    "# #all_data.drop(['Active_Since'],axis=1,inplace=True)\n",
    "# file_conc.drop('Medicine_Type', axis=1, inplace=True)"
   ]
  },
  {
   "cell_type": "code",
   "execution_count": 38,
   "metadata": {},
   "outputs": [
    {
     "data": {
      "text/plain": [
       "Index(['Area_dist_level_Medium', 'Area_dist_level_Small',\n",
       "       'Area_dist_level_Unknown', 'Area_City_Type_Tier 2',\n",
       "       'Area_City_Type_Tier 3', 'Area_Type_DownTown', 'Area_Type_Industrial',\n",
       "       'Area_Type_MidTownResidential', 'SidEffect_Level_mild',\n",
       "       'Medicine_Type_Antacids', 'Medicine_Type_Antibiotics',\n",
       "       'Medicine_Type_Antifungal', 'Medicine_Type_Antimalarial',\n",
       "       'Medicine_Type_Antipyretics', 'Medicine_Type_Antiseptics',\n",
       "       'Medicine_Type_Antiviral', 'Medicine_Type_Cardiac',\n",
       "       'Medicine_Type_Hreplacements', 'Medicine_Type_Mstablizers',\n",
       "       'Medicine_Type_MuscleRelaxants', 'Medicine_Type_OralContraceptives',\n",
       "       'Medicine_Type_Statins', 'Medicine_Type_Stimulants',\n",
       "       'Medicine_Type_Tranquilizers', 'DistArea_ID_Area013',\n",
       "       'DistArea_ID_Area017', 'DistArea_ID_Area018', 'DistArea_ID_Area019',\n",
       "       'DistArea_ID_Area027', 'DistArea_ID_Area035', 'DistArea_ID_Area045',\n",
       "       'DistArea_ID_Area046', 'DistArea_ID_Area049', 'Counterfeit_Weight',\n",
       "       'Active_Since', 'Medicine_MRP', 'Availability_rating',\n",
       "       'Counterfeit_Sales', 'Data'],\n",
       "      dtype='object')"
      ]
     },
     "execution_count": 38,
     "metadata": {},
     "output_type": "execute_result"
    }
   ],
   "source": [
    "file_conc.columns"
   ]
  },
  {
   "cell_type": "code",
   "execution_count": 39,
   "metadata": {},
   "outputs": [
    {
     "data": {
      "text/plain": [
       "Area_dist_level_Medium                uint8\n",
       "Area_dist_level_Small                 uint8\n",
       "Area_dist_level_Unknown               uint8\n",
       "Area_City_Type_Tier 2                 uint8\n",
       "Area_City_Type_Tier 3                 uint8\n",
       "Area_Type_DownTown                    uint8\n",
       "Area_Type_Industrial                  uint8\n",
       "Area_Type_MidTownResidential          uint8\n",
       "SidEffect_Level_mild                  uint8\n",
       "Medicine_Type_Antacids                uint8\n",
       "Medicine_Type_Antibiotics             uint8\n",
       "Medicine_Type_Antifungal              uint8\n",
       "Medicine_Type_Antimalarial            uint8\n",
       "Medicine_Type_Antipyretics            uint8\n",
       "Medicine_Type_Antiseptics             uint8\n",
       "Medicine_Type_Antiviral               uint8\n",
       "Medicine_Type_Cardiac                 uint8\n",
       "Medicine_Type_Hreplacements           uint8\n",
       "Medicine_Type_Mstablizers             uint8\n",
       "Medicine_Type_MuscleRelaxants         uint8\n",
       "Medicine_Type_OralContraceptives      uint8\n",
       "Medicine_Type_Statins                 uint8\n",
       "Medicine_Type_Stimulants              uint8\n",
       "Medicine_Type_Tranquilizers           uint8\n",
       "DistArea_ID_Area013                   uint8\n",
       "DistArea_ID_Area017                   uint8\n",
       "DistArea_ID_Area018                   uint8\n",
       "DistArea_ID_Area019                   uint8\n",
       "DistArea_ID_Area027                   uint8\n",
       "DistArea_ID_Area035                   uint8\n",
       "DistArea_ID_Area045                   uint8\n",
       "DistArea_ID_Area046                   uint8\n",
       "DistArea_ID_Area049                   uint8\n",
       "Counterfeit_Weight                  float64\n",
       "Active_Since                          int64\n",
       "Medicine_MRP                        float64\n",
       "Availability_rating                 float64\n",
       "Counterfeit_Sales                   float64\n",
       "Data                                 object\n",
       "dtype: object"
      ]
     },
     "execution_count": 39,
     "metadata": {},
     "output_type": "execute_result"
    }
   ],
   "source": [
    "file_conc.dtypes"
   ]
  },
  {
   "cell_type": "code",
   "execution_count": 40,
   "metadata": {},
   "outputs": [
    {
     "data": {
      "text/plain": [
       "(8457, 39)"
      ]
     },
     "execution_count": 40,
     "metadata": {},
     "output_type": "execute_result"
    }
   ],
   "source": [
    "file_conc.shape"
   ]
  },
  {
   "cell_type": "code",
   "execution_count": 41,
   "metadata": {},
   "outputs": [
    {
     "data": {
      "text/plain": [
       "Area_dist_level_Medium              0\n",
       "Area_dist_level_Small               0\n",
       "Area_dist_level_Unknown             0\n",
       "Area_City_Type_Tier 2               0\n",
       "Area_City_Type_Tier 3               0\n",
       "Area_Type_DownTown                  0\n",
       "Area_Type_Industrial                0\n",
       "Area_Type_MidTownResidential        0\n",
       "SidEffect_Level_mild                0\n",
       "Medicine_Type_Antacids              0\n",
       "Medicine_Type_Antibiotics           0\n",
       "Medicine_Type_Antifungal            0\n",
       "Medicine_Type_Antimalarial          0\n",
       "Medicine_Type_Antipyretics          0\n",
       "Medicine_Type_Antiseptics           0\n",
       "Medicine_Type_Antiviral             0\n",
       "Medicine_Type_Cardiac               0\n",
       "Medicine_Type_Hreplacements         0\n",
       "Medicine_Type_Mstablizers           0\n",
       "Medicine_Type_MuscleRelaxants       0\n",
       "Medicine_Type_OralContraceptives    0\n",
       "Medicine_Type_Statins               0\n",
       "Medicine_Type_Stimulants            0\n",
       "Medicine_Type_Tranquilizers         0\n",
       "DistArea_ID_Area013                 0\n",
       "DistArea_ID_Area017                 0\n",
       "DistArea_ID_Area018                 0\n",
       "DistArea_ID_Area019                 0\n",
       "DistArea_ID_Area027                 0\n",
       "DistArea_ID_Area035                 0\n",
       "DistArea_ID_Area045                 0\n",
       "DistArea_ID_Area046                 0\n",
       "DistArea_ID_Area049                 0\n",
       "Counterfeit_Weight                  0\n",
       "Active_Since                        0\n",
       "Medicine_MRP                        0\n",
       "Availability_rating                 0\n",
       "Counterfeit_Sales                   0\n",
       "Data                                0\n",
       "dtype: int64"
      ]
     },
     "execution_count": 41,
     "metadata": {},
     "output_type": "execute_result"
    }
   ],
   "source": [
    "file_conc.loc[file_conc['Data'] == 'Train'].isnull().sum()"
   ]
  },
  {
   "cell_type": "code",
   "execution_count": 42,
   "metadata": {},
   "outputs": [
    {
     "data": {
      "text/plain": [
       "Area_dist_level_Medium                 0\n",
       "Area_dist_level_Small                  0\n",
       "Area_dist_level_Unknown                0\n",
       "Area_City_Type_Tier 2                  0\n",
       "Area_City_Type_Tier 3                  0\n",
       "Area_Type_DownTown                     0\n",
       "Area_Type_Industrial                   0\n",
       "Area_Type_MidTownResidential           0\n",
       "SidEffect_Level_mild                   0\n",
       "Medicine_Type_Antacids                 0\n",
       "Medicine_Type_Antibiotics              0\n",
       "Medicine_Type_Antifungal               0\n",
       "Medicine_Type_Antimalarial             0\n",
       "Medicine_Type_Antipyretics             0\n",
       "Medicine_Type_Antiseptics              0\n",
       "Medicine_Type_Antiviral                0\n",
       "Medicine_Type_Cardiac                  0\n",
       "Medicine_Type_Hreplacements            0\n",
       "Medicine_Type_Mstablizers              0\n",
       "Medicine_Type_MuscleRelaxants          0\n",
       "Medicine_Type_OralContraceptives       0\n",
       "Medicine_Type_Statins                  0\n",
       "Medicine_Type_Stimulants               0\n",
       "Medicine_Type_Tranquilizers            0\n",
       "DistArea_ID_Area013                    0\n",
       "DistArea_ID_Area017                    0\n",
       "DistArea_ID_Area018                    0\n",
       "DistArea_ID_Area019                    0\n",
       "DistArea_ID_Area027                    0\n",
       "DistArea_ID_Area035                    0\n",
       "DistArea_ID_Area045                    0\n",
       "DistArea_ID_Area046                    0\n",
       "DistArea_ID_Area049                    0\n",
       "Counterfeit_Weight                     0\n",
       "Active_Since                           0\n",
       "Medicine_MRP                           0\n",
       "Availability_rating                    0\n",
       "Counterfeit_Sales                   1705\n",
       "Data                                   0\n",
       "dtype: int64"
      ]
     },
     "execution_count": 42,
     "metadata": {},
     "output_type": "execute_result"
    }
   ],
   "source": [
    "file_conc.loc[file_conc['Data'] == 'Test'].isnull().sum()"
   ]
  },
  {
   "cell_type": "code",
   "execution_count": 43,
   "metadata": {},
   "outputs": [],
   "source": [
    "train_data = file_conc[file_conc['Data'] =='Train']\n",
    "del train_data['Data']"
   ]
  },
  {
   "cell_type": "code",
   "execution_count": 44,
   "metadata": {},
   "outputs": [
    {
     "data": {
      "text/plain": [
       "Area_dist_level_Medium              0\n",
       "Area_dist_level_Small               0\n",
       "Area_dist_level_Unknown             0\n",
       "Area_City_Type_Tier 2               0\n",
       "Area_City_Type_Tier 3               0\n",
       "Area_Type_DownTown                  0\n",
       "Area_Type_Industrial                0\n",
       "Area_Type_MidTownResidential        0\n",
       "SidEffect_Level_mild                0\n",
       "Medicine_Type_Antacids              0\n",
       "Medicine_Type_Antibiotics           0\n",
       "Medicine_Type_Antifungal            0\n",
       "Medicine_Type_Antimalarial          0\n",
       "Medicine_Type_Antipyretics          0\n",
       "Medicine_Type_Antiseptics           0\n",
       "Medicine_Type_Antiviral             0\n",
       "Medicine_Type_Cardiac               0\n",
       "Medicine_Type_Hreplacements         0\n",
       "Medicine_Type_Mstablizers           0\n",
       "Medicine_Type_MuscleRelaxants       0\n",
       "Medicine_Type_OralContraceptives    0\n",
       "Medicine_Type_Statins               0\n",
       "Medicine_Type_Stimulants            0\n",
       "Medicine_Type_Tranquilizers         0\n",
       "DistArea_ID_Area013                 0\n",
       "DistArea_ID_Area017                 0\n",
       "DistArea_ID_Area018                 0\n",
       "DistArea_ID_Area019                 0\n",
       "DistArea_ID_Area027                 0\n",
       "DistArea_ID_Area035                 0\n",
       "DistArea_ID_Area045                 0\n",
       "DistArea_ID_Area046                 0\n",
       "DistArea_ID_Area049                 0\n",
       "Counterfeit_Weight                  0\n",
       "Active_Since                        0\n",
       "Medicine_MRP                        0\n",
       "Availability_rating                 0\n",
       "Counterfeit_Sales                   0\n",
       "dtype: int64"
      ]
     },
     "execution_count": 44,
     "metadata": {},
     "output_type": "execute_result"
    }
   ],
   "source": [
    "train_data.isnull().sum()"
   ]
  },
  {
   "cell_type": "code",
   "execution_count": 45,
   "metadata": {},
   "outputs": [],
   "source": [
    "test_data = file_conc[file_conc['Data']=='Test']\n",
    "test_data.drop (['Counterfeit_Sales', 'Data'], axis=1, inplace = True)\n",
    "# del test_data['Data']\n",
    "# del test_data['Counterfeit_Sales'] "
   ]
  },
  {
   "cell_type": "code",
   "execution_count": 46,
   "metadata": {},
   "outputs": [
    {
     "data": {
      "text/plain": [
       "Area_dist_level_Medium              0\n",
       "Area_dist_level_Small               0\n",
       "Area_dist_level_Unknown             0\n",
       "Area_City_Type_Tier 2               0\n",
       "Area_City_Type_Tier 3               0\n",
       "Area_Type_DownTown                  0\n",
       "Area_Type_Industrial                0\n",
       "Area_Type_MidTownResidential        0\n",
       "SidEffect_Level_mild                0\n",
       "Medicine_Type_Antacids              0\n",
       "Medicine_Type_Antibiotics           0\n",
       "Medicine_Type_Antifungal            0\n",
       "Medicine_Type_Antimalarial          0\n",
       "Medicine_Type_Antipyretics          0\n",
       "Medicine_Type_Antiseptics           0\n",
       "Medicine_Type_Antiviral             0\n",
       "Medicine_Type_Cardiac               0\n",
       "Medicine_Type_Hreplacements         0\n",
       "Medicine_Type_Mstablizers           0\n",
       "Medicine_Type_MuscleRelaxants       0\n",
       "Medicine_Type_OralContraceptives    0\n",
       "Medicine_Type_Statins               0\n",
       "Medicine_Type_Stimulants            0\n",
       "Medicine_Type_Tranquilizers         0\n",
       "DistArea_ID_Area013                 0\n",
       "DistArea_ID_Area017                 0\n",
       "DistArea_ID_Area018                 0\n",
       "DistArea_ID_Area019                 0\n",
       "DistArea_ID_Area027                 0\n",
       "DistArea_ID_Area035                 0\n",
       "DistArea_ID_Area045                 0\n",
       "DistArea_ID_Area046                 0\n",
       "DistArea_ID_Area049                 0\n",
       "Counterfeit_Weight                  0\n",
       "Active_Since                        0\n",
       "Medicine_MRP                        0\n",
       "Availability_rating                 0\n",
       "dtype: int64"
      ]
     },
     "execution_count": 46,
     "metadata": {},
     "output_type": "execute_result"
    }
   ],
   "source": [
    "test_data.isnull().sum()"
   ]
  },
  {
   "cell_type": "code",
   "execution_count": 47,
   "metadata": {},
   "outputs": [],
   "source": [
    "# del file_conc"
   ]
  },
  {
   "cell_type": "code",
   "execution_count": 48,
   "metadata": {},
   "outputs": [],
   "source": [
    "from sklearn.model_selection import train_test_split"
   ]
  },
  {
   "cell_type": "code",
   "execution_count": 49,
   "metadata": {},
   "outputs": [],
   "source": [
    "train1, train2 = train_test_split(train_data, test_size = 0.2, random_state=2)"
   ]
  },
  {
   "cell_type": "code",
   "execution_count": 50,
   "metadata": {},
   "outputs": [],
   "source": [
    "x_train1 = train1.drop('Counterfeit_Sales', axis=1)\n",
    "y_train1 = train1['Counterfeit_Sales']\n",
    "x_train2 = train2.drop('Counterfeit_Sales', axis=1)\n",
    "y_train2 = train2['Counterfeit_Sales']"
   ]
  },
  {
   "cell_type": "code",
   "execution_count": 51,
   "metadata": {},
   "outputs": [],
   "source": [
    "from sklearn.linear_model import LinearRegression"
   ]
  },
  {
   "cell_type": "code",
   "execution_count": 52,
   "metadata": {},
   "outputs": [
    {
     "data": {
      "text/plain": [
       "LinearRegression(copy_X=True, fit_intercept=True, n_jobs=None, normalize=False)"
      ]
     },
     "execution_count": 52,
     "metadata": {},
     "output_type": "execute_result"
    }
   ],
   "source": [
    "lr = LinearRegression()\n",
    "lr.fit(x_train1,y_train1)"
   ]
  },
  {
   "cell_type": "code",
   "execution_count": 53,
   "metadata": {},
   "outputs": [
    {
     "data": {
      "text/plain": [
       "(5401, 37)"
      ]
     },
     "execution_count": 53,
     "metadata": {},
     "output_type": "execute_result"
    }
   ],
   "source": [
    "x_train1.shape"
   ]
  },
  {
   "cell_type": "code",
   "execution_count": 54,
   "metadata": {},
   "outputs": [
    {
     "data": {
      "text/plain": [
       "(5401,)"
      ]
     },
     "execution_count": 54,
     "metadata": {},
     "output_type": "execute_result"
    }
   ],
   "source": [
    "y_train1.shape"
   ]
  },
  {
   "cell_type": "code",
   "execution_count": 55,
   "metadata": {},
   "outputs": [
    {
     "data": {
      "text/plain": [
       "51817.94510669846"
      ]
     },
     "execution_count": 55,
     "metadata": {},
     "output_type": "execute_result"
    }
   ],
   "source": [
    "lr.intercept_"
   ]
  },
  {
   "cell_type": "code",
   "execution_count": 56,
   "metadata": {},
   "outputs": [
    {
     "data": {
      "text/plain": [
       "[('Area_dist_level_Medium', 534.1395400619714),\n",
       " ('Area_dist_level_Small', -111.75558981744166),\n",
       " ('Area_dist_level_Unknown', -286.51014740814986),\n",
       " ('Area_City_Type_Tier 2', 460.75565901204766),\n",
       " ('Area_City_Type_Tier 3', 19.11282489492355),\n",
       " ('Area_Type_DownTown', 327.15183279204297),\n",
       " ('Area_Type_Industrial', -24.700393587559613),\n",
       " ('Area_Type_MidTownResidential', -1112.5243079159075),\n",
       " ('SidEffect_Level_mild', 0.1580306685123152),\n",
       " ('Medicine_Type_Antacids', 21.455141587822304),\n",
       " ('Medicine_Type_Antibiotics', 59.316485853803606),\n",
       " ('Medicine_Type_Antifungal', 71.567719568153),\n",
       " ('Medicine_Type_Antimalarial', 7.6393297439803485),\n",
       " ('Medicine_Type_Antipyretics', -113.20507481064885),\n",
       " ('Medicine_Type_Antiseptics', -38.70649695191906),\n",
       " ('Medicine_Type_Antiviral', 223.72783847489274),\n",
       " ('Medicine_Type_Cardiac', 62.350292963529164),\n",
       " ('Medicine_Type_Hreplacements', -59.95561466821411),\n",
       " ('Medicine_Type_Mstablizers', 16.835950566482758),\n",
       " ('Medicine_Type_MuscleRelaxants', 40.74325441515732),\n",
       " ('Medicine_Type_OralContraceptives', -26.79326646495949),\n",
       " ('Medicine_Type_Statins', -4.394569915201594),\n",
       " ('Medicine_Type_Stimulants', 37.651063803842916),\n",
       " ('Medicine_Type_Tranquilizers', -8.724847799546058),\n",
       " ('DistArea_ID_Area013', -135.87380283638535),\n",
       " ('DistArea_ID_Area017', 288.4186137449653),\n",
       " ('DistArea_ID_Area018', -24.70039358755805),\n",
       " ('DistArea_ID_Area019', -482.1384605233518),\n",
       " ('DistArea_ID_Area027', 810.0728687114117),\n",
       " ('DistArea_ID_Area035', 116.87995902765205),\n",
       " ('DistArea_ID_Area045', 55.4570862394338),\n",
       " ('DistArea_ID_Area046', 253.50291167827234),\n",
       " ('DistArea_ID_Area049', -251.2329350618862),\n",
       " ('Counterfeit_Weight', -4.188635570195723),\n",
       " ('Active_Since', -26.1000286195312),\n",
       " ('Medicine_MRP', 14.715412196486138),\n",
       " ('Availability_rating', -285.5443660494594)]"
      ]
     },
     "execution_count": 56,
     "metadata": {},
     "output_type": "execute_result"
    }
   ],
   "source": [
    "list(zip(x_train1.columns, lr.coef_))"
   ]
  },
  {
   "cell_type": "code",
   "execution_count": 57,
   "metadata": {},
   "outputs": [],
   "source": []
  },
  {
   "cell_type": "code",
   "execution_count": 58,
   "metadata": {},
   "outputs": [
    {
     "data": {
      "text/plain": [
       "(1351, 37)"
      ]
     },
     "execution_count": 58,
     "metadata": {},
     "output_type": "execute_result"
    }
   ],
   "source": [
    "x_train2.shape"
   ]
  },
  {
   "cell_type": "code",
   "execution_count": 59,
   "metadata": {},
   "outputs": [
    {
     "data": {
      "text/plain": [
       "(1351,)"
      ]
     },
     "execution_count": 59,
     "metadata": {},
     "output_type": "execute_result"
    }
   ],
   "source": [
    "y_train2.shape"
   ]
  },
  {
   "cell_type": "code",
   "execution_count": 60,
   "metadata": {},
   "outputs": [],
   "source": [
    "predicted_sales = lr.predict(x_train2)"
   ]
  },
  {
   "cell_type": "code",
   "execution_count": 61,
   "metadata": {},
   "outputs": [
    {
     "data": {
      "text/plain": [
       "array([2743.91748967, 1513.59865503, 5293.36024902, ..., 1916.73270006,\n",
       "       3603.33786586, 1866.47965879])"
      ]
     },
     "execution_count": 61,
     "metadata": {},
     "output_type": "execute_result"
    }
   ],
   "source": [
    "predicted_sales"
   ]
  },
  {
   "cell_type": "code",
   "execution_count": 62,
   "metadata": {},
   "outputs": [],
   "source": [
    "from sklearn.metrics import mean_absolute_error"
   ]
  },
  {
   "cell_type": "code",
   "execution_count": 63,
   "metadata": {},
   "outputs": [
    {
     "data": {
      "text/plain": [
       "796.2759238132572"
      ]
     },
     "execution_count": 63,
     "metadata": {},
     "output_type": "execute_result"
    }
   ],
   "source": [
    "mean_absolute_error(y_train2,predicted_sales)"
   ]
  },
  {
   "cell_type": "code",
   "execution_count": 64,
   "metadata": {},
   "outputs": [],
   "source": [
    "x_train = train_data.drop('Counterfeit_Sales',axis=1)\n",
    "y_train = train_data['Counterfeit_Sales']"
   ]
  },
  {
   "cell_type": "code",
   "execution_count": 65,
   "metadata": {},
   "outputs": [
    {
     "data": {
      "text/plain": [
       "LinearRegression(copy_X=True, fit_intercept=True, n_jobs=None, normalize=False)"
      ]
     },
     "execution_count": 65,
     "metadata": {},
     "output_type": "execute_result"
    }
   ],
   "source": [
    "lr.fit(x_train,y_train)"
   ]
  },
  {
   "cell_type": "code",
   "execution_count": 66,
   "metadata": {},
   "outputs": [],
   "source": [
    "test_pred_sales = lr.predict(test_data)"
   ]
  },
  {
   "cell_type": "code",
   "execution_count": 67,
   "metadata": {},
   "outputs": [
    {
     "data": {
      "text/plain": [
       "(1705,)"
      ]
     },
     "execution_count": 67,
     "metadata": {},
     "output_type": "execute_result"
    }
   ],
   "source": [
    "test_pred_sales.shape"
   ]
  },
  {
   "cell_type": "code",
   "execution_count": 68,
   "metadata": {},
   "outputs": [
    {
     "data": {
      "text/plain": [
       "[('Area_dist_level_Medium', 532.6075456244698),\n",
       " ('Area_dist_level_Small', -112.9051882486007),\n",
       " ('Area_dist_level_Unknown', -294.07679440526306),\n",
       " ('Area_City_Type_Tier 2', 456.3643737952828),\n",
       " ('Area_City_Type_Tier 3', 17.806597567853295),\n",
       " ('Area_Type_DownTown', 328.8444215313003),\n",
       " ('Area_Type_Industrial', -21.799945758566743),\n",
       " ('Area_Type_MidTownResidential', -1109.8129175290874),\n",
       " ('SidEffect_Level_mild', -16.278102629743135),\n",
       " ('Medicine_Type_Antacids', 45.50535734821201),\n",
       " ('Medicine_Type_Antibiotics', 45.519178276509),\n",
       " ('Medicine_Type_Antifungal', 32.80353799457946),\n",
       " ('Medicine_Type_Antimalarial', -8.689673061102786),\n",
       " ('Medicine_Type_Antipyretics', -109.07673229553717),\n",
       " ('Medicine_Type_Antiseptics', -12.50958383188259),\n",
       " ('Medicine_Type_Antiviral', 343.610531621805),\n",
       " ('Medicine_Type_Cardiac', 64.96901602294737),\n",
       " ('Medicine_Type_Hreplacements', 1.1911640788706515),\n",
       " ('Medicine_Type_Mstablizers', 18.618736695064303),\n",
       " ('Medicine_Type_MuscleRelaxants', 77.93637175488689),\n",
       " ('Medicine_Type_OralContraceptives', -12.470673644054969),\n",
       " ('Medicine_Type_Statins', 33.38704764499263),\n",
       " ('Medicine_Type_Stimulants', 31.756364025091003),\n",
       " ('Medicine_Type_Tranquilizers', -7.00776973545014),\n",
       " ('DistArea_ID_Area013', -125.62556297060353),\n",
       " ('DistArea_ID_Area017', 314.5757949142162),\n",
       " ('DistArea_ID_Area018', -21.799945758574005),\n",
       " ('DistArea_ID_Area019', -472.2765820697599),\n",
       " ('DistArea_ID_Area027', 802.7684417563718),\n",
       " ('DistArea_ID_Area035', 112.90483274119326),\n",
       " ('DistArea_ID_Area045', 28.883746139877907),\n",
       " ('DistArea_ID_Area046', 246.46656107994673),\n",
       " ('DistArea_ID_Area049', -248.36095037332734),\n",
       " ('Counterfeit_Weight', -2.509034961734035),\n",
       " ('Active_Since', -24.99376281233278),\n",
       " ('Medicine_MRP', 14.667232768180247),\n",
       " ('Availability_rating', -187.78902158131066)]"
      ]
     },
     "execution_count": 68,
     "metadata": {},
     "output_type": "execute_result"
    }
   ],
   "source": [
    "list(zip(x_train.columns, lr.coef_))"
   ]
  },
  {
   "cell_type": "code",
   "execution_count": 75,
   "metadata": {},
   "outputs": [],
   "source": [
    "pd.DataFrame(test_pred_sales).to_csv('project3_LinReg.csv',index=False)"
   ]
  },
  {
   "cell_type": "markdown",
   "metadata": {},
   "source": [
    "## Ridge "
   ]
  },
  {
   "cell_type": "code",
   "execution_count": 69,
   "metadata": {},
   "outputs": [],
   "source": [
    "from sklearn.linear_model import Ridge\n",
    "from sklearn.model_selection import GridSearchCV"
   ]
  },
  {
   "cell_type": "code",
   "execution_count": 70,
   "metadata": {},
   "outputs": [],
   "source": [
    "lambdas = np.linspace(1,100,100)\n",
    "params = {'alpha':lambdas}\n",
    "model = Ridge(fit_intercept = True)"
   ]
  },
  {
   "cell_type": "code",
   "execution_count": 71,
   "metadata": {},
   "outputs": [],
   "source": [
    "grid_search = GridSearchCV(model, param_grid = params, cv=10, scoring = 'neg_mean_absolute_error')"
   ]
  },
  {
   "cell_type": "code",
   "execution_count": 72,
   "metadata": {
    "scrolled": true
   },
   "outputs": [
    {
     "data": {
      "text/plain": [
       "GridSearchCV(cv=10, error_score=nan,\n",
       "             estimator=Ridge(alpha=1.0, copy_X=True, fit_intercept=True,\n",
       "                             max_iter=None, normalize=False, random_state=None,\n",
       "                             solver='auto', tol=0.001),\n",
       "             iid='deprecated', n_jobs=None,\n",
       "             param_grid={'alpha': array([  1.,   2.,   3.,   4.,   5.,   6.,   7.,   8.,   9.,  10.,  11.,\n",
       "        12.,  13.,  14.,  15.,  16.,  17.,  18.,  19.,  20.,  21.,  22.,\n",
       "        23.,  24.,  25.,  26.,  27.,  28.,  29.,  30.,  31.,  32.,  33.,\n",
       "        34.,  35....,  41.,  42.,  43.,  44.,\n",
       "        45.,  46.,  47.,  48.,  49.,  50.,  51.,  52.,  53.,  54.,  55.,\n",
       "        56.,  57.,  58.,  59.,  60.,  61.,  62.,  63.,  64.,  65.,  66.,\n",
       "        67.,  68.,  69.,  70.,  71.,  72.,  73.,  74.,  75.,  76.,  77.,\n",
       "        78.,  79.,  80.,  81.,  82.,  83.,  84.,  85.,  86.,  87.,  88.,\n",
       "        89.,  90.,  91.,  92.,  93.,  94.,  95.,  96.,  97.,  98.,  99.,\n",
       "       100.])},\n",
       "             pre_dispatch='2*n_jobs', refit=True, return_train_score=False,\n",
       "             scoring='neg_mean_absolute_error', verbose=0)"
      ]
     },
     "execution_count": 72,
     "metadata": {},
     "output_type": "execute_result"
    }
   ],
   "source": [
    "grid_search.fit(x_train1,y_train1)"
   ]
  },
  {
   "cell_type": "code",
   "execution_count": 73,
   "metadata": {},
   "outputs": [
    {
     "data": {
      "text/plain": [
       "Ridge(alpha=45.0, copy_X=True, fit_intercept=True, max_iter=None,\n",
       "      normalize=False, random_state=None, solver='auto', tol=0.001)"
      ]
     },
     "execution_count": 73,
     "metadata": {},
     "output_type": "execute_result"
    }
   ],
   "source": [
    "grid_search.best_estimator_"
   ]
  },
  {
   "cell_type": "code",
   "execution_count": 74,
   "metadata": {},
   "outputs": [],
   "source": [
    "pred_sal_rid = grid_search.predict(x_train2)"
   ]
  },
  {
   "cell_type": "code",
   "execution_count": 75,
   "metadata": {},
   "outputs": [
    {
     "data": {
      "text/plain": [
       "array([2725.92733917, 1494.17396522, 5230.95133444, ..., 1941.51926234,\n",
       "       3599.90060433, 1884.21084486])"
      ]
     },
     "execution_count": 75,
     "metadata": {},
     "output_type": "execute_result"
    }
   ],
   "source": [
    "pred_sal_rid"
   ]
  },
  {
   "cell_type": "code",
   "execution_count": 76,
   "metadata": {},
   "outputs": [
    {
     "data": {
      "text/plain": [
       "794.9186968407596"
      ]
     },
     "execution_count": 76,
     "metadata": {},
     "output_type": "execute_result"
    }
   ],
   "source": [
    "mean_absolute_error(y_train2,pred_sal_rid)"
   ]
  },
  {
   "cell_type": "markdown",
   "metadata": {},
   "source": [
    "## Using Ridge on entire training data."
   ]
  },
  {
   "cell_type": "code",
   "execution_count": 77,
   "metadata": {},
   "outputs": [],
   "source": [
    "lambdas = np.linspace(1, 100, 100)\n",
    "params = {'alpha':lambdas}\n",
    "model = Ridge(fit_intercept = True)"
   ]
  },
  {
   "cell_type": "code",
   "execution_count": 78,
   "metadata": {},
   "outputs": [],
   "source": [
    "grid_search = GridSearchCV(model, param_grid = params, cv=10, scoring = 'neg_mean_absolute_error')"
   ]
  },
  {
   "cell_type": "code",
   "execution_count": 79,
   "metadata": {},
   "outputs": [
    {
     "data": {
      "text/plain": [
       "GridSearchCV(cv=10, error_score=nan,\n",
       "             estimator=Ridge(alpha=1.0, copy_X=True, fit_intercept=True,\n",
       "                             max_iter=None, normalize=False, random_state=None,\n",
       "                             solver='auto', tol=0.001),\n",
       "             iid='deprecated', n_jobs=None,\n",
       "             param_grid={'alpha': array([  1.,   2.,   3.,   4.,   5.,   6.,   7.,   8.,   9.,  10.,  11.,\n",
       "        12.,  13.,  14.,  15.,  16.,  17.,  18.,  19.,  20.,  21.,  22.,\n",
       "        23.,  24.,  25.,  26.,  27.,  28.,  29.,  30.,  31.,  32.,  33.,\n",
       "        34.,  35....,  41.,  42.,  43.,  44.,\n",
       "        45.,  46.,  47.,  48.,  49.,  50.,  51.,  52.,  53.,  54.,  55.,\n",
       "        56.,  57.,  58.,  59.,  60.,  61.,  62.,  63.,  64.,  65.,  66.,\n",
       "        67.,  68.,  69.,  70.,  71.,  72.,  73.,  74.,  75.,  76.,  77.,\n",
       "        78.,  79.,  80.,  81.,  82.,  83.,  84.,  85.,  86.,  87.,  88.,\n",
       "        89.,  90.,  91.,  92.,  93.,  94.,  95.,  96.,  97.,  98.,  99.,\n",
       "       100.])},\n",
       "             pre_dispatch='2*n_jobs', refit=True, return_train_score=False,\n",
       "             scoring='neg_mean_absolute_error', verbose=0)"
      ]
     },
     "execution_count": 79,
     "metadata": {},
     "output_type": "execute_result"
    }
   ],
   "source": [
    "grid_search.fit(x_train,y_train)"
   ]
  },
  {
   "cell_type": "code",
   "execution_count": 80,
   "metadata": {},
   "outputs": [
    {
     "data": {
      "text/plain": [
       "Ridge(alpha=63.0, copy_X=True, fit_intercept=True, max_iter=None,\n",
       "      normalize=False, random_state=None, solver='auto', tol=0.001)"
      ]
     },
     "execution_count": 80,
     "metadata": {},
     "output_type": "execute_result"
    }
   ],
   "source": [
    "grid_search.best_estimator_"
   ]
  },
  {
   "cell_type": "code",
   "execution_count": 81,
   "metadata": {},
   "outputs": [
    {
     "data": {
      "text/plain": [
       "{'mean_fit_time': array([0.0118278 , 0.01097901, 0.01189396, 0.01196334, 0.01311669,\n",
       "        0.01242297, 0.011221  , 0.0115051 , 0.01156967, 0.01201985,\n",
       "        0.01249208, 0.01282501, 0.01296685, 0.01244955, 0.0131187 ,\n",
       "        0.01218913, 0.0127188 , 0.01156747, 0.01232944, 0.01260817,\n",
       "        0.01359558, 0.01291034, 0.0126363 , 0.01246138, 0.01173356,\n",
       "        0.01177535, 0.01198452, 0.00986242, 0.00931511, 0.01094809,\n",
       "        0.0128346 , 0.01277647, 0.00822122, 0.00684135, 0.0122503 ,\n",
       "        0.00978336, 0.01162627, 0.01172943, 0.01344266, 0.01178126,\n",
       "        0.01173551, 0.01265869, 0.01252432, 0.01166697, 0.01256773,\n",
       "        0.01144793, 0.01197782, 0.01247716, 0.01266739, 0.01283009,\n",
       "        0.01209748, 0.01216352, 0.01224663, 0.01251633, 0.01238122,\n",
       "        0.01304526, 0.01197846, 0.0123467 , 0.0129133 , 0.01253169,\n",
       "        0.01239684, 0.01239784, 0.0127058 , 0.01229417, 0.01200442,\n",
       "        0.0124958 , 0.01229882, 0.01252055, 0.01261401, 0.01268947,\n",
       "        0.01420255, 0.01263869, 0.01251681, 0.01306508, 0.01260715,\n",
       "        0.01204941, 0.00748942, 0.00595298, 0.00620003, 0.0061039 ,\n",
       "        0.00794082, 0.006394  , 0.00762973, 0.01021361, 0.00601609,\n",
       "        0.00681937, 0.00896199, 0.00751173, 0.0118854 , 0.0119967 ,\n",
       "        0.01153603, 0.0128643 , 0.01363428, 0.01266742, 0.01258433,\n",
       "        0.01156499, 0.01401761, 0.01259267, 0.01163933, 0.01235011]),\n",
       " 'std_fit_time': array([0.00153901, 0.00128988, 0.0010932 , 0.00132003, 0.00153548,\n",
       "        0.00035343, 0.00199657, 0.00131275, 0.00096175, 0.00076935,\n",
       "        0.0004863 , 0.00056786, 0.00069642, 0.00047959, 0.00035068,\n",
       "        0.00093498, 0.001156  , 0.00100346, 0.00086939, 0.00059723,\n",
       "        0.00160998, 0.00123054, 0.00057928, 0.00039277, 0.00100214,\n",
       "        0.00106607, 0.00154671, 0.00315274, 0.00268136, 0.00268142,\n",
       "        0.00059294, 0.00049657, 0.00272559, 0.00140121, 0.00103995,\n",
       "        0.00246272, 0.00152447, 0.00148599, 0.00180158, 0.00153787,\n",
       "        0.00181284, 0.0006535 , 0.00035591, 0.00106108, 0.0010435 ,\n",
       "        0.00147647, 0.00164333, 0.00073209, 0.00140888, 0.00100783,\n",
       "        0.00092641, 0.00063431, 0.00052609, 0.00093497, 0.00073987,\n",
       "        0.00072097, 0.00158402, 0.00072015, 0.00041128, 0.00045562,\n",
       "        0.00056581, 0.00079065, 0.00088411, 0.00135342, 0.00082742,\n",
       "        0.00167355, 0.00114703, 0.00062927, 0.00059093, 0.00078058,\n",
       "        0.00117456, 0.00079988, 0.00109184, 0.00079614, 0.00068781,\n",
       "        0.00057054, 0.00223251, 0.00047368, 0.00059649, 0.00037075,\n",
       "        0.00276111, 0.0004153 , 0.00159776, 0.00326488, 0.00053085,\n",
       "        0.00033964, 0.00296392, 0.00191286, 0.00208735, 0.00131246,\n",
       "        0.00115632, 0.00035144, 0.00225181, 0.00069876, 0.00157512,\n",
       "        0.00084678, 0.00173244, 0.00143072, 0.00116456, 0.00085974]),\n",
       " 'mean_score_time': array([0.00233817, 0.00257895, 0.00263278, 0.00268345, 0.00843782,\n",
       "        0.00269208, 0.00212507, 0.00263968, 0.00234194, 0.0027117 ,\n",
       "        0.00267932, 0.0024554 , 0.00242779, 0.00259564, 0.00247381,\n",
       "        0.00255454, 0.00270028, 0.00285101, 0.00273933, 0.00295122,\n",
       "        0.00329492, 0.00234356, 0.0024287 , 0.00237947, 0.00229261,\n",
       "        0.00248117, 0.00261211, 0.00200133, 0.00211487, 0.00241983,\n",
       "        0.00255384, 0.00246511, 0.0018024 , 0.00140061, 0.00284147,\n",
       "        0.00190401, 0.00262232, 0.00264194, 0.00276337, 0.0026602 ,\n",
       "        0.00265265, 0.00274279, 0.0029613 , 0.00262859, 0.00298564,\n",
       "        0.00270157, 0.00268123, 0.00299447, 0.00302277, 0.00249522,\n",
       "        0.00265007, 0.002707  , 0.00281816, 0.00273633, 0.00274851,\n",
       "        0.00271716, 0.00256314, 0.00302503, 0.00254383, 0.00268748,\n",
       "        0.00253456, 0.00292926, 0.00266995, 0.0025219 , 0.00272   ,\n",
       "        0.00291879, 0.00252485, 0.00270326, 0.00273216, 0.00321016,\n",
       "        0.00285544, 0.00279663, 0.00253196, 0.00272384, 0.00298471,\n",
       "        0.00279708, 0.00151501, 0.00101523, 0.0010385 , 0.0014008 ,\n",
       "        0.001684  , 0.00120151, 0.001617  , 0.00222349, 0.00148594,\n",
       "        0.00127726, 0.00212169, 0.00148399, 0.002495  , 0.00235577,\n",
       "        0.00248909, 0.00243285, 0.00328224, 0.00276854, 0.00261633,\n",
       "        0.00252583, 0.003021  , 0.00266461, 0.00246975, 0.00267477]),\n",
       " 'std_score_time': array([4.65272510e-04, 4.31991524e-04, 4.23987677e-04, 3.96799344e-04,\n",
       "        1.82700517e-02, 4.40077909e-04, 5.41103903e-04, 4.73500093e-04,\n",
       "        4.42838990e-04, 4.22388414e-04, 5.19284176e-04, 4.81914726e-04,\n",
       "        5.22575036e-04, 4.29116982e-04, 4.74829039e-04, 4.73122808e-04,\n",
       "        4.44837533e-04, 3.18086467e-04, 6.03810669e-04, 2.88593849e-04,\n",
       "        3.14171960e-04, 4.64484604e-04, 4.52517748e-04, 4.02498607e-04,\n",
       "        4.84453698e-04, 4.81636002e-04, 7.43426490e-04, 8.84859410e-04,\n",
       "        9.43822316e-04, 4.43599013e-04, 4.78133587e-04, 5.78730446e-04,\n",
       "        9.63796647e-04, 6.92478488e-04, 5.61071866e-04, 8.29002951e-04,\n",
       "        4.45827211e-04, 4.62257405e-04, 4.56299242e-04, 7.27959384e-04,\n",
       "        3.74231754e-04, 3.20632525e-04, 1.20552704e-04, 4.23941561e-04,\n",
       "        1.54833073e-04, 4.66589007e-04, 5.86631251e-04, 4.07504991e-04,\n",
       "        5.18498759e-04, 5.36171029e-04, 5.92500340e-04, 4.55692506e-04,\n",
       "        3.01980577e-04, 7.69941312e-04, 4.31433376e-04, 4.25427651e-04,\n",
       "        8.06030419e-04, 2.80840337e-04, 4.35360071e-04, 4.10781782e-04,\n",
       "        4.95797521e-04, 4.51412142e-04, 5.75466783e-04, 7.63344986e-04,\n",
       "        3.27556105e-04, 5.91169692e-04, 4.42246838e-04, 3.33629606e-04,\n",
       "        6.25152794e-04, 6.87981531e-04, 3.86074382e-04, 4.43404005e-04,\n",
       "        4.68835145e-04, 5.35558006e-04, 3.79961561e-04, 5.67399400e-04,\n",
       "        6.97242962e-04, 2.01581260e-04, 9.98474010e-05, 4.64109359e-04,\n",
       "        4.43898846e-04, 3.23365586e-04, 7.92059819e-04, 1.06605436e-03,\n",
       "        4.97373572e-04, 3.59088819e-04, 5.40853532e-04, 8.87849399e-04,\n",
       "        6.36706971e-04, 3.83749228e-04, 4.19424322e-04, 4.57031121e-04,\n",
       "        6.12401296e-04, 4.94637683e-04, 4.05687803e-04, 4.35620776e-04,\n",
       "        7.49873401e-04, 6.35973351e-04, 5.22637915e-04, 4.97453710e-04]),\n",
       " 'param_alpha': masked_array(data=[1.0, 2.0, 3.0, 4.0, 5.0, 6.0, 7.0, 8.0, 9.0, 10.0,\n",
       "                    11.0, 12.0, 13.0, 14.0, 15.0, 16.0, 17.0, 18.0, 19.0,\n",
       "                    20.0, 21.0, 22.0, 23.0, 24.0, 25.0, 26.0, 27.0, 28.0,\n",
       "                    29.0, 30.0, 31.0, 32.0, 33.0, 34.0, 35.0, 36.0, 37.0,\n",
       "                    38.0, 39.0, 40.0, 41.0, 42.0, 43.0, 44.0, 45.0, 46.0,\n",
       "                    47.0, 48.0, 49.0, 50.0, 51.0, 52.0, 53.0, 54.0, 55.0,\n",
       "                    56.0, 57.0, 58.0, 59.0, 60.0, 61.0, 62.0, 63.0, 64.0,\n",
       "                    65.0, 66.0, 67.0, 68.0, 69.0, 70.0, 71.0, 72.0, 73.0,\n",
       "                    74.0, 75.0, 76.0, 77.0, 78.0, 79.0, 80.0, 81.0, 82.0,\n",
       "                    83.0, 84.0, 85.0, 86.0, 87.0, 88.0, 89.0, 90.0, 91.0,\n",
       "                    92.0, 93.0, 94.0, 95.0, 96.0, 97.0, 98.0, 99.0, 100.0],\n",
       "              mask=[False, False, False, False, False, False, False, False,\n",
       "                    False, False, False, False, False, False, False, False,\n",
       "                    False, False, False, False, False, False, False, False,\n",
       "                    False, False, False, False, False, False, False, False,\n",
       "                    False, False, False, False, False, False, False, False,\n",
       "                    False, False, False, False, False, False, False, False,\n",
       "                    False, False, False, False, False, False, False, False,\n",
       "                    False, False, False, False, False, False, False, False,\n",
       "                    False, False, False, False, False, False, False, False,\n",
       "                    False, False, False, False, False, False, False, False,\n",
       "                    False, False, False, False, False, False, False, False,\n",
       "                    False, False, False, False, False, False, False, False,\n",
       "                    False, False, False, False],\n",
       "        fill_value='?',\n",
       "             dtype=object),\n",
       " 'params': [{'alpha': 1.0},\n",
       "  {'alpha': 2.0},\n",
       "  {'alpha': 3.0},\n",
       "  {'alpha': 4.0},\n",
       "  {'alpha': 5.0},\n",
       "  {'alpha': 6.0},\n",
       "  {'alpha': 7.0},\n",
       "  {'alpha': 8.0},\n",
       "  {'alpha': 9.0},\n",
       "  {'alpha': 10.0},\n",
       "  {'alpha': 11.0},\n",
       "  {'alpha': 12.0},\n",
       "  {'alpha': 13.0},\n",
       "  {'alpha': 14.0},\n",
       "  {'alpha': 15.0},\n",
       "  {'alpha': 16.0},\n",
       "  {'alpha': 17.0},\n",
       "  {'alpha': 18.0},\n",
       "  {'alpha': 19.0},\n",
       "  {'alpha': 20.0},\n",
       "  {'alpha': 21.0},\n",
       "  {'alpha': 22.0},\n",
       "  {'alpha': 23.0},\n",
       "  {'alpha': 24.0},\n",
       "  {'alpha': 25.0},\n",
       "  {'alpha': 26.0},\n",
       "  {'alpha': 27.0},\n",
       "  {'alpha': 28.0},\n",
       "  {'alpha': 29.0},\n",
       "  {'alpha': 30.0},\n",
       "  {'alpha': 31.0},\n",
       "  {'alpha': 32.0},\n",
       "  {'alpha': 33.0},\n",
       "  {'alpha': 34.0},\n",
       "  {'alpha': 35.0},\n",
       "  {'alpha': 36.0},\n",
       "  {'alpha': 37.0},\n",
       "  {'alpha': 38.0},\n",
       "  {'alpha': 39.0},\n",
       "  {'alpha': 40.0},\n",
       "  {'alpha': 41.0},\n",
       "  {'alpha': 42.0},\n",
       "  {'alpha': 43.0},\n",
       "  {'alpha': 44.0},\n",
       "  {'alpha': 45.0},\n",
       "  {'alpha': 46.0},\n",
       "  {'alpha': 47.0},\n",
       "  {'alpha': 48.0},\n",
       "  {'alpha': 49.0},\n",
       "  {'alpha': 50.0},\n",
       "  {'alpha': 51.0},\n",
       "  {'alpha': 52.0},\n",
       "  {'alpha': 53.0},\n",
       "  {'alpha': 54.0},\n",
       "  {'alpha': 55.0},\n",
       "  {'alpha': 56.0},\n",
       "  {'alpha': 57.0},\n",
       "  {'alpha': 58.0},\n",
       "  {'alpha': 59.0},\n",
       "  {'alpha': 60.0},\n",
       "  {'alpha': 61.0},\n",
       "  {'alpha': 62.0},\n",
       "  {'alpha': 63.0},\n",
       "  {'alpha': 64.0},\n",
       "  {'alpha': 65.0},\n",
       "  {'alpha': 66.0},\n",
       "  {'alpha': 67.0},\n",
       "  {'alpha': 68.0},\n",
       "  {'alpha': 69.0},\n",
       "  {'alpha': 70.0},\n",
       "  {'alpha': 71.0},\n",
       "  {'alpha': 72.0},\n",
       "  {'alpha': 73.0},\n",
       "  {'alpha': 74.0},\n",
       "  {'alpha': 75.0},\n",
       "  {'alpha': 76.0},\n",
       "  {'alpha': 77.0},\n",
       "  {'alpha': 78.0},\n",
       "  {'alpha': 79.0},\n",
       "  {'alpha': 80.0},\n",
       "  {'alpha': 81.0},\n",
       "  {'alpha': 82.0},\n",
       "  {'alpha': 83.0},\n",
       "  {'alpha': 84.0},\n",
       "  {'alpha': 85.0},\n",
       "  {'alpha': 86.0},\n",
       "  {'alpha': 87.0},\n",
       "  {'alpha': 88.0},\n",
       "  {'alpha': 89.0},\n",
       "  {'alpha': 90.0},\n",
       "  {'alpha': 91.0},\n",
       "  {'alpha': 92.0},\n",
       "  {'alpha': 93.0},\n",
       "  {'alpha': 94.0},\n",
       "  {'alpha': 95.0},\n",
       "  {'alpha': 96.0},\n",
       "  {'alpha': 97.0},\n",
       "  {'alpha': 98.0},\n",
       "  {'alpha': 99.0},\n",
       "  {'alpha': 100.0}],\n",
       " 'split0_test_score': array([-747.01367147, -747.01739997, -747.02280135, -747.02955746,\n",
       "        -747.04007484, -747.05161342, -747.0637609 , -747.07640682,\n",
       "        -747.08946139, -747.10285108, -747.11651527, -747.13040369,\n",
       "        -747.14447444, -747.15869239, -747.17302801, -747.18930224,\n",
       "        -747.20782654, -747.22638105, -747.24693274, -747.26792676,\n",
       "        -747.28896359, -747.31003013, -747.33111504, -747.35220839,\n",
       "        -747.37330156, -747.39438697, -747.41545802, -747.43650889,\n",
       "        -747.45753449, -747.47853032, -747.49949245, -747.52041741,\n",
       "        -747.54130212, -747.5621439 , -747.58294036, -747.60368942,\n",
       "        -747.62438923, -747.64503817, -747.6656348 , -747.68617788,\n",
       "        -747.70947801, -747.73715366, -747.76640788, -747.80212453,\n",
       "        -747.83776225, -747.87449533, -747.91114606, -747.94770185,\n",
       "        -747.988067  , -748.02870573, -748.06924528, -748.10968548,\n",
       "        -748.15002621, -748.19026739, -748.23040901, -748.27045106,\n",
       "        -748.31039356, -748.3502366 , -748.38998024, -748.42962461,\n",
       "        -748.46916983, -748.5111778 , -748.55401384, -748.59674573,\n",
       "        -748.63956081, -748.68264695, -748.72562686, -748.76850086,\n",
       "        -748.81126923, -748.8539323 , -748.89649039, -748.9389438 ,\n",
       "        -748.98129288, -749.02353795, -749.06567933, -749.10771738,\n",
       "        -749.14965242, -749.19148479, -749.23321484, -749.2748429 ,\n",
       "        -749.31636932, -749.35779445, -749.40120565, -749.4465098 ,\n",
       "        -749.49170554, -749.53679322, -749.5817732 , -749.62664585,\n",
       "        -749.67141153, -749.71607059, -749.76062341, -749.80507034,\n",
       "        -749.84941174, -749.89364797, -749.93777939, -749.98180637,\n",
       "        -750.02572924, -750.06954838, -750.11326413, -750.15859294]),\n",
       " 'split1_test_score': array([-841.61559744, -841.54533999, -841.48003048, -841.41997017,\n",
       "        -841.36282118, -841.30833198, -841.25628345, -841.20914868,\n",
       "        -841.16503354, -841.12259129, -841.08171604, -841.04569423,\n",
       "        -841.01145941, -840.97960757, -840.94899213, -840.91953209,\n",
       "        -840.89116592, -840.86383681, -840.83749218, -840.81208326,\n",
       "        -840.78756471, -840.76389433, -840.74103271, -840.71894306,\n",
       "        -840.70150878, -840.68606574, -840.67123966, -840.65700574,\n",
       "        -840.64334055, -840.63022185, -840.6176286 , -840.6055408 ,\n",
       "        -840.59594797, -840.59398124, -840.59224034, -840.59071749,\n",
       "        -840.58940524, -840.58829645, -840.5873843 , -840.58666223,\n",
       "        -840.58612396, -840.58576345, -840.58557493, -840.58555282,\n",
       "        -840.5856918 , -840.58598673, -840.58643267, -840.58702487,\n",
       "        -840.58775877, -840.58862995, -840.59020108, -840.59578118,\n",
       "        -840.60147553, -840.6072804 , -840.61319215, -840.61920729,\n",
       "        -840.62532247, -840.63153443, -840.63784004, -840.64423626,\n",
       "        -840.65122553, -840.65853411, -840.66592301, -840.6733896 ,\n",
       "        -840.68093132, -840.68854571, -840.69932223, -840.71046014,\n",
       "        -840.72165856, -840.73291537, -840.74422848, -840.75559588,\n",
       "        -840.76701564, -840.77848586, -840.79000472, -840.80157044,\n",
       "        -840.81318132, -840.82483567, -840.83653188, -840.8482684 ,\n",
       "        -840.86004368, -840.87185626, -840.8837047 , -840.89558761,\n",
       "        -840.90750363, -840.91945145, -840.93142979, -840.94343742,\n",
       "        -840.95547312, -840.96753573, -840.9796241 , -840.99173713,\n",
       "        -841.00387373, -841.01603287, -841.02821352, -841.04041468,\n",
       "        -841.0526354 , -841.06487474, -841.07713177, -841.08940562]),\n",
       " 'split2_test_score': array([-760.46341198, -760.50375975, -760.54122229, -760.57614202,\n",
       "        -760.6088051 , -760.63945314, -760.66829196, -760.69549835,\n",
       "        -760.72122526, -760.74560592, -760.76875706, -760.79078154,\n",
       "        -760.81177046, -760.83180487, -760.85095718, -760.86929235,\n",
       "        -760.88840242, -760.9096905 , -760.93031834, -760.95032853,\n",
       "        -760.96975992, -760.98904702, -761.00804288, -761.02655903,\n",
       "        -761.04462272, -761.06225908, -761.07949134, -761.09634104,\n",
       "        -761.1159914 , -761.13561093, -761.15511724, -761.178748  ,\n",
       "        -761.20206426, -761.22508025, -761.24780926, -761.27026374,\n",
       "        -761.29245538, -761.31439516, -761.33609337, -761.35755972,\n",
       "        -761.37880336, -761.39983289, -761.42065643, -761.44128167,\n",
       "        -761.46171586, -761.48196587, -761.50203818, -761.52193895,\n",
       "        -761.54167402, -761.56124893, -761.58066894, -761.59993903,\n",
       "        -761.62032928, -761.64220433, -761.66393888, -761.68553703,\n",
       "        -761.70700265, -761.72833945, -761.74955097, -761.77064058,\n",
       "        -761.7916115 , -761.81246683, -761.8332095 , -761.85384234,\n",
       "        -761.87436806, -761.89478923, -761.91510834, -761.93532776,\n",
       "        -761.95544977, -761.97547657, -761.99541024, -762.01525282,\n",
       "        -762.03500622, -762.05467233, -762.07425293, -762.09374974,\n",
       "        -762.11316442, -762.13249857, -762.15175373, -762.1719245 ,\n",
       "        -762.19409101, -762.21617877, -762.23928216, -762.2643706 ,\n",
       "        -762.28959911, -762.31509539, -762.34051556, -762.36849974,\n",
       "        -762.39697382, -762.42536921, -762.45368692, -762.4819279 ,\n",
       "        -762.51009311, -762.53818344, -762.56619977, -762.59414297,\n",
       "        -762.62481199, -762.65564448, -762.6864007 , -762.71708142]),\n",
       " 'split3_test_score': array([-784.60149826, -784.54433879, -784.48759572, -784.43201783,\n",
       "        -784.37789461, -784.32392931, -784.27008684, -784.21633919,\n",
       "        -784.16559525, -784.11981625, -784.07514562, -784.03752457,\n",
       "        -783.99992485, -783.96233645, -783.92475152, -783.887164  ,\n",
       "        -783.84956926, -783.81196388, -783.77434544, -783.73671231,\n",
       "        -783.69906355, -783.66139875, -783.62371797, -783.58632176,\n",
       "        -783.54913994, -783.51194081, -783.47472574, -783.4374962 ,\n",
       "        -783.40025376, -783.3630001 , -783.32573693, -783.28883041,\n",
       "        -783.25617427, -783.22350274, -783.19081764, -783.158584  ,\n",
       "        -783.12657436, -783.09455694, -783.06253347, -783.03050564,\n",
       "        -782.99847513, -782.97020802, -782.94285209, -782.91561182,\n",
       "        -782.88947913, -782.86333284, -782.83901137, -782.81684305,\n",
       "        -782.79465957, -782.77246241, -782.75025298, -782.72803268,\n",
       "        -782.70580283, -782.68356476, -782.66131971, -782.63906892,\n",
       "        -782.61681356, -782.5945548 , -782.5724928 , -782.55577479,\n",
       "        -782.54029893, -782.52481201, -782.50931505, -782.49380904,\n",
       "        -782.47829494, -782.46277369, -782.44724618, -782.4317133 ,\n",
       "        -782.41617588, -782.40063474, -782.38509069, -782.3695445 ,\n",
       "        -782.35399691, -782.33844865, -782.32290041, -782.30735289,\n",
       "        -782.29180673, -782.27626257, -782.26072105, -782.24548608,\n",
       "        -782.23039551, -782.21530973, -782.20022927, -782.18515465,\n",
       "        -782.17008639, -782.15502497, -782.13997087, -782.12492455,\n",
       "        -782.10988646, -782.09485702, -782.07983665, -782.06542063,\n",
       "        -782.05108484, -782.03675871, -782.02244261, -782.00813689,\n",
       "        -781.99384191, -781.979558  , -781.96667146, -781.95632672]),\n",
       " 'split4_test_score': array([-803.83019024, -803.80478776, -803.77888823, -803.75253223,\n",
       "        -803.7254975 , -803.69784692, -803.67051004, -803.64362376,\n",
       "        -803.61618697, -803.58824738, -803.55984727, -803.53138576,\n",
       "        -803.50383516, -803.47589773, -803.44760286, -803.42191352,\n",
       "        -803.39723606, -803.37228714, -803.34708417, -803.32164314,\n",
       "        -803.29597885, -803.27010495, -803.2440341 , -803.21777809,\n",
       "        -803.19134785, -803.16475358, -803.13800482, -803.11111046,\n",
       "        -803.08407885, -803.0569178 , -803.02963468, -803.00223636,\n",
       "        -802.97804093, -802.95395821, -802.93001023, -802.91005312,\n",
       "        -802.88999972, -802.86985459, -802.85093983, -802.83369754,\n",
       "        -802.81638058, -802.79899217, -802.78272528, -802.76854929,\n",
       "        -802.75430666, -802.74      , -802.72563181, -802.71120451,\n",
       "        -802.69672039, -802.68276542, -802.66931392, -802.65989993,\n",
       "        -802.650808  , -802.64596552, -802.64105643, -802.63608252,\n",
       "        -802.63104554, -802.62594718, -802.62078904, -802.6155727 ,\n",
       "        -802.61029966, -802.6049714 , -802.59958931, -802.59466151,\n",
       "        -802.59340425, -802.59208834, -802.59071503, -802.58928549,\n",
       "        -802.5878009 , -802.58626239, -802.58467103, -802.58302791,\n",
       "        -802.58133404, -802.57959044, -802.57779808, -802.57595791,\n",
       "        -802.57407085, -802.5721378 , -802.57015963, -802.5681372 ,\n",
       "        -802.56607134, -802.56418453, -802.56237237, -802.56051928,\n",
       "        -802.558626  , -802.55669322, -802.55472165, -802.55271197,\n",
       "        -802.55066483, -802.54858088, -802.54646075, -802.54633089,\n",
       "        -802.54751762, -802.54866387, -802.5497702 , -802.55083718,\n",
       "        -802.55186535, -802.55285527, -802.55380745, -802.55472242]),\n",
       " 'split5_test_score': array([-799.85983198, -799.82794733, -799.79566554, -799.76307854,\n",
       "        -799.73026265, -799.69728144, -799.66418807, -799.63102708,\n",
       "        -799.59783591, -799.56464609, -799.53148422, -799.49837276,\n",
       "        -799.46533071, -799.43237409, -799.39951648, -799.36676931,\n",
       "        -799.33414221, -799.30281163, -799.27502407, -799.24737049,\n",
       "        -799.2212365 , -799.19919859, -799.17725644, -799.15541517,\n",
       "        -799.13367911, -799.11205187, -799.09053645, -799.06913532,\n",
       "        -799.04785048, -799.02668352, -799.00563566, -798.98470782,\n",
       "        -798.96390064, -798.94321449, -798.92264957, -798.90301286,\n",
       "        -798.88356412, -798.86423675, -798.84503014, -798.82621484,\n",
       "        -798.81135081, -798.7968753 , -798.78250802, -798.768248  ,\n",
       "        -798.75409426, -798.74004574, -798.72610139, -798.71226011,\n",
       "        -798.69852079, -798.68488231, -798.67134351, -798.65790326,\n",
       "        -798.64456038, -798.63131373, -798.61816214, -798.60510444,\n",
       "        -798.59213949, -798.57926611, -798.56648317, -798.55378952,\n",
       "        -798.54118403, -798.52939799, -798.51792422, -798.50653448,\n",
       "        -798.49549888, -798.48590218, -798.47637508, -798.46691662,\n",
       "        -798.45752585, -798.44820183, -798.43980302, -798.43210964,\n",
       "        -798.42447217, -798.41688981, -798.40936175, -798.4023783 ,\n",
       "        -798.39549252, -798.38865625, -798.38186876, -798.37512929,\n",
       "        -798.36843715, -798.36179162, -798.355192  , -798.3486376 ,\n",
       "        -798.34212775, -798.33566179, -798.32923905, -798.32285891,\n",
       "        -798.31652071, -798.31022384, -798.3039677 , -798.29775166,\n",
       "        -798.29157515, -798.28543757, -798.27933836, -798.27327694,\n",
       "        -798.26725278, -798.26157568, -798.25888021, -798.25621604]),\n",
       " 'split6_test_score': array([-793.8667772 , -793.86410635, -793.86131953, -793.85853877,\n",
       "        -793.85585364, -793.85332979, -793.85101507, -793.84894388,\n",
       "        -793.84714047, -793.8481167 , -793.84990317, -793.85198655,\n",
       "        -793.85436938, -793.85705155, -793.86003082, -793.86330338,\n",
       "        -793.86686424, -793.87070748, -793.87482655, -793.88153042,\n",
       "        -793.8903653 , -793.89946101, -793.90880847, -793.91839872,\n",
       "        -793.93260929, -793.94731699, -793.96222122, -793.97731453,\n",
       "        -793.99258962, -794.00809985, -794.02490155, -794.0418574 ,\n",
       "        -794.05896115, -794.07620672, -794.09377813, -794.11572316,\n",
       "        -794.13778238, -794.15995054, -794.18222254, -794.20459347,\n",
       "        -794.23023146, -794.25611579, -794.2820817 , -794.30812486,\n",
       "        -794.33424112, -794.36042647, -794.38667703, -794.41298909,\n",
       "        -794.43935906, -794.46578347, -794.492259  , -794.51878243,\n",
       "        -794.54535066, -794.57196073, -794.59860974, -794.62529493,\n",
       "        -794.65201363, -794.67876326, -794.70554133, -794.73234546,\n",
       "        -794.75917332, -794.78632887, -794.81407955, -794.84235664,\n",
       "        -794.87124433, -794.90013809, -794.92996108, -794.96070711,\n",
       "        -794.99426341, -795.02781191, -795.06135103, -795.09487927,\n",
       "        -795.12839516, -795.16189729, -795.19538429, -795.2318575 ,\n",
       "        -795.26839001, -795.30489774, -795.3423524 , -795.3818677 ,\n",
       "        -795.42135022, -795.460799  , -795.50059766, -795.54395602,\n",
       "        -795.5872699 , -795.63053847, -795.67577266, -795.7222506 ,\n",
       "        -795.76867548, -795.81504663, -795.86136338, -795.90765541,\n",
       "        -795.95423691, -796.00076061, -796.04722595, -796.09363237,\n",
       "        -796.13997935, -796.18626637, -796.23249293, -796.27865857]),\n",
       " 'split7_test_score': array([-785.71771346, -785.60316159, -785.50071128, -785.40272816,\n",
       "        -785.30851666, -785.21751828, -785.12927965, -785.04342916,\n",
       "        -784.95965949, -784.87771444, -784.79737885, -784.71847082,\n",
       "        -784.64083557, -784.5643407 , -784.48887229, -784.41433188,\n",
       "        -784.34063396, -784.26770395, -784.19547654, -784.12389433,\n",
       "        -784.05290668, -783.98246876, -783.91279326, -783.84381993,\n",
       "        -783.77529687, -783.70719499, -783.63948817, -783.57220776,\n",
       "        -783.50534314, -783.43880135, -783.37256547, -783.30662015,\n",
       "        -783.24168114, -783.18049429, -783.12076731, -783.06645204,\n",
       "        -783.01243319, -782.95858274, -782.90489435, -782.85136222,\n",
       "        -782.79798101, -782.7447458 , -782.69165209, -782.63869569,\n",
       "        -782.58594583, -782.53401901, -782.48221469, -782.43104405,\n",
       "        -782.3847614 , -782.33982689, -782.29498951, -782.25024734,\n",
       "        -782.20559857, -782.16104153, -782.11657464, -782.07219646,\n",
       "        -782.03017494, -781.98932454, -781.94855111, -781.90785361,\n",
       "        -781.86723107, -781.82668256, -781.78620723, -781.74580426,\n",
       "        -781.7054729 , -781.66521244, -781.62502219, -781.58490153,\n",
       "        -781.54484984, -781.50486657, -781.46560998, -781.42701278,\n",
       "        -781.38847772, -781.35000441, -781.31159247, -781.27324154,\n",
       "        -781.23495128, -781.19672136, -781.15855149, -781.12044136,\n",
       "        -781.08251189, -781.04777413, -781.01309422, -780.97847182,\n",
       "        -780.94639208, -780.91655831, -780.88714499, -780.85777661,\n",
       "        -780.82845295, -780.79917378, -780.76996143, -780.74492937,\n",
       "        -780.72022411, -780.69555517, -780.67092236, -780.64632553,\n",
       "        -780.62510721, -780.60446388, -780.58384845, -780.56326083]),\n",
       " 'split8_test_score': array([-790.15855272, -790.04525412, -789.93298845, -789.82168516,\n",
       "        -789.71128605, -789.60174203, -789.49301087, -789.38706511,\n",
       "        -789.28354192, -789.18070947, -789.0785432 , -788.97702054,\n",
       "        -788.87612061, -788.775824  , -788.67611261, -788.57730543,\n",
       "        -788.47918778, -788.38160044, -788.28518012, -788.18994629,\n",
       "        -788.09520981, -788.00222239, -787.91218651, -787.82259719,\n",
       "        -787.7334442 , -787.64471778, -787.55640861, -787.46895775,\n",
       "        -787.38306004, -787.29753041, -787.21236228, -787.1275493 ,\n",
       "        -787.04326315, -786.9649659 , -786.88853639, -786.81242133,\n",
       "        -786.74037176, -786.66868523, -786.59729424, -786.52979372,\n",
       "        -786.46283765, -786.3961519 , -786.32973215, -786.26718417,\n",
       "        -786.20581328, -786.14548994, -786.08634988, -786.02743107,\n",
       "        -785.96873012, -785.91024375, -785.8519688 , -785.79390219,\n",
       "        -785.73604097, -785.67838226, -785.62092329, -785.56366137,\n",
       "        -785.5065939 , -785.44971834, -785.39303226, -785.33653327,\n",
       "        -785.28021907, -785.22408742, -785.17117754, -785.12202618,\n",
       "        -785.07858761, -785.03534281, -784.9922379 , -784.94927133,\n",
       "        -784.90644161, -784.86374728, -784.82118691, -784.77875911,\n",
       "        -784.73646252, -784.69429582, -784.65225772, -784.61034695,\n",
       "        -784.56856228, -784.5269025 , -784.48536643, -784.44395292,\n",
       "        -784.40266085, -784.36148911, -784.32043663, -784.27950236,\n",
       "        -784.23868525, -784.20132549, -784.16458517, -784.12795245,\n",
       "        -784.09142635, -784.05551722, -784.02301113, -783.99073514,\n",
       "        -783.95925052, -783.92785561, -783.89654965, -783.86533188,\n",
       "        -783.83420159, -783.80315804, -783.77220053, -783.74132838]),\n",
       " 'split9_test_score': array([-807.85721585, -807.80292026, -807.75551577, -807.71397723,\n",
       "        -807.67747925, -807.64534923, -807.6170332 , -807.59207042,\n",
       "        -807.57007434, -807.55071799, -807.53399372, -807.51951294,\n",
       "        -807.50691994, -807.49603842, -807.48671447, -807.47881304,\n",
       "        -807.47221505, -807.46681508, -807.46251938, -807.45924428,\n",
       "        -807.45691483, -807.45546364, -807.45482995, -807.45495879,\n",
       "        -807.45580026, -807.45730901, -807.45944363, -807.46216627,\n",
       "        -807.46544223, -807.46923962, -807.47564105, -807.48594923,\n",
       "        -807.49742238, -807.50927328, -807.52148196, -807.53402984,\n",
       "        -807.54689963, -807.56190669, -807.58022238, -807.59878563,\n",
       "        -807.61758429, -807.63660693, -807.65584281, -807.67528184,\n",
       "        -807.69491447, -807.71473171, -807.73472506, -807.75488649,\n",
       "        -807.77520839, -807.79568353, -807.81630508, -807.83706654,\n",
       "        -807.85796174, -807.88139432, -807.90579649, -807.93031099,\n",
       "        -807.95493276, -807.97965696, -808.00447898, -808.02939441,\n",
       "        -808.05439903, -808.0794888 , -808.10465987, -808.12990854,\n",
       "        -808.15523125, -808.18062461, -808.20608534, -808.23417817,\n",
       "        -808.26303383, -808.29194409, -808.32090607, -808.34991701,\n",
       "        -808.37897426, -808.40807526, -808.43721755, -808.46639875,\n",
       "        -808.49561658, -808.52486884, -808.5541545 , -808.58461999,\n",
       "        -808.61510986, -808.64562223, -808.6761553 , -808.70670731,\n",
       "        -808.73727656, -808.76786142, -808.79846031, -808.83142852,\n",
       "        -808.86625339, -808.90107709, -808.93589832, -808.97071585,\n",
       "        -809.00552847, -809.04033502, -809.07513438, -809.10992545,\n",
       "        -809.14470718, -809.17947854, -809.21423854, -809.24898622]),\n",
       " 'mean_test_score': array([-791.49844606, -791.45590159, -791.41567387, -791.37702276,\n",
       "        -791.33984915, -791.30363955, -791.268346  , -791.23435524,\n",
       "        -791.20157545, -791.17010166, -791.13932844, -791.11011534,\n",
       "        -791.08150405, -791.05339678, -791.02565784, -790.99877272,\n",
       "        -790.97272434, -790.9473798 , -790.92291995, -790.89906798,\n",
       "        -790.87579637, -790.85332896, -790.83138173, -790.80970001,\n",
       "        -790.78907506, -790.76879968, -790.74870177, -790.7288244 ,\n",
       "        -790.70954846, -790.69046358, -790.67187159, -790.65424569,\n",
       "        -790.6378758 , -790.6232821 , -790.60910312, -790.5964947 ,\n",
       "        -790.5843875 , -790.57255033, -790.56122494, -790.55053529,\n",
       "        -790.54092462, -790.53224459, -790.52400334, -790.51706547,\n",
       "        -790.51039647, -790.50404936, -790.49803281, -790.4923324 ,\n",
       "        -790.48754595, -790.48302324, -790.47865481, -790.475124  ,\n",
       "        -790.47179542, -790.4693375 , -790.46699825, -790.4646915 ,\n",
       "        -790.46264325, -790.46073417, -790.45887399, -790.45757652,\n",
       "        -790.4564812 , -790.45579478, -790.45560991, -790.45590783,\n",
       "        -790.45725944, -790.45880641, -790.46077002, -790.46312623,\n",
       "        -790.46584689, -790.4685793 , -790.47147478, -790.47450427,\n",
       "        -790.47754275, -790.48058978, -790.48364493, -790.48705714,\n",
       "        -790.49048884, -790.49392661, -790.49746747, -790.50146703,\n",
       "        -790.50570408, -790.51027998, -790.515227  , -790.5209417 ,\n",
       "        -790.52692722, -790.53350037, -790.54036133, -790.54784866,\n",
       "        -790.55557386, -790.5633452 , -790.57144338, -790.58022743,\n",
       "        -790.58927962, -790.59832308, -790.60735762, -790.61638303,\n",
       "        -790.6260132 , -790.63574234, -790.64589362, -790.65645792]),\n",
       " 'std_test_score': array([24.55968338, 24.53852512, 24.51861955, 24.5001348 , 24.48206397,\n",
       "        24.46483004, 24.44845949, 24.43342736, 24.41919209, 24.40544438,\n",
       "        24.39225581, 24.38011657, 24.3686282 , 24.35783503, 24.34749287,\n",
       "        24.3373908 , 24.32717871, 24.31704298, 24.30703687, 24.2973317 ,\n",
       "        24.28803208, 24.27912641, 24.27046382, 24.26207963, 24.2548342 ,\n",
       "        24.24813122, 24.24168078, 24.23546681, 24.22908465, 24.22289425,\n",
       "        24.21706202, 24.21113411, 24.20589927, 24.2021652 , 24.19853372,\n",
       "        24.1951684 , 24.19187533, 24.18884512, 24.18622651, 24.18377423,\n",
       "        24.18112215, 24.17770132, 24.17414208, 24.16958936, 24.16510052,\n",
       "        24.16048217, 24.15590141, 24.15134721, 24.14605558, 24.14079415,\n",
       "        24.13578448, 24.13189111, 24.12796544, 24.12433492, 24.12086267,\n",
       "        24.1174856 , 24.1141227 , 24.11081281, 24.1075859 , 24.10427169,\n",
       "        24.10110759, 24.09766103, 24.09408816, 24.09055304, 24.08714873,\n",
       "        24.08379983, 24.08118836, 24.07891945, 24.07682847, 24.07481007,\n",
       "        24.07286698, 24.07099294, 24.06918767, 24.06745018, 24.06577949,\n",
       "        24.06425   , 24.06278923, 24.06139309, 24.06008038, 24.05883223,\n",
       "        24.05739357, 24.05590551, 24.05400694, 24.0516618 , 24.04925581,\n",
       "        24.04669606, 24.04421092, 24.04168335, 24.03929069, 24.03694427,\n",
       "        24.03456629, 24.03215342, 24.02983763, 24.02757648, 24.02536939,\n",
       "        24.02321577, 24.02064966, 24.01809532, 24.01563634, 24.01284706]),\n",
       " 'rank_test_score': array([100,  99,  98,  97,  96,  95,  94,  93,  92,  91,  90,  89,  88,\n",
       "         87,  86,  85,  84,  83,  82,  81,  80,  79,  78,  77,  76,  75,\n",
       "         74,  73,  72,  71,  70,  68,  66,  63,  61,  58,  56,  54,  51,\n",
       "         49,  47,  44,  42,  40,  38,  35,  33,  30,  28,  25,  23,  21,\n",
       "         19,  17,  15,  13,  11,   9,   8,   6,   4,   2,   1,   3,   5,\n",
       "          7,  10,  12,  14,  16,  18,  20,  22,  24,  26,  27,  29,  31,\n",
       "         32,  34,  36,  37,  39,  41,  43,  45,  46,  48,  50,  52,  53,\n",
       "         55,  57,  59,  60,  62,  64,  65,  67,  69])}"
      ]
     },
     "execution_count": 81,
     "metadata": {},
     "output_type": "execute_result"
    }
   ],
   "source": [
    "grid_search.cv_results_"
   ]
  },
  {
   "cell_type": "code",
   "execution_count": 82,
   "metadata": {},
   "outputs": [],
   "source": [
    "def report(results, n_top=3):\n",
    "    for i in range(1, n_top + 1):\n",
    "        candidates = np.flatnonzero(results['rank_test_score'] == i)\n",
    "        for candidate in candidates:\n",
    "            print(\"Model with rank: {0}\".format(i))\n",
    "            print(\"Mean validation score: {0:.3E} (std: {1:.3})\".format(\n",
    "                results['mean_test_score'][candidate],\n",
    "                results['std_test_score'][candidate]))\n",
    "            print(\"Parameters: {0}\".format(results['params'][candidate]))\n",
    "            print(\"\")"
   ]
  },
  {
   "cell_type": "code",
   "execution_count": 83,
   "metadata": {},
   "outputs": [
    {
     "name": "stdout",
     "output_type": "stream",
     "text": [
      "Model with rank: 1\n",
      "Mean validation score: -7.905E+02 (std: 24.1)\n",
      "Parameters: {'alpha': 63.0}\n",
      "\n",
      "Model with rank: 2\n",
      "Mean validation score: -7.905E+02 (std: 24.1)\n",
      "Parameters: {'alpha': 62.0}\n",
      "\n",
      "Model with rank: 3\n",
      "Mean validation score: -7.905E+02 (std: 24.1)\n",
      "Parameters: {'alpha': 64.0}\n",
      "\n",
      "Model with rank: 4\n",
      "Mean validation score: -7.905E+02 (std: 24.1)\n",
      "Parameters: {'alpha': 61.0}\n",
      "\n",
      "Model with rank: 5\n",
      "Mean validation score: -7.905E+02 (std: 24.1)\n",
      "Parameters: {'alpha': 65.0}\n",
      "\n",
      "Model with rank: 6\n",
      "Mean validation score: -7.905E+02 (std: 24.1)\n",
      "Parameters: {'alpha': 60.0}\n",
      "\n",
      "Model with rank: 7\n",
      "Mean validation score: -7.905E+02 (std: 24.1)\n",
      "Parameters: {'alpha': 66.0}\n",
      "\n",
      "Model with rank: 8\n",
      "Mean validation score: -7.905E+02 (std: 24.1)\n",
      "Parameters: {'alpha': 59.0}\n",
      "\n",
      "Model with rank: 9\n",
      "Mean validation score: -7.905E+02 (std: 24.1)\n",
      "Parameters: {'alpha': 58.0}\n",
      "\n",
      "Model with rank: 10\n",
      "Mean validation score: -7.905E+02 (std: 24.1)\n",
      "Parameters: {'alpha': 67.0}\n",
      "\n",
      "Model with rank: 11\n",
      "Mean validation score: -7.905E+02 (std: 24.1)\n",
      "Parameters: {'alpha': 57.0}\n",
      "\n",
      "Model with rank: 12\n",
      "Mean validation score: -7.905E+02 (std: 24.1)\n",
      "Parameters: {'alpha': 68.0}\n",
      "\n",
      "Model with rank: 13\n",
      "Mean validation score: -7.905E+02 (std: 24.1)\n",
      "Parameters: {'alpha': 56.0}\n",
      "\n",
      "Model with rank: 14\n",
      "Mean validation score: -7.905E+02 (std: 24.1)\n",
      "Parameters: {'alpha': 69.0}\n",
      "\n",
      "Model with rank: 15\n",
      "Mean validation score: -7.905E+02 (std: 24.1)\n",
      "Parameters: {'alpha': 55.0}\n",
      "\n",
      "Model with rank: 16\n",
      "Mean validation score: -7.905E+02 (std: 24.1)\n",
      "Parameters: {'alpha': 70.0}\n",
      "\n",
      "Model with rank: 17\n",
      "Mean validation score: -7.905E+02 (std: 24.1)\n",
      "Parameters: {'alpha': 54.0}\n",
      "\n",
      "Model with rank: 18\n",
      "Mean validation score: -7.905E+02 (std: 24.1)\n",
      "Parameters: {'alpha': 71.0}\n",
      "\n",
      "Model with rank: 19\n",
      "Mean validation score: -7.905E+02 (std: 24.1)\n",
      "Parameters: {'alpha': 53.0}\n",
      "\n",
      "Model with rank: 20\n",
      "Mean validation score: -7.905E+02 (std: 24.1)\n",
      "Parameters: {'alpha': 72.0}\n",
      "\n",
      "Model with rank: 21\n",
      "Mean validation score: -7.905E+02 (std: 24.1)\n",
      "Parameters: {'alpha': 52.0}\n",
      "\n",
      "Model with rank: 22\n",
      "Mean validation score: -7.905E+02 (std: 24.1)\n",
      "Parameters: {'alpha': 73.0}\n",
      "\n",
      "Model with rank: 23\n",
      "Mean validation score: -7.905E+02 (std: 24.1)\n",
      "Parameters: {'alpha': 51.0}\n",
      "\n",
      "Model with rank: 24\n",
      "Mean validation score: -7.905E+02 (std: 24.1)\n",
      "Parameters: {'alpha': 74.0}\n",
      "\n",
      "Model with rank: 25\n",
      "Mean validation score: -7.905E+02 (std: 24.1)\n",
      "Parameters: {'alpha': 50.0}\n",
      "\n",
      "Model with rank: 26\n",
      "Mean validation score: -7.905E+02 (std: 24.1)\n",
      "Parameters: {'alpha': 75.0}\n",
      "\n",
      "Model with rank: 27\n",
      "Mean validation score: -7.905E+02 (std: 24.1)\n",
      "Parameters: {'alpha': 76.0}\n",
      "\n",
      "Model with rank: 28\n",
      "Mean validation score: -7.905E+02 (std: 24.1)\n",
      "Parameters: {'alpha': 49.0}\n",
      "\n",
      "Model with rank: 29\n",
      "Mean validation score: -7.905E+02 (std: 24.1)\n",
      "Parameters: {'alpha': 77.0}\n",
      "\n",
      "Model with rank: 30\n",
      "Mean validation score: -7.905E+02 (std: 24.2)\n",
      "Parameters: {'alpha': 48.0}\n",
      "\n",
      "Model with rank: 31\n",
      "Mean validation score: -7.905E+02 (std: 24.1)\n",
      "Parameters: {'alpha': 78.0}\n",
      "\n",
      "Model with rank: 32\n",
      "Mean validation score: -7.905E+02 (std: 24.1)\n",
      "Parameters: {'alpha': 79.0}\n",
      "\n",
      "Model with rank: 33\n",
      "Mean validation score: -7.905E+02 (std: 24.2)\n",
      "Parameters: {'alpha': 47.0}\n",
      "\n",
      "Model with rank: 34\n",
      "Mean validation score: -7.905E+02 (std: 24.1)\n",
      "Parameters: {'alpha': 80.0}\n",
      "\n",
      "Model with rank: 35\n",
      "Mean validation score: -7.905E+02 (std: 24.2)\n",
      "Parameters: {'alpha': 46.0}\n",
      "\n",
      "Model with rank: 36\n",
      "Mean validation score: -7.905E+02 (std: 24.1)\n",
      "Parameters: {'alpha': 81.0}\n",
      "\n",
      "Model with rank: 37\n",
      "Mean validation score: -7.905E+02 (std: 24.1)\n",
      "Parameters: {'alpha': 82.0}\n",
      "\n",
      "Model with rank: 38\n",
      "Mean validation score: -7.905E+02 (std: 24.2)\n",
      "Parameters: {'alpha': 45.0}\n",
      "\n",
      "Model with rank: 39\n",
      "Mean validation score: -7.905E+02 (std: 24.1)\n",
      "Parameters: {'alpha': 83.0}\n",
      "\n",
      "Model with rank: 40\n",
      "Mean validation score: -7.905E+02 (std: 24.2)\n",
      "Parameters: {'alpha': 44.0}\n",
      "\n",
      "Model with rank: 41\n",
      "Mean validation score: -7.905E+02 (std: 24.1)\n",
      "Parameters: {'alpha': 84.0}\n",
      "\n",
      "Model with rank: 42\n",
      "Mean validation score: -7.905E+02 (std: 24.2)\n",
      "Parameters: {'alpha': 43.0}\n",
      "\n",
      "Model with rank: 43\n",
      "Mean validation score: -7.905E+02 (std: 24.0)\n",
      "Parameters: {'alpha': 85.0}\n",
      "\n",
      "Model with rank: 44\n",
      "Mean validation score: -7.905E+02 (std: 24.2)\n",
      "Parameters: {'alpha': 42.0}\n",
      "\n",
      "Model with rank: 45\n",
      "Mean validation score: -7.905E+02 (std: 24.0)\n",
      "Parameters: {'alpha': 86.0}\n",
      "\n",
      "Model with rank: 46\n",
      "Mean validation score: -7.905E+02 (std: 24.0)\n",
      "Parameters: {'alpha': 87.0}\n",
      "\n",
      "Model with rank: 47\n",
      "Mean validation score: -7.905E+02 (std: 24.2)\n",
      "Parameters: {'alpha': 41.0}\n",
      "\n",
      "Model with rank: 48\n",
      "Mean validation score: -7.905E+02 (std: 24.0)\n",
      "Parameters: {'alpha': 88.0}\n",
      "\n",
      "Model with rank: 49\n",
      "Mean validation score: -7.906E+02 (std: 24.2)\n",
      "Parameters: {'alpha': 40.0}\n",
      "\n",
      "Model with rank: 50\n",
      "Mean validation score: -7.906E+02 (std: 24.0)\n",
      "Parameters: {'alpha': 89.0}\n",
      "\n",
      "Model with rank: 51\n",
      "Mean validation score: -7.906E+02 (std: 24.2)\n",
      "Parameters: {'alpha': 39.0}\n",
      "\n",
      "Model with rank: 52\n",
      "Mean validation score: -7.906E+02 (std: 24.0)\n",
      "Parameters: {'alpha': 90.0}\n",
      "\n",
      "Model with rank: 53\n",
      "Mean validation score: -7.906E+02 (std: 24.0)\n",
      "Parameters: {'alpha': 91.0}\n",
      "\n",
      "Model with rank: 54\n",
      "Mean validation score: -7.906E+02 (std: 24.2)\n",
      "Parameters: {'alpha': 38.0}\n",
      "\n",
      "Model with rank: 55\n",
      "Mean validation score: -7.906E+02 (std: 24.0)\n",
      "Parameters: {'alpha': 92.0}\n",
      "\n",
      "Model with rank: 56\n",
      "Mean validation score: -7.906E+02 (std: 24.2)\n",
      "Parameters: {'alpha': 37.0}\n",
      "\n",
      "Model with rank: 57\n",
      "Mean validation score: -7.906E+02 (std: 24.0)\n",
      "Parameters: {'alpha': 93.0}\n",
      "\n",
      "Model with rank: 58\n",
      "Mean validation score: -7.906E+02 (std: 24.2)\n",
      "Parameters: {'alpha': 36.0}\n",
      "\n",
      "Model with rank: 59\n",
      "Mean validation score: -7.906E+02 (std: 24.0)\n",
      "Parameters: {'alpha': 94.0}\n",
      "\n",
      "Model with rank: 60\n",
      "Mean validation score: -7.906E+02 (std: 24.0)\n",
      "Parameters: {'alpha': 95.0}\n",
      "\n",
      "Model with rank: 61\n",
      "Mean validation score: -7.906E+02 (std: 24.2)\n",
      "Parameters: {'alpha': 35.0}\n",
      "\n",
      "Model with rank: 62\n",
      "Mean validation score: -7.906E+02 (std: 24.0)\n",
      "Parameters: {'alpha': 96.0}\n",
      "\n",
      "Model with rank: 63\n",
      "Mean validation score: -7.906E+02 (std: 24.2)\n",
      "Parameters: {'alpha': 34.0}\n",
      "\n",
      "Model with rank: 64\n",
      "Mean validation score: -7.906E+02 (std: 24.0)\n",
      "Parameters: {'alpha': 97.0}\n",
      "\n",
      "Model with rank: 65\n",
      "Mean validation score: -7.906E+02 (std: 24.0)\n",
      "Parameters: {'alpha': 98.0}\n",
      "\n",
      "Model with rank: 66\n",
      "Mean validation score: -7.906E+02 (std: 24.2)\n",
      "Parameters: {'alpha': 33.0}\n",
      "\n",
      "Model with rank: 67\n",
      "Mean validation score: -7.906E+02 (std: 24.0)\n",
      "Parameters: {'alpha': 99.0}\n",
      "\n",
      "Model with rank: 68\n",
      "Mean validation score: -7.907E+02 (std: 24.2)\n",
      "Parameters: {'alpha': 32.0}\n",
      "\n",
      "Model with rank: 69\n",
      "Mean validation score: -7.907E+02 (std: 24.0)\n",
      "Parameters: {'alpha': 100.0}\n",
      "\n",
      "Model with rank: 70\n",
      "Mean validation score: -7.907E+02 (std: 24.2)\n",
      "Parameters: {'alpha': 31.0}\n",
      "\n",
      "Model with rank: 71\n",
      "Mean validation score: -7.907E+02 (std: 24.2)\n",
      "Parameters: {'alpha': 30.0}\n",
      "\n",
      "Model with rank: 72\n",
      "Mean validation score: -7.907E+02 (std: 24.2)\n",
      "Parameters: {'alpha': 29.0}\n",
      "\n",
      "Model with rank: 73\n",
      "Mean validation score: -7.907E+02 (std: 24.2)\n",
      "Parameters: {'alpha': 28.0}\n",
      "\n",
      "Model with rank: 74\n",
      "Mean validation score: -7.907E+02 (std: 24.2)\n",
      "Parameters: {'alpha': 27.0}\n",
      "\n",
      "Model with rank: 75\n",
      "Mean validation score: -7.908E+02 (std: 24.2)\n",
      "Parameters: {'alpha': 26.0}\n",
      "\n",
      "Model with rank: 76\n",
      "Mean validation score: -7.908E+02 (std: 24.3)\n",
      "Parameters: {'alpha': 25.0}\n",
      "\n",
      "Model with rank: 77\n",
      "Mean validation score: -7.908E+02 (std: 24.3)\n",
      "Parameters: {'alpha': 24.0}\n",
      "\n",
      "Model with rank: 78\n",
      "Mean validation score: -7.908E+02 (std: 24.3)\n",
      "Parameters: {'alpha': 23.0}\n",
      "\n",
      "Model with rank: 79\n",
      "Mean validation score: -7.909E+02 (std: 24.3)\n",
      "Parameters: {'alpha': 22.0}\n",
      "\n",
      "Model with rank: 80\n",
      "Mean validation score: -7.909E+02 (std: 24.3)\n",
      "Parameters: {'alpha': 21.0}\n",
      "\n",
      "Model with rank: 81\n",
      "Mean validation score: -7.909E+02 (std: 24.3)\n",
      "Parameters: {'alpha': 20.0}\n",
      "\n",
      "Model with rank: 82\n",
      "Mean validation score: -7.909E+02 (std: 24.3)\n",
      "Parameters: {'alpha': 19.0}\n",
      "\n",
      "Model with rank: 83\n",
      "Mean validation score: -7.909E+02 (std: 24.3)\n",
      "Parameters: {'alpha': 18.0}\n",
      "\n",
      "Model with rank: 84\n",
      "Mean validation score: -7.910E+02 (std: 24.3)\n",
      "Parameters: {'alpha': 17.0}\n",
      "\n",
      "Model with rank: 85\n",
      "Mean validation score: -7.910E+02 (std: 24.3)\n",
      "Parameters: {'alpha': 16.0}\n",
      "\n",
      "Model with rank: 86\n",
      "Mean validation score: -7.910E+02 (std: 24.3)\n",
      "Parameters: {'alpha': 15.0}\n",
      "\n",
      "Model with rank: 87\n",
      "Mean validation score: -7.911E+02 (std: 24.4)\n",
      "Parameters: {'alpha': 14.0}\n",
      "\n",
      "Model with rank: 88\n",
      "Mean validation score: -7.911E+02 (std: 24.4)\n",
      "Parameters: {'alpha': 13.0}\n",
      "\n",
      "Model with rank: 89\n",
      "Mean validation score: -7.911E+02 (std: 24.4)\n",
      "Parameters: {'alpha': 12.0}\n",
      "\n",
      "Model with rank: 90\n",
      "Mean validation score: -7.911E+02 (std: 24.4)\n",
      "Parameters: {'alpha': 11.0}\n",
      "\n",
      "Model with rank: 91\n",
      "Mean validation score: -7.912E+02 (std: 24.4)\n",
      "Parameters: {'alpha': 10.0}\n",
      "\n",
      "Model with rank: 92\n",
      "Mean validation score: -7.912E+02 (std: 24.4)\n",
      "Parameters: {'alpha': 9.0}\n",
      "\n",
      "Model with rank: 93\n",
      "Mean validation score: -7.912E+02 (std: 24.4)\n",
      "Parameters: {'alpha': 8.0}\n",
      "\n",
      "Model with rank: 94\n",
      "Mean validation score: -7.913E+02 (std: 24.4)\n",
      "Parameters: {'alpha': 7.0}\n",
      "\n",
      "Model with rank: 95\n",
      "Mean validation score: -7.913E+02 (std: 24.5)\n",
      "Parameters: {'alpha': 6.0}\n",
      "\n",
      "Model with rank: 96\n",
      "Mean validation score: -7.913E+02 (std: 24.5)\n",
      "Parameters: {'alpha': 5.0}\n",
      "\n",
      "Model with rank: 97\n",
      "Mean validation score: -7.914E+02 (std: 24.5)\n",
      "Parameters: {'alpha': 4.0}\n",
      "\n",
      "Model with rank: 98\n",
      "Mean validation score: -7.914E+02 (std: 24.5)\n",
      "Parameters: {'alpha': 3.0}\n",
      "\n",
      "Model with rank: 99\n",
      "Mean validation score: -7.915E+02 (std: 24.5)\n",
      "Parameters: {'alpha': 2.0}\n",
      "\n",
      "Model with rank: 100\n",
      "Mean validation score: -7.915E+02 (std: 24.6)\n",
      "Parameters: {'alpha': 1.0}\n",
      "\n"
     ]
    }
   ],
   "source": [
    "report(grid_search.cv_results_,100)"
   ]
  },
  {
   "cell_type": "markdown",
   "metadata": {},
   "source": [
    "## COFFECIENTS IN RIDGE"
   ]
  },
  {
   "cell_type": "code",
   "execution_count": 84,
   "metadata": {},
   "outputs": [],
   "source": [
    "ridge_model = grid_search.best_estimator_"
   ]
  },
  {
   "cell_type": "code",
   "execution_count": 85,
   "metadata": {},
   "outputs": [
    {
     "data": {
      "text/plain": [
       "Ridge(alpha=63.0, copy_X=True, fit_intercept=True, max_iter=None,\n",
       "      normalize=False, random_state=None, solver='auto', tol=0.001)"
      ]
     },
     "execution_count": 85,
     "metadata": {},
     "output_type": "execute_result"
    }
   ],
   "source": [
    "ridge_model.fit(x_train,y_train)"
   ]
  },
  {
   "cell_type": "code",
   "execution_count": 86,
   "metadata": {},
   "outputs": [
    {
     "data": {
      "text/plain": [
       "[('Area_dist_level_Medium', 512.2362956079319),\n",
       " ('Area_dist_level_Small', -116.18519859770876),\n",
       " ('Area_dist_level_Unknown', -284.04328587510156),\n",
       " ('Area_City_Type_Tier 2', 430.5959579531008),\n",
       " ('Area_City_Type_Tier 3', 20.50701286967308),\n",
       " ('Area_Type_DownTown', 324.00956068007537),\n",
       " ('Area_Type_Industrial', -25.952718128443333),\n",
       " ('Area_Type_MidTownResidential', -1055.1519915615934),\n",
       " ('SidEffect_Level_mild', -16.381776623449397),\n",
       " ('Medicine_Type_Antacids', 22.07810442300854),\n",
       " ('Medicine_Type_Antibiotics', 26.880971881015515),\n",
       " ('Medicine_Type_Antifungal', 13.982250104673),\n",
       " ('Medicine_Type_Antimalarial', -21.45287076315363),\n",
       " ('Medicine_Type_Antipyretics', -114.3842753948635),\n",
       " ('Medicine_Type_Antiseptics', -25.943028947127427),\n",
       " ('Medicine_Type_Antiviral', 144.15851163372622),\n",
       " ('Medicine_Type_Cardiac', 45.82835820731156),\n",
       " ('Medicine_Type_Hreplacements', -13.873266516117198),\n",
       " ('Medicine_Type_Mstablizers', 2.6013954147934086),\n",
       " ('Medicine_Type_MuscleRelaxants', 40.325921720868024),\n",
       " ('Medicine_Type_OralContraceptives', -25.876615263017655),\n",
       " ('Medicine_Type_Statins', 15.119004645954094),\n",
       " ('Medicine_Type_Stimulants', 4.625271464077456),\n",
       " ('Medicine_Type_Tranquilizers', -18.153533534797557),\n",
       " ('DistArea_ID_Area013', -112.00781113514978),\n",
       " ('DistArea_ID_Area017', 285.20883962161633),\n",
       " ('DistArea_ID_Area018', -25.952718128443657),\n",
       " ('DistArea_ID_Area019', -456.5243846848644),\n",
       " ('DistArea_ID_Area027', 757.095149010026),\n",
       " ('DistArea_ID_Area035', 116.0116369514064),\n",
       " ('DistArea_ID_Area045', 29.37548138005826),\n",
       " ('DistArea_ID_Area046', 224.3275491357617),\n",
       " ('DistArea_ID_Area049', -218.90613527362953),\n",
       " ('Counterfeit_Weight', -2.504582983493469),\n",
       " ('Active_Since', -23.59629373914635),\n",
       " ('Medicine_MRP', 14.6589216550456),\n",
       " ('Availability_rating', -73.9748570976867)]"
      ]
     },
     "execution_count": 86,
     "metadata": {},
     "output_type": "execute_result"
    }
   ],
   "source": [
    "list(zip(x_train.columns,ridge_model.coef_))"
   ]
  },
  {
   "cell_type": "code",
   "execution_count": 87,
   "metadata": {},
   "outputs": [
    {
     "data": {
      "text/plain": [
       "-790.4556099124482"
      ]
     },
     "execution_count": 87,
     "metadata": {},
     "output_type": "execute_result"
    }
   ],
   "source": [
    "grid_search.best_score_"
   ]
  },
  {
   "cell_type": "code",
   "execution_count": 88,
   "metadata": {},
   "outputs": [
    {
     "data": {
      "text/plain": [
       "{'alpha': 63.0}"
      ]
     },
     "execution_count": 88,
     "metadata": {},
     "output_type": "execute_result"
    }
   ],
   "source": [
    "grid_search.best_params_"
   ]
  },
  {
   "cell_type": "code",
   "execution_count": 89,
   "metadata": {},
   "outputs": [],
   "source": [
    "final_sal_rid = grid_search.predict(test_data)"
   ]
  },
  {
   "cell_type": "code",
   "execution_count": 90,
   "metadata": {},
   "outputs": [],
   "source": [
    "sales = pd.DataFrame(final_sal_rid)"
   ]
  },
  {
   "cell_type": "code",
   "execution_count": 91,
   "metadata": {},
   "outputs": [],
   "source": [
    "df = pd.read_csv('sample_submission_P3.csv')"
   ]
  },
  {
   "cell_type": "code",
   "execution_count": 92,
   "metadata": {},
   "outputs": [
    {
     "data": {
      "text/html": [
       "<div>\n",
       "<style scoped>\n",
       "    .dataframe tbody tr th:only-of-type {\n",
       "        vertical-align: middle;\n",
       "    }\n",
       "\n",
       "    .dataframe tbody tr th {\n",
       "        vertical-align: top;\n",
       "    }\n",
       "\n",
       "    .dataframe thead th {\n",
       "        text-align: right;\n",
       "    }\n",
       "</style>\n",
       "<table border=\"1\" class=\"dataframe\">\n",
       "  <thead>\n",
       "    <tr style=\"text-align: right;\">\n",
       "      <th></th>\n",
       "      <th>Medicine_ID</th>\n",
       "      <th>Counterfeit_Sales</th>\n",
       "    </tr>\n",
       "  </thead>\n",
       "  <tbody>\n",
       "    <tr>\n",
       "      <th>0</th>\n",
       "      <td>HLZ81</td>\n",
       "      <td>2522.529514</td>\n",
       "    </tr>\n",
       "    <tr>\n",
       "      <th>1</th>\n",
       "      <td>ECE94</td>\n",
       "      <td>3802.072094</td>\n",
       "    </tr>\n",
       "    <tr>\n",
       "      <th>2</th>\n",
       "      <td>SAD14</td>\n",
       "      <td>1397.417815</td>\n",
       "    </tr>\n",
       "    <tr>\n",
       "      <th>3</th>\n",
       "      <td>EQV63</td>\n",
       "      <td>291.229787</td>\n",
       "    </tr>\n",
       "    <tr>\n",
       "      <th>4</th>\n",
       "      <td>AIR10</td>\n",
       "      <td>-23.995078</td>\n",
       "    </tr>\n",
       "    <tr>\n",
       "      <th>...</th>\n",
       "      <td>...</td>\n",
       "      <td>...</td>\n",
       "    </tr>\n",
       "    <tr>\n",
       "      <th>1700</th>\n",
       "      <td>KXW10</td>\n",
       "      <td>3234.535810</td>\n",
       "    </tr>\n",
       "    <tr>\n",
       "      <th>1701</th>\n",
       "      <td>CKE54</td>\n",
       "      <td>1133.286170</td>\n",
       "    </tr>\n",
       "    <tr>\n",
       "      <th>1702</th>\n",
       "      <td>HAY13</td>\n",
       "      <td>2828.182002</td>\n",
       "    </tr>\n",
       "    <tr>\n",
       "      <th>1703</th>\n",
       "      <td>ZEE32</td>\n",
       "      <td>3765.961353</td>\n",
       "    </tr>\n",
       "    <tr>\n",
       "      <th>1704</th>\n",
       "      <td>NDL93</td>\n",
       "      <td>3617.716416</td>\n",
       "    </tr>\n",
       "  </tbody>\n",
       "</table>\n",
       "<p>1705 rows × 2 columns</p>\n",
       "</div>"
      ],
      "text/plain": [
       "     Medicine_ID  Counterfeit_Sales\n",
       "0          HLZ81        2522.529514\n",
       "1          ECE94        3802.072094\n",
       "2          SAD14        1397.417815\n",
       "3          EQV63         291.229787\n",
       "4          AIR10         -23.995078\n",
       "...          ...                ...\n",
       "1700       KXW10        3234.535810\n",
       "1701       CKE54        1133.286170\n",
       "1702       HAY13        2828.182002\n",
       "1703       ZEE32        3765.961353\n",
       "1704       NDL93        3617.716416\n",
       "\n",
       "[1705 rows x 2 columns]"
      ]
     },
     "execution_count": 92,
     "metadata": {},
     "output_type": "execute_result"
    }
   ],
   "source": [
    "df"
   ]
  },
  {
   "cell_type": "code",
   "execution_count": 93,
   "metadata": {},
   "outputs": [],
   "source": [
    "df[\"Counterfeit_Sales\"] = sales"
   ]
  },
  {
   "cell_type": "code",
   "execution_count": 94,
   "metadata": {},
   "outputs": [
    {
     "data": {
      "text/html": [
       "<div>\n",
       "<style scoped>\n",
       "    .dataframe tbody tr th:only-of-type {\n",
       "        vertical-align: middle;\n",
       "    }\n",
       "\n",
       "    .dataframe tbody tr th {\n",
       "        vertical-align: top;\n",
       "    }\n",
       "\n",
       "    .dataframe thead th {\n",
       "        text-align: right;\n",
       "    }\n",
       "</style>\n",
       "<table border=\"1\" class=\"dataframe\">\n",
       "  <thead>\n",
       "    <tr style=\"text-align: right;\">\n",
       "      <th></th>\n",
       "      <th>Medicine_ID</th>\n",
       "      <th>Counterfeit_Sales</th>\n",
       "    </tr>\n",
       "  </thead>\n",
       "  <tbody>\n",
       "    <tr>\n",
       "      <th>0</th>\n",
       "      <td>HLZ81</td>\n",
       "      <td>2522.529514</td>\n",
       "    </tr>\n",
       "    <tr>\n",
       "      <th>1</th>\n",
       "      <td>ECE94</td>\n",
       "      <td>3802.072094</td>\n",
       "    </tr>\n",
       "    <tr>\n",
       "      <th>2</th>\n",
       "      <td>SAD14</td>\n",
       "      <td>1397.417815</td>\n",
       "    </tr>\n",
       "    <tr>\n",
       "      <th>3</th>\n",
       "      <td>EQV63</td>\n",
       "      <td>291.229787</td>\n",
       "    </tr>\n",
       "    <tr>\n",
       "      <th>4</th>\n",
       "      <td>AIR10</td>\n",
       "      <td>-23.995078</td>\n",
       "    </tr>\n",
       "    <tr>\n",
       "      <th>...</th>\n",
       "      <td>...</td>\n",
       "      <td>...</td>\n",
       "    </tr>\n",
       "    <tr>\n",
       "      <th>1700</th>\n",
       "      <td>KXW10</td>\n",
       "      <td>3234.535810</td>\n",
       "    </tr>\n",
       "    <tr>\n",
       "      <th>1701</th>\n",
       "      <td>CKE54</td>\n",
       "      <td>1133.286170</td>\n",
       "    </tr>\n",
       "    <tr>\n",
       "      <th>1702</th>\n",
       "      <td>HAY13</td>\n",
       "      <td>2828.182002</td>\n",
       "    </tr>\n",
       "    <tr>\n",
       "      <th>1703</th>\n",
       "      <td>ZEE32</td>\n",
       "      <td>3765.961353</td>\n",
       "    </tr>\n",
       "    <tr>\n",
       "      <th>1704</th>\n",
       "      <td>NDL93</td>\n",
       "      <td>3617.716416</td>\n",
       "    </tr>\n",
       "  </tbody>\n",
       "</table>\n",
       "<p>1705 rows × 2 columns</p>\n",
       "</div>"
      ],
      "text/plain": [
       "     Medicine_ID  Counterfeit_Sales\n",
       "0          HLZ81        2522.529514\n",
       "1          ECE94        3802.072094\n",
       "2          SAD14        1397.417815\n",
       "3          EQV63         291.229787\n",
       "4          AIR10         -23.995078\n",
       "...          ...                ...\n",
       "1700       KXW10        3234.535810\n",
       "1701       CKE54        1133.286170\n",
       "1702       HAY13        2828.182002\n",
       "1703       ZEE32        3765.961353\n",
       "1704       NDL93        3617.716416\n",
       "\n",
       "[1705 rows x 2 columns]"
      ]
     },
     "execution_count": 94,
     "metadata": {},
     "output_type": "execute_result"
    }
   ],
   "source": [
    "df"
   ]
  },
  {
   "cell_type": "code",
   "execution_count": 107,
   "metadata": {},
   "outputs": [],
   "source": [
    "df.to_csv(\"sample_submission_P3.csv\", index=False)"
   ]
  },
  {
   "cell_type": "code",
   "execution_count": null,
   "metadata": {},
   "outputs": [],
   "source": [
    "# pd.DataFrame(final_sal_rid).to_csv('project3_RidReg.csv',index=False)"
   ]
  },
  {
   "cell_type": "markdown",
   "metadata": {},
   "source": [
    "## Lasso"
   ]
  },
  {
   "cell_type": "code",
   "execution_count": 95,
   "metadata": {},
   "outputs": [],
   "source": [
    "from sklearn.linear_model import Lasso"
   ]
  },
  {
   "cell_type": "code",
   "execution_count": 96,
   "metadata": {},
   "outputs": [],
   "source": [
    "lambdas1 = np.linspace(0.1,100,50)\n",
    "params1 = {'alpha':lambdas}\n",
    "model1 = Lasso(fit_intercept = True)"
   ]
  },
  {
   "cell_type": "code",
   "execution_count": 97,
   "metadata": {},
   "outputs": [],
   "source": [
    "grid_search1 = GridSearchCV(model1, param_grid = params1, cv=10, n_jobs=-1, verbose=10, scoring = 'neg_mean_absolute_error')"
   ]
  },
  {
   "cell_type": "code",
   "execution_count": 98,
   "metadata": {},
   "outputs": [
    {
     "name": "stdout",
     "output_type": "stream",
     "text": [
      "Fitting 10 folds for each of 100 candidates, totalling 1000 fits\n"
     ]
    },
    {
     "name": "stderr",
     "output_type": "stream",
     "text": [
      "[Parallel(n_jobs=-1)]: Using backend LokyBackend with 16 concurrent workers.\n",
      "[Parallel(n_jobs=-1)]: Done   9 tasks      | elapsed:    2.1s\n",
      "[Parallel(n_jobs=-1)]: Done  18 tasks      | elapsed:    2.2s\n",
      "[Parallel(n_jobs=-1)]: Done  29 tasks      | elapsed:    2.3s\n",
      "[Parallel(n_jobs=-1)]: Done  40 tasks      | elapsed:    2.5s\n",
      "[Parallel(n_jobs=-1)]: Done  53 tasks      | elapsed:    2.6s\n",
      "[Parallel(n_jobs=-1)]: Done  66 tasks      | elapsed:    2.8s\n",
      "[Parallel(n_jobs=-1)]: Done  81 tasks      | elapsed:    2.9s\n",
      "[Parallel(n_jobs=-1)]: Done  96 tasks      | elapsed:    3.0s\n",
      "[Parallel(n_jobs=-1)]: Done 113 tasks      | elapsed:    3.2s\n",
      "[Parallel(n_jobs=-1)]: Done 130 tasks      | elapsed:    3.4s\n",
      "[Parallel(n_jobs=-1)]: Done 149 tasks      | elapsed:    3.5s\n",
      "[Parallel(n_jobs=-1)]: Done 168 tasks      | elapsed:    3.7s\n",
      "[Parallel(n_jobs=-1)]: Done 189 tasks      | elapsed:    3.9s\n",
      "[Parallel(n_jobs=-1)]: Done 210 tasks      | elapsed:    4.1s\n",
      "[Parallel(n_jobs=-1)]: Done 233 tasks      | elapsed:    4.2s\n",
      "[Parallel(n_jobs=-1)]: Done 256 tasks      | elapsed:    4.4s\n",
      "[Parallel(n_jobs=-1)]: Done 281 tasks      | elapsed:    4.6s\n",
      "[Parallel(n_jobs=-1)]: Done 306 tasks      | elapsed:    4.8s\n",
      "[Parallel(n_jobs=-1)]: Done 333 tasks      | elapsed:    5.0s\n",
      "[Parallel(n_jobs=-1)]: Done 360 tasks      | elapsed:    5.2s\n",
      "[Parallel(n_jobs=-1)]: Done 389 tasks      | elapsed:    5.5s\n",
      "[Parallel(n_jobs=-1)]: Done 418 tasks      | elapsed:    5.6s\n",
      "[Parallel(n_jobs=-1)]: Batch computation too fast (0.1960s.) Setting batch_size=2.\n",
      "[Parallel(n_jobs=-1)]: Done 449 tasks      | elapsed:    5.9s\n",
      "[Parallel(n_jobs=-1)]: Done 496 tasks      | elapsed:    6.1s\n",
      "[Parallel(n_jobs=-1)]: Done 562 tasks      | elapsed:    6.5s\n",
      "[Parallel(n_jobs=-1)]: Done 628 tasks      | elapsed:    6.9s\n",
      "[Parallel(n_jobs=-1)]: Done 698 tasks      | elapsed:    7.2s\n",
      "[Parallel(n_jobs=-1)]: Done 768 tasks      | elapsed:    7.6s\n",
      "[Parallel(n_jobs=-1)]: Done 842 tasks      | elapsed:    8.0s\n",
      "[Parallel(n_jobs=-1)]: Done 916 tasks      | elapsed:    8.4s\n",
      "[Parallel(n_jobs=-1)]: Done 1000 out of 1000 | elapsed:    8.6s finished\n"
     ]
    },
    {
     "data": {
      "text/plain": [
       "GridSearchCV(cv=10, error_score=nan,\n",
       "             estimator=Lasso(alpha=1.0, copy_X=True, fit_intercept=True,\n",
       "                             max_iter=1000, normalize=False, positive=False,\n",
       "                             precompute=False, random_state=None,\n",
       "                             selection='cyclic', tol=0.0001, warm_start=False),\n",
       "             iid='deprecated', n_jobs=-1,\n",
       "             param_grid={'alpha': array([  1.,   2.,   3.,   4.,   5.,   6.,   7.,   8.,   9.,  10.,  11.,\n",
       "        12.,  13.,  14.,  15.,  16.,  17.,  18.,  19.,  20.,  21.,  2...\n",
       "        34.,  35.,  36.,  37.,  38.,  39.,  40.,  41.,  42.,  43.,  44.,\n",
       "        45.,  46.,  47.,  48.,  49.,  50.,  51.,  52.,  53.,  54.,  55.,\n",
       "        56.,  57.,  58.,  59.,  60.,  61.,  62.,  63.,  64.,  65.,  66.,\n",
       "        67.,  68.,  69.,  70.,  71.,  72.,  73.,  74.,  75.,  76.,  77.,\n",
       "        78.,  79.,  80.,  81.,  82.,  83.,  84.,  85.,  86.,  87.,  88.,\n",
       "        89.,  90.,  91.,  92.,  93.,  94.,  95.,  96.,  97.,  98.,  99.,\n",
       "       100.])},\n",
       "             pre_dispatch='2*n_jobs', refit=True, return_train_score=False,\n",
       "             scoring='neg_mean_absolute_error', verbose=10)"
      ]
     },
     "execution_count": 98,
     "metadata": {},
     "output_type": "execute_result"
    }
   ],
   "source": [
    "grid_search1.fit(x_train1,y_train1)"
   ]
  },
  {
   "cell_type": "code",
   "execution_count": 99,
   "metadata": {},
   "outputs": [
    {
     "data": {
      "text/plain": [
       "Lasso(alpha=4.0, copy_X=True, fit_intercept=True, max_iter=1000,\n",
       "      normalize=False, positive=False, precompute=False, random_state=None,\n",
       "      selection='cyclic', tol=0.0001, warm_start=False)"
      ]
     },
     "execution_count": 99,
     "metadata": {},
     "output_type": "execute_result"
    }
   ],
   "source": [
    "grid_search1.best_estimator_"
   ]
  },
  {
   "cell_type": "code",
   "execution_count": 100,
   "metadata": {},
   "outputs": [],
   "source": [
    "pred_sal_lasso = grid_search1.predict(x_train2)"
   ]
  },
  {
   "cell_type": "code",
   "execution_count": 101,
   "metadata": {},
   "outputs": [
    {
     "data": {
      "text/plain": [
       "array([2755.32694601, 1455.41111522, 5272.58564976, ..., 1988.81162476,\n",
       "       3627.53568223, 1854.61263407])"
      ]
     },
     "execution_count": 101,
     "metadata": {},
     "output_type": "execute_result"
    }
   ],
   "source": [
    "pred_sal_lasso"
   ]
  },
  {
   "cell_type": "code",
   "execution_count": 102,
   "metadata": {},
   "outputs": [
    {
     "data": {
      "text/plain": [
       "796.4778559570784"
      ]
     },
     "execution_count": 102,
     "metadata": {},
     "output_type": "execute_result"
    }
   ],
   "source": [
    "mean_absolute_error(y_train2,pred_sal_lasso)"
   ]
  },
  {
   "cell_type": "markdown",
   "metadata": {},
   "source": [
    "## Using Lasso on entire training data."
   ]
  },
  {
   "cell_type": "code",
   "execution_count": 103,
   "metadata": {},
   "outputs": [],
   "source": [
    "lambdas1 = np.linspace(0.1,5,50)\n",
    "params1 = {'alpha':lambdas}\n",
    "model1 = Lasso(fit_intercept = True)"
   ]
  },
  {
   "cell_type": "code",
   "execution_count": 104,
   "metadata": {},
   "outputs": [],
   "source": [
    "grid_search1 = GridSearchCV(model1, param_grid = params1, cv=10, n_jobs=-1, verbose=10, scoring = 'neg_mean_absolute_error')"
   ]
  },
  {
   "cell_type": "code",
   "execution_count": 105,
   "metadata": {},
   "outputs": [
    {
     "name": "stdout",
     "output_type": "stream",
     "text": [
      "Fitting 10 folds for each of 100 candidates, totalling 1000 fits\n"
     ]
    },
    {
     "name": "stderr",
     "output_type": "stream",
     "text": [
      "[Parallel(n_jobs=-1)]: Using backend LokyBackend with 16 concurrent workers.\n",
      "[Parallel(n_jobs=-1)]: Batch computation too fast (0.0690s.) Setting batch_size=2.\n",
      "[Parallel(n_jobs=-1)]: Done   9 tasks      | elapsed:    0.1s\n",
      "[Parallel(n_jobs=-1)]: Done  18 tasks      | elapsed:    0.2s\n",
      "[Parallel(n_jobs=-1)]: Done  29 tasks      | elapsed:    0.4s\n",
      "[Parallel(n_jobs=-1)]: Done  48 tasks      | elapsed:    0.6s\n",
      "[Parallel(n_jobs=-1)]: Done  74 tasks      | elapsed:    0.7s\n",
      "[Parallel(n_jobs=-1)]: Done 100 tasks      | elapsed:    0.9s\n",
      "[Parallel(n_jobs=-1)]: Done 130 tasks      | elapsed:    1.0s\n",
      "[Parallel(n_jobs=-1)]: Done 160 tasks      | elapsed:    1.2s\n",
      "[Parallel(n_jobs=-1)]: Done 194 tasks      | elapsed:    1.4s\n",
      "[Parallel(n_jobs=-1)]: Done 228 tasks      | elapsed:    1.6s\n",
      "[Parallel(n_jobs=-1)]: Done 266 tasks      | elapsed:    1.8s\n",
      "[Parallel(n_jobs=-1)]: Done 304 tasks      | elapsed:    2.0s\n",
      "[Parallel(n_jobs=-1)]: Done 346 tasks      | elapsed:    2.2s\n",
      "[Parallel(n_jobs=-1)]: Done 388 tasks      | elapsed:    2.5s\n",
      "[Parallel(n_jobs=-1)]: Done 434 tasks      | elapsed:    2.7s\n",
      "[Parallel(n_jobs=-1)]: Done 480 tasks      | elapsed:    2.9s\n",
      "[Parallel(n_jobs=-1)]: Done 530 tasks      | elapsed:    3.2s\n",
      "[Parallel(n_jobs=-1)]: Done 580 tasks      | elapsed:    3.5s\n",
      "[Parallel(n_jobs=-1)]: Done 634 tasks      | elapsed:    3.8s\n",
      "[Parallel(n_jobs=-1)]: Done 688 tasks      | elapsed:    4.1s\n",
      "[Parallel(n_jobs=-1)]: Done 746 tasks      | elapsed:    4.4s\n",
      "[Parallel(n_jobs=-1)]: Done 804 tasks      | elapsed:    4.7s\n",
      "[Parallel(n_jobs=-1)]: Done 866 tasks      | elapsed:    5.0s\n",
      "[Parallel(n_jobs=-1)]: Done 928 tasks      | elapsed:    5.4s\n",
      "[Parallel(n_jobs=-1)]: Done 1000 out of 1000 | elapsed:    5.5s finished\n"
     ]
    },
    {
     "data": {
      "text/plain": [
       "GridSearchCV(cv=10, error_score=nan,\n",
       "             estimator=Lasso(alpha=1.0, copy_X=True, fit_intercept=True,\n",
       "                             max_iter=1000, normalize=False, positive=False,\n",
       "                             precompute=False, random_state=None,\n",
       "                             selection='cyclic', tol=0.0001, warm_start=False),\n",
       "             iid='deprecated', n_jobs=-1,\n",
       "             param_grid={'alpha': array([  1.,   2.,   3.,   4.,   5.,   6.,   7.,   8.,   9.,  10.,  11.,\n",
       "        12.,  13.,  14.,  15.,  16.,  17.,  18.,  19.,  20.,  21.,  2...\n",
       "        34.,  35.,  36.,  37.,  38.,  39.,  40.,  41.,  42.,  43.,  44.,\n",
       "        45.,  46.,  47.,  48.,  49.,  50.,  51.,  52.,  53.,  54.,  55.,\n",
       "        56.,  57.,  58.,  59.,  60.,  61.,  62.,  63.,  64.,  65.,  66.,\n",
       "        67.,  68.,  69.,  70.,  71.,  72.,  73.,  74.,  75.,  76.,  77.,\n",
       "        78.,  79.,  80.,  81.,  82.,  83.,  84.,  85.,  86.,  87.,  88.,\n",
       "        89.,  90.,  91.,  92.,  93.,  94.,  95.,  96.,  97.,  98.,  99.,\n",
       "       100.])},\n",
       "             pre_dispatch='2*n_jobs', refit=True, return_train_score=False,\n",
       "             scoring='neg_mean_absolute_error', verbose=10)"
      ]
     },
     "execution_count": 105,
     "metadata": {},
     "output_type": "execute_result"
    }
   ],
   "source": [
    "grid_search1.fit(x_train,y_train)"
   ]
  },
  {
   "cell_type": "code",
   "execution_count": 106,
   "metadata": {},
   "outputs": [
    {
     "data": {
      "text/plain": [
       "Lasso(alpha=4.0, copy_X=True, fit_intercept=True, max_iter=1000,\n",
       "      normalize=False, positive=False, precompute=False, random_state=None,\n",
       "      selection='cyclic', tol=0.0001, warm_start=False)"
      ]
     },
     "execution_count": 106,
     "metadata": {},
     "output_type": "execute_result"
    }
   ],
   "source": [
    "grid_search1.best_estimator_"
   ]
  },
  {
   "cell_type": "code",
   "execution_count": 107,
   "metadata": {},
   "outputs": [
    {
     "data": {
      "text/plain": [
       "{'mean_fit_time': array([0.05872338, 0.04707968, 0.0397516 , 0.037009  , 0.03786418,\n",
       "        0.03415349, 0.03199456, 0.02823634, 0.02534144, 0.02602472,\n",
       "        0.02639263, 0.02470975, 0.02177641, 0.02467759, 0.02559276,\n",
       "        0.02748766, 0.02965436, 0.02844572, 0.02791889, 0.0250227 ,\n",
       "        0.02354755, 0.02327409, 0.02089458, 0.02224684, 0.02148178,\n",
       "        0.02101209, 0.02020586, 0.02036302, 0.02057335, 0.01966794,\n",
       "        0.02116914, 0.02039666, 0.02234921, 0.02109008, 0.01970553,\n",
       "        0.02130117, 0.02131183, 0.02013111, 0.01978509, 0.01945434,\n",
       "        0.02031784, 0.01990025, 0.01901371, 0.02047677, 0.01877382,\n",
       "        0.01961937, 0.02119267, 0.01926775, 0.02007802, 0.02060802,\n",
       "        0.02002287, 0.01929574, 0.01842787, 0.01765027, 0.01871502,\n",
       "        0.01965337, 0.02006934, 0.0194241 , 0.02142007, 0.01996117,\n",
       "        0.01875572, 0.02019839, 0.01971803, 0.01885428, 0.02069831,\n",
       "        0.02089276, 0.01984696, 0.02074292, 0.02025695, 0.02009115,\n",
       "        0.01985507, 0.01933334, 0.01990659, 0.01867075, 0.01967423,\n",
       "        0.0197968 , 0.01914105, 0.01708424, 0.01691709, 0.01930799,\n",
       "        0.02081866, 0.02289641, 0.02148917, 0.0209815 , 0.02230182,\n",
       "        0.02275991, 0.02150569, 0.02252347, 0.02176855, 0.02032003,\n",
       "        0.02138319, 0.02067242, 0.01909771, 0.01867859, 0.01940031,\n",
       "        0.01933537, 0.02035067, 0.02041032, 0.01745222, 0.01640577]),\n",
       " 'std_fit_time': array([0.01283101, 0.00484048, 0.00243927, 0.00490402, 0.0018113 ,\n",
       "        0.00328769, 0.0028769 , 0.00517769, 0.00324937, 0.00227828,\n",
       "        0.00224979, 0.00279217, 0.00299459, 0.00231356, 0.00429672,\n",
       "        0.00173099, 0.00275205, 0.00219643, 0.00292027, 0.00386471,\n",
       "        0.00205477, 0.00181356, 0.0022284 , 0.00228515, 0.00106272,\n",
       "        0.00272794, 0.00193884, 0.00253321, 0.00230484, 0.00223182,\n",
       "        0.00128661, 0.00216271, 0.00172235, 0.00170993, 0.00184085,\n",
       "        0.00081791, 0.00182905, 0.00261086, 0.00236854, 0.00261816,\n",
       "        0.00140756, 0.00117848, 0.0027892 , 0.00231507, 0.00287322,\n",
       "        0.0023115 , 0.00149964, 0.00272144, 0.00224121, 0.00256468,\n",
       "        0.0015658 , 0.00252768, 0.00311163, 0.00283282, 0.00225363,\n",
       "        0.00167185, 0.00170655, 0.00302535, 0.00180235, 0.00141873,\n",
       "        0.00205989, 0.00201561, 0.00168939, 0.00185385, 0.00177449,\n",
       "        0.00153433, 0.00195108, 0.00163734, 0.00183507, 0.00177972,\n",
       "        0.00200173, 0.00198167, 0.00210361, 0.00251164, 0.00120215,\n",
       "        0.00151919, 0.00247208, 0.00258782, 0.0022217 , 0.00258535,\n",
       "        0.00128679, 0.00070706, 0.00094384, 0.00161335, 0.00144856,\n",
       "        0.00219382, 0.00194703, 0.00207686, 0.00082989, 0.00215883,\n",
       "        0.00161578, 0.00202621, 0.00248019, 0.00168535, 0.00140797,\n",
       "        0.00206848, 0.00170046, 0.00191887, 0.00189154, 0.00278696]),\n",
       " 'mean_score_time': array([0.00315948, 0.00339966, 0.00353513, 0.00372341, 0.00421653,\n",
       "        0.00356178, 0.00369582, 0.00292261, 0.00281017, 0.0036196 ,\n",
       "        0.0037389 , 0.00359085, 0.0031872 , 0.00353541, 0.00327106,\n",
       "        0.00363076, 0.00362365, 0.00373902, 0.00325027, 0.00353851,\n",
       "        0.00319209, 0.00343344, 0.00343692, 0.00358756, 0.00350425,\n",
       "        0.00309758, 0.00337892, 0.00340354, 0.00332429, 0.0031486 ,\n",
       "        0.00351315, 0.00325041, 0.00310142, 0.00355587, 0.00309384,\n",
       "        0.00351305, 0.00360909, 0.00342283, 0.00321755, 0.00345232,\n",
       "        0.00286887, 0.003196  , 0.00273905, 0.00335207, 0.0030725 ,\n",
       "        0.00351   , 0.00356164, 0.00325129, 0.00360601, 0.00327275,\n",
       "        0.00347335, 0.00346398, 0.00244277, 0.00301235, 0.00347433,\n",
       "        0.00344961, 0.00350831, 0.00321128, 0.00356011, 0.00305679,\n",
       "        0.00323026, 0.0031858 , 0.0034966 , 0.00325141, 0.00323212,\n",
       "        0.00324755, 0.00331795, 0.00324929, 0.00358949, 0.00322523,\n",
       "        0.00292397, 0.003333  , 0.00326602, 0.00281506, 0.0032635 ,\n",
       "        0.00302022, 0.00296488, 0.00268719, 0.00293686, 0.00270793,\n",
       "        0.00361805, 0.00379231, 0.00355954, 0.00343051, 0.00388207,\n",
       "        0.00388286, 0.00327978, 0.0037358 , 0.00325618, 0.00321844,\n",
       "        0.00351484, 0.00340383, 0.00314045, 0.00343478, 0.00336223,\n",
       "        0.00308335, 0.00341041, 0.00322204, 0.0028363 , 0.00290761]),\n",
       " 'std_score_time': array([0.00078586, 0.00052321, 0.00053342, 0.00052221, 0.0004043 ,\n",
       "        0.00077329, 0.00071508, 0.00060126, 0.00068667, 0.00062395,\n",
       "        0.00053338, 0.00064112, 0.00053447, 0.00053756, 0.00063811,\n",
       "        0.00047952, 0.00089116, 0.00056166, 0.00080224, 0.00074888,\n",
       "        0.00096735, 0.00070899, 0.00076315, 0.00037448, 0.00068395,\n",
       "        0.00044462, 0.00049389, 0.00078242, 0.00059384, 0.00087186,\n",
       "        0.00058989, 0.00052338, 0.00056106, 0.00076584, 0.00076576,\n",
       "        0.00059216, 0.00049391, 0.00062212, 0.00058388, 0.00062929,\n",
       "        0.00077547, 0.00052392, 0.00075562, 0.00056212, 0.00037451,\n",
       "        0.00054231, 0.0004354 , 0.00061802, 0.00050381, 0.0006017 ,\n",
       "        0.0005155 , 0.00067269, 0.00060818, 0.00087686, 0.00084098,\n",
       "        0.00045956, 0.00085555, 0.00076851, 0.00048459, 0.00061833,\n",
       "        0.00080754, 0.00077407, 0.00064786, 0.00066131, 0.00050245,\n",
       "        0.00048308, 0.00084696, 0.00075777, 0.00053221, 0.00043786,\n",
       "        0.00062104, 0.00061383, 0.00056423, 0.00066231, 0.00078751,\n",
       "        0.00060067, 0.00043761, 0.0007949 , 0.00049984, 0.00073816,\n",
       "        0.00050667, 0.00052503, 0.00085258, 0.00088046, 0.00037938,\n",
       "        0.000445  , 0.00071851, 0.00071111, 0.00058492, 0.00063484,\n",
       "        0.00064621, 0.00073738, 0.00056752, 0.00065257, 0.00047777,\n",
       "        0.00086617, 0.00048791, 0.00087598, 0.0007179 , 0.00058309]),\n",
       " 'param_alpha': masked_array(data=[1.0, 2.0, 3.0, 4.0, 5.0, 6.0, 7.0, 8.0, 9.0, 10.0,\n",
       "                    11.0, 12.0, 13.0, 14.0, 15.0, 16.0, 17.0, 18.0, 19.0,\n",
       "                    20.0, 21.0, 22.0, 23.0, 24.0, 25.0, 26.0, 27.0, 28.0,\n",
       "                    29.0, 30.0, 31.0, 32.0, 33.0, 34.0, 35.0, 36.0, 37.0,\n",
       "                    38.0, 39.0, 40.0, 41.0, 42.0, 43.0, 44.0, 45.0, 46.0,\n",
       "                    47.0, 48.0, 49.0, 50.0, 51.0, 52.0, 53.0, 54.0, 55.0,\n",
       "                    56.0, 57.0, 58.0, 59.0, 60.0, 61.0, 62.0, 63.0, 64.0,\n",
       "                    65.0, 66.0, 67.0, 68.0, 69.0, 70.0, 71.0, 72.0, 73.0,\n",
       "                    74.0, 75.0, 76.0, 77.0, 78.0, 79.0, 80.0, 81.0, 82.0,\n",
       "                    83.0, 84.0, 85.0, 86.0, 87.0, 88.0, 89.0, 90.0, 91.0,\n",
       "                    92.0, 93.0, 94.0, 95.0, 96.0, 97.0, 98.0, 99.0, 100.0],\n",
       "              mask=[False, False, False, False, False, False, False, False,\n",
       "                    False, False, False, False, False, False, False, False,\n",
       "                    False, False, False, False, False, False, False, False,\n",
       "                    False, False, False, False, False, False, False, False,\n",
       "                    False, False, False, False, False, False, False, False,\n",
       "                    False, False, False, False, False, False, False, False,\n",
       "                    False, False, False, False, False, False, False, False,\n",
       "                    False, False, False, False, False, False, False, False,\n",
       "                    False, False, False, False, False, False, False, False,\n",
       "                    False, False, False, False, False, False, False, False,\n",
       "                    False, False, False, False, False, False, False, False,\n",
       "                    False, False, False, False, False, False, False, False,\n",
       "                    False, False, False, False],\n",
       "        fill_value='?',\n",
       "             dtype=object),\n",
       " 'params': [{'alpha': 1.0},\n",
       "  {'alpha': 2.0},\n",
       "  {'alpha': 3.0},\n",
       "  {'alpha': 4.0},\n",
       "  {'alpha': 5.0},\n",
       "  {'alpha': 6.0},\n",
       "  {'alpha': 7.0},\n",
       "  {'alpha': 8.0},\n",
       "  {'alpha': 9.0},\n",
       "  {'alpha': 10.0},\n",
       "  {'alpha': 11.0},\n",
       "  {'alpha': 12.0},\n",
       "  {'alpha': 13.0},\n",
       "  {'alpha': 14.0},\n",
       "  {'alpha': 15.0},\n",
       "  {'alpha': 16.0},\n",
       "  {'alpha': 17.0},\n",
       "  {'alpha': 18.0},\n",
       "  {'alpha': 19.0},\n",
       "  {'alpha': 20.0},\n",
       "  {'alpha': 21.0},\n",
       "  {'alpha': 22.0},\n",
       "  {'alpha': 23.0},\n",
       "  {'alpha': 24.0},\n",
       "  {'alpha': 25.0},\n",
       "  {'alpha': 26.0},\n",
       "  {'alpha': 27.0},\n",
       "  {'alpha': 28.0},\n",
       "  {'alpha': 29.0},\n",
       "  {'alpha': 30.0},\n",
       "  {'alpha': 31.0},\n",
       "  {'alpha': 32.0},\n",
       "  {'alpha': 33.0},\n",
       "  {'alpha': 34.0},\n",
       "  {'alpha': 35.0},\n",
       "  {'alpha': 36.0},\n",
       "  {'alpha': 37.0},\n",
       "  {'alpha': 38.0},\n",
       "  {'alpha': 39.0},\n",
       "  {'alpha': 40.0},\n",
       "  {'alpha': 41.0},\n",
       "  {'alpha': 42.0},\n",
       "  {'alpha': 43.0},\n",
       "  {'alpha': 44.0},\n",
       "  {'alpha': 45.0},\n",
       "  {'alpha': 46.0},\n",
       "  {'alpha': 47.0},\n",
       "  {'alpha': 48.0},\n",
       "  {'alpha': 49.0},\n",
       "  {'alpha': 50.0},\n",
       "  {'alpha': 51.0},\n",
       "  {'alpha': 52.0},\n",
       "  {'alpha': 53.0},\n",
       "  {'alpha': 54.0},\n",
       "  {'alpha': 55.0},\n",
       "  {'alpha': 56.0},\n",
       "  {'alpha': 57.0},\n",
       "  {'alpha': 58.0},\n",
       "  {'alpha': 59.0},\n",
       "  {'alpha': 60.0},\n",
       "  {'alpha': 61.0},\n",
       "  {'alpha': 62.0},\n",
       "  {'alpha': 63.0},\n",
       "  {'alpha': 64.0},\n",
       "  {'alpha': 65.0},\n",
       "  {'alpha': 66.0},\n",
       "  {'alpha': 67.0},\n",
       "  {'alpha': 68.0},\n",
       "  {'alpha': 69.0},\n",
       "  {'alpha': 70.0},\n",
       "  {'alpha': 71.0},\n",
       "  {'alpha': 72.0},\n",
       "  {'alpha': 73.0},\n",
       "  {'alpha': 74.0},\n",
       "  {'alpha': 75.0},\n",
       "  {'alpha': 76.0},\n",
       "  {'alpha': 77.0},\n",
       "  {'alpha': 78.0},\n",
       "  {'alpha': 79.0},\n",
       "  {'alpha': 80.0},\n",
       "  {'alpha': 81.0},\n",
       "  {'alpha': 82.0},\n",
       "  {'alpha': 83.0},\n",
       "  {'alpha': 84.0},\n",
       "  {'alpha': 85.0},\n",
       "  {'alpha': 86.0},\n",
       "  {'alpha': 87.0},\n",
       "  {'alpha': 88.0},\n",
       "  {'alpha': 89.0},\n",
       "  {'alpha': 90.0},\n",
       "  {'alpha': 91.0},\n",
       "  {'alpha': 92.0},\n",
       "  {'alpha': 93.0},\n",
       "  {'alpha': 94.0},\n",
       "  {'alpha': 95.0},\n",
       "  {'alpha': 96.0},\n",
       "  {'alpha': 97.0},\n",
       "  {'alpha': 98.0},\n",
       "  {'alpha': 99.0},\n",
       "  {'alpha': 100.0}],\n",
       " 'split0_test_score': array([-746.019699  , -745.50056204, -745.22327166, -745.10557549,\n",
       "        -744.99960319, -744.95647049, -744.97825796, -744.87385294,\n",
       "        -744.8978428 , -745.03015299, -745.17605661, -745.33214275,\n",
       "        -745.54142726, -745.83557955, -746.2605029 , -746.74273745,\n",
       "        -747.23538455, -747.7279211 , -748.24370018, -748.84265571,\n",
       "        -749.47368394, -750.0452647 , -750.64819109, -751.25051995,\n",
       "        -751.8652498 , -752.51398974, -753.18931214, -753.90289594,\n",
       "        -754.63514763, -755.3519422 , -756.05105919, -756.76540231,\n",
       "        -757.48151832, -758.19773611, -758.92419721, -759.66921959,\n",
       "        -760.41311584, -761.17928337, -761.97746191, -762.77675717,\n",
       "        -763.57681406, -764.39990322, -765.23779258, -766.11961966,\n",
       "        -767.00144674, -767.92174385, -768.90365121, -769.8990567 ,\n",
       "        -770.90138126, -771.90456672, -772.90781056, -773.91508145,\n",
       "        -774.92302316, -775.93149113, -776.9399591 , -777.94911525,\n",
       "        -778.98993272, -780.05240843, -781.11575218, -782.17603651,\n",
       "        -783.23632164, -784.30546053, -785.38679189, -786.47683354,\n",
       "        -787.57898871, -788.68167144, -789.78352866, -790.88673612,\n",
       "        -792.02349161, -793.18557419, -794.34838184, -795.51825081,\n",
       "        -796.72550984, -797.95457736, -799.19789981, -800.4431799 ,\n",
       "        -801.68853643, -802.96380956, -804.27134384, -805.57887811,\n",
       "        -806.88641238, -808.19394666, -809.51445261, -810.86753714,\n",
       "        -812.25330952, -813.63913329, -815.03622655, -816.45414665,\n",
       "        -817.88215719, -819.35039731, -820.83821701, -822.33669063,\n",
       "        -823.83516425, -824.98246856, -825.90127486, -826.8372378 ,\n",
       "        -827.77519947, -828.71996079, -829.66671902, -830.61359006]),\n",
       " 'split1_test_score': array([-839.57205327, -837.96760665, -837.24646346, -836.96739292,\n",
       "        -836.90590564, -836.90635151, -837.02705588, -837.52478853,\n",
       "        -838.0676746 , -838.61743124, -838.9731386 , -839.47068225,\n",
       "        -839.98981607, -840.42562633, -840.87669836, -841.35820717,\n",
       "        -841.84545029, -842.33291319, -842.83870361, -843.36169072,\n",
       "        -843.83837272, -844.28870473, -844.74935341, -845.22576363,\n",
       "        -845.73232155, -846.2479984 , -846.67736397, -847.11582275,\n",
       "        -847.55884308, -847.9994385 , -848.43895295, -848.89760156,\n",
       "        -849.36539366, -849.83129918, -850.29969009, -850.76800363,\n",
       "        -851.23821602, -851.71990015, -852.2191222 , -852.7191713 ,\n",
       "        -853.25367043, -853.80600511, -854.38110219, -854.96882682,\n",
       "        -855.56353949, -856.21250246, -856.88972624, -857.59745662,\n",
       "        -858.33395247, -859.10754347, -859.93448009, -860.77054629,\n",
       "        -861.61756827, -862.48707857, -863.37461305, -864.26500498,\n",
       "        -865.1821168 , -866.12160616, -867.05991422, -868.01406415,\n",
       "        -869.00345947, -870.02571164, -871.06899234, -872.13356162,\n",
       "        -873.19813091, -874.26270019, -875.32726948, -876.39822273,\n",
       "        -877.51243228, -878.62556789, -879.7387035 , -880.87132215,\n",
       "        -882.01447   , -883.18305288, -884.36223894, -885.55931689,\n",
       "        -886.76682986, -888.00083681, -889.24613065, -890.51039531,\n",
       "        -891.77953805, -893.0649764 , -894.34977181, -895.63516755,\n",
       "        -896.92096048, -898.20678988, -899.49263133, -900.77847279,\n",
       "        -902.07182813, -903.38366076, -904.69549338, -906.02626698,\n",
       "        -907.36670753, -908.40198809, -909.17140922, -909.94138827,\n",
       "        -910.71026559, -911.48081008, -912.25150997, -913.02223522]),\n",
       " 'split2_test_score': array([-761.17669689, -762.21614615, -763.00785961, -763.81239534,\n",
       "        -764.55937241, -765.23619582, -765.8524692 , -766.51560547,\n",
       "        -766.94146819, -767.34714885, -767.75098952, -768.1755689 ,\n",
       "        -768.65944568, -769.20301513, -769.65375857, -770.13740978,\n",
       "        -770.6678886 , -771.28018738, -771.94844381, -772.33509581,\n",
       "        -772.64307148, -772.97314548, -773.3101472 , -773.64693279,\n",
       "        -773.98485283, -774.36354151, -774.74588233, -775.14315667,\n",
       "        -775.52803548, -775.91358599, -776.31383685, -776.7476386 ,\n",
       "        -777.1938736 , -777.66109277, -778.13920196, -778.6200448 ,\n",
       "        -779.12716692, -779.67325278, -780.22008352, -780.80679786,\n",
       "        -781.41167596, -782.01721855, -782.62276115, -783.22830374,\n",
       "        -783.83384633, -784.46357812, -785.0992491 , -785.75400767,\n",
       "        -786.42333864, -787.10714736, -787.80288927, -788.49820835,\n",
       "        -789.20670064, -789.93115647, -790.6551156 , -791.37907472,\n",
       "        -792.1043394 , -792.83290801, -793.6017477 , -794.3961692 ,\n",
       "        -795.2225373 , -796.06943948, -796.92635418, -797.81963617,\n",
       "        -798.71454083, -799.60870733, -800.50287384, -801.40889398,\n",
       "        -802.323561  , -803.2408068 , -804.16889275, -805.10781932,\n",
       "        -806.04654553, -806.99226854, -807.97688197, -808.97871134,\n",
       "        -809.98129159, -810.98330533, -811.98531907, -812.98970357,\n",
       "        -813.99515608, -815.00299416, -816.02917314, -817.05535212,\n",
       "        -818.09986455, -819.14608469, -820.19231306, -821.24064509,\n",
       "        -822.29823647, -823.37139955, -824.44456267, -825.51772578,\n",
       "        -826.59088904, -827.70214097, -828.81823715, -829.71551829,\n",
       "        -830.36438446, -831.01309756, -831.68265045, -832.3516472 ]),\n",
       " 'split3_test_score': array([-783.74662726, -783.75549674, -783.53996694, -783.52381671,\n",
       "        -783.61289772, -783.80415199, -783.92084146, -784.09408951,\n",
       "        -784.03038836, -784.06015305, -784.25978209, -784.65461523,\n",
       "        -785.10956768, -785.53099725, -785.96077069, -786.40869075,\n",
       "        -786.91085606, -787.47060123, -787.7973838 , -787.99192191,\n",
       "        -788.18977362, -788.39179435, -788.5936244 , -788.79524583,\n",
       "        -788.89357667, -788.86933279, -788.86539985, -788.87157907,\n",
       "        -788.87770706, -788.88334458, -788.91045666, -788.94285339,\n",
       "        -788.9764478 , -789.01260011, -789.04872098, -789.08716901,\n",
       "        -789.15142689, -789.215776  , -789.28018331, -789.34459063,\n",
       "        -789.41070265, -789.47865909, -789.56714892, -789.65784829,\n",
       "        -789.74943982, -789.84330175, -789.94052613, -790.05591539,\n",
       "        -790.18290585, -790.30990825, -790.43693667, -790.56752956,\n",
       "        -790.72428705, -790.8815406 , -791.0388848 , -791.20703433,\n",
       "        -791.39542622, -791.5841061 , -791.77557629, -791.96704648,\n",
       "        -792.15851666, -792.35342441, -792.57479865, -792.79889736,\n",
       "        -793.02611117, -793.25350707, -793.5048188 , -793.78188799,\n",
       "        -794.09236068, -794.44997359, -794.84811572, -795.25403559,\n",
       "        -795.67145025, -796.12178709, -796.6057398 , -797.11043287,\n",
       "        -797.62619104, -798.14637556, -798.6884966 , -799.23061763,\n",
       "        -799.77261557, -800.31472175, -800.8833196 , -801.51191772,\n",
       "        -802.14579345, -802.77966918, -803.41426631, -804.10310604,\n",
       "        -804.84201456, -805.58937216, -806.33672976, -807.11297262,\n",
       "        -807.93660556, -808.83569716, -809.77463282, -810.73448494,\n",
       "        -811.71765338, -812.32092271, -812.91343088, -813.50885602]),\n",
       " 'split4_test_score': array([-803.50083817, -802.90505078, -802.24508753, -801.6179746 ,\n",
       "        -801.34320042, -801.29522338, -801.09296238, -800.81318582,\n",
       "        -800.69304427, -800.60587781, -800.53672005, -800.46265066,\n",
       "        -800.41888441, -800.38233658, -800.35519822, -800.34136329,\n",
       "        -800.32755436, -800.3511907 , -800.40710018, -800.5080083 ,\n",
       "        -800.61228702, -800.71851271, -800.82509553, -800.93486437,\n",
       "        -801.06566351, -801.20563982, -801.34812086, -801.49685379,\n",
       "        -801.64793999, -801.81813712, -801.99002083, -802.18217858,\n",
       "        -802.40696804, -802.64786909, -802.89578341, -803.15836811,\n",
       "        -803.43686989, -803.71968034, -804.0244641 , -804.35421808,\n",
       "        -804.68583433, -805.01869834, -805.35156082, -805.69430793,\n",
       "        -806.04765284, -806.40148979, -806.76097204, -807.13738063,\n",
       "        -807.54647994, -807.98551159, -808.42774854, -808.87550748,\n",
       "        -809.32410198, -809.79580148, -810.29815378, -810.8125132 ,\n",
       "        -811.39425047, -812.00558955, -812.63727366, -813.28958733,\n",
       "        -813.97581138, -814.6954905 , -815.41516962, -816.14393016,\n",
       "        -816.92166994, -817.70140815, -818.48242162, -819.26343508,\n",
       "        -820.04539874, -820.82611409, -821.6076343 , -822.38943179,\n",
       "        -823.1712732 , -823.98768874, -824.86273589, -825.73779275,\n",
       "        -826.64181924, -827.54870118, -828.45604994, -829.3873376 ,\n",
       "        -830.32554107, -831.26478458, -832.20312804, -833.14305703,\n",
       "        -834.08880155, -835.08769002, -836.133205  , -837.17871997,\n",
       "        -838.22425811, -839.26984184, -840.31542557, -841.3621311 ,\n",
       "        -842.41642145, -843.48572347, -844.56914334, -845.27850813,\n",
       "        -845.82304867, -846.37568953, -846.92926568, -847.48410168]),\n",
       " 'split5_test_score': array([-798.98936589, -799.18458904, -799.66347208, -800.11658153,\n",
       "        -800.65482423, -801.32303866, -801.9366706 , -802.35901919,\n",
       "        -802.77444861, -803.2378221 , -803.69228599, -804.21293454,\n",
       "        -804.76918321, -805.36022575, -805.96842836, -806.61050005,\n",
       "        -807.33369049, -807.73426484, -807.99765272, -808.27322053,\n",
       "        -808.56713588, -808.86479315, -809.17463734, -809.52935469,\n",
       "        -809.67605346, -809.82822588, -809.97929288, -810.13108805,\n",
       "        -810.28301804, -810.45256667, -810.66110976, -810.88804175,\n",
       "        -811.13199179, -811.41170116, -811.69259628, -811.97350031,\n",
       "        -812.25449359, -812.56050552, -812.87184794, -813.18219512,\n",
       "        -813.49506986, -813.83736323, -814.18099483, -814.56109968,\n",
       "        -814.96185327, -815.36834081, -815.77532348, -816.17439077,\n",
       "        -816.57323677, -816.99336071, -817.45606234, -817.95620532,\n",
       "        -818.47745245, -819.01770822, -819.59263371, -820.19252435,\n",
       "        -820.81225444, -821.43522504, -822.06542362, -822.73097772,\n",
       "        -823.42068733, -824.13763036, -824.88056516, -825.6420725 ,\n",
       "        -826.42008288, -827.23892087, -828.05904361, -828.88021769,\n",
       "        -829.71796636, -830.58871472, -831.46601647, -832.35471364,\n",
       "        -833.25325088, -834.14956119, -835.07455706, -836.04257669,\n",
       "        -837.02323107, -838.02393829, -839.08104265, -840.15134558,\n",
       "        -841.22323857, -842.2937999 , -843.36436123, -844.43492257,\n",
       "        -845.52291293, -846.64753898, -847.80186406, -848.96185239,\n",
       "        -850.12191158, -851.28197077, -852.45765845, -853.63839046,\n",
       "        -854.81912247, -855.70518068, -856.28009326, -856.85482844,\n",
       "        -857.43643137, -858.03902531, -858.64191688, -859.24486274]),\n",
       " 'split6_test_score': array([-793.22334182, -792.53934626, -792.24220622, -792.52536584,\n",
       "        -792.73976984, -793.00697977, -793.25581671, -793.52440607,\n",
       "        -793.6589475 , -793.84585151, -794.31560529, -794.82112643,\n",
       "        -795.38503138, -795.96839162, -796.65310048, -797.37592172,\n",
       "        -798.12430836, -798.8803003 , -799.43498413, -799.96739729,\n",
       "        -800.53042495, -801.11037577, -801.71284635, -802.05073354,\n",
       "        -802.37723078, -802.71289637, -803.06678429, -803.42019768,\n",
       "        -803.77403076, -804.14203635, -804.53440818, -804.93848167,\n",
       "        -805.34302192, -805.74819553, -806.15336915, -806.56063472,\n",
       "        -807.01014849, -807.47056826, -807.95646967, -808.47142849,\n",
       "        -808.98911769, -809.54200408, -810.11291001, -810.68836494,\n",
       "        -811.29655581, -811.92467327, -812.5582257 , -813.19827313,\n",
       "        -813.86409598, -814.52997652, -815.19585706, -815.86173905,\n",
       "        -816.5276218 , -817.19350458, -817.86253263, -818.54953819,\n",
       "        -819.27060053, -820.01593634, -820.76127215, -821.51780938,\n",
       "        -822.32030361, -823.16645144, -824.04348333, -824.93555656,\n",
       "        -825.82721803, -826.73505525, -827.64419762, -828.56923288,\n",
       "        -829.50619894, -830.48574837, -831.47292326, -832.45978587,\n",
       "        -833.44663658, -834.46234526, -835.49505066, -836.56560678,\n",
       "        -837.63844865, -838.71254187, -839.79610187, -840.89587629,\n",
       "        -841.99565071, -843.09595816, -844.20719115, -845.33026125,\n",
       "        -846.47168608, -847.62412356, -848.77656104, -849.92899853,\n",
       "        -851.10032615, -852.27330298, -853.44628386, -854.61926474,\n",
       "        -855.79224563, -856.96522651, -858.1382074 , -858.9522237 ,\n",
       "        -859.69211615, -860.43305937, -861.20691164, -861.99835672]),\n",
       " 'split7_test_score': array([-784.50841459, -784.14987751, -783.78416318, -783.52730744,\n",
       "        -783.32046093, -783.0882729 , -782.69415471, -782.42996525,\n",
       "        -782.0974557 , -781.91290862, -781.83561673, -781.77827167,\n",
       "        -781.75632838, -781.7907956 , -781.84513336, -781.91542885,\n",
       "        -781.96587443, -782.0191988 , -782.07258293, -782.01437509,\n",
       "        -782.01363002, -782.04624573, -782.09479373, -782.14638463,\n",
       "        -782.26398519, -782.38635757, -782.5142203 , -782.65938433,\n",
       "        -782.80902946, -782.96241586, -783.1524309 , -783.36167117,\n",
       "        -783.59022237, -783.8748085 , -784.20050231, -784.56545039,\n",
       "        -784.93878494, -785.31249273, -785.68440834, -786.0682938 ,\n",
       "        -786.477437  , -786.89501758, -787.32087319, -787.7589387 ,\n",
       "        -788.1971392 , -788.63746838, -789.07779755, -789.51831507,\n",
       "        -789.95897757, -790.40274221, -790.84942042, -791.29683278,\n",
       "        -791.74615096, -792.19532856, -792.64450615, -793.09368375,\n",
       "        -793.57751812, -794.07563442, -794.57375069, -795.07823591,\n",
       "        -795.60496985, -796.13170221, -796.67176775, -797.238841  ,\n",
       "        -797.83426303, -798.46046019, -799.08783901, -799.74324954,\n",
       "        -800.41826824, -801.13541658, -801.88865829, -802.67792019,\n",
       "        -803.47124199, -804.2963663 , -805.12299482, -805.97785389,\n",
       "        -806.85973432, -807.74161475, -808.62525661, -809.50736978,\n",
       "        -810.39023411, -811.27368373, -812.15713335, -813.05756762,\n",
       "        -813.9932597 , -814.95172016, -815.91018061, -816.86864107,\n",
       "        -817.82929576, -818.81505336, -819.82302482, -820.83251163,\n",
       "        -821.84052044, -822.84852924, -823.86078914, -824.4363384 ,\n",
       "        -824.90090743, -825.36528205, -825.83009245, -826.29448018]),\n",
       " 'split8_test_score': array([-788.75732375, -787.5941492 , -786.73079405, -786.25478079,\n",
       "        -785.96020387, -785.66590702, -785.32044793, -785.03198172,\n",
       "        -784.76881846, -784.42013519, -784.19986707, -783.97354797,\n",
       "        -783.75069743, -783.51958253, -783.2534171 , -782.99562078,\n",
       "        -782.77333831, -782.5675061 , -782.37725554, -782.23457758,\n",
       "        -782.08359534, -781.94969312, -781.85871154, -781.79945076,\n",
       "        -781.7548177 , -781.73961091, -781.76082361, -781.74798575,\n",
       "        -781.72687099, -781.72851883, -781.74399903, -781.78577829,\n",
       "        -781.82755737, -781.89335629, -781.96424719, -782.06061554,\n",
       "        -782.18583105, -782.31106139, -782.43682277, -782.56469192,\n",
       "        -782.69907802, -782.85171434, -783.00735776, -783.18800662,\n",
       "        -783.37147225, -783.58037855, -783.80776328, -784.03796793,\n",
       "        -784.26781157, -784.5113783 , -784.76669522, -785.02168657,\n",
       "        -785.27902343, -785.53948883, -785.82736079, -786.11758633,\n",
       "        -786.43895674, -786.79814135, -787.18248624, -787.56683112,\n",
       "        -787.97713777, -788.42060807, -788.88524531, -789.39436577,\n",
       "        -789.9199104 , -790.45375996, -791.00063484, -791.55281976,\n",
       "        -792.10500467, -792.6605473 , -793.21897242, -793.77846435,\n",
       "        -794.3372046 , -794.91458912, -795.50826625, -796.11793805,\n",
       "        -796.75555771, -797.39523157, -798.04482545, -798.715531  ,\n",
       "        -799.40381182, -800.09273622, -800.7811056 , -801.48721143,\n",
       "        -802.2309816 , -803.02182023, -803.83486768, -804.66215052,\n",
       "        -805.48943337, -806.32660294, -807.18192651, -808.05457384,\n",
       "        -808.93761518, -809.85344638, -810.79353679, -811.73503438,\n",
       "        -812.69932625, -813.2741606 , -813.7967813 , -814.31918978]),\n",
       " 'split9_test_score': array([-805.0138922 , -803.44775049, -802.89586223, -802.86106636,\n",
       "        -802.67306319, -802.51585478, -802.43458077, -802.41042719,\n",
       "        -802.53671849, -802.69523981, -802.88750565, -803.15553625,\n",
       "        -803.50672308, -803.89162163, -804.35165112, -804.87988854,\n",
       "        -805.45513812, -806.02411921, -806.57173405, -807.14313567,\n",
       "        -807.66443928, -808.13798931, -808.62761881, -809.16670759,\n",
       "        -809.73101933, -810.3035488 , -810.8824037 , -811.41673314,\n",
       "        -811.93505924, -812.45469531, -812.97556804, -813.52155922,\n",
       "        -814.06981088, -814.6158318 , -815.16431421, -815.75378091,\n",
       "        -816.37053283, -816.99815994, -817.64286414, -818.32474207,\n",
       "        -819.00772098, -819.70959889, -820.4219813 , -821.16026827,\n",
       "        -821.90000139, -822.63824377, -823.38838325, -824.16114136,\n",
       "        -824.95467259, -825.77446523, -826.61812149, -827.46177776,\n",
       "        -828.30543403, -829.14906619, -829.99240581, -830.85854511,\n",
       "        -831.78020113, -832.70518062, -833.63016015, -834.55513968,\n",
       "        -835.48011921, -836.40643124, -837.33123988, -838.25604852,\n",
       "        -839.19000059, -840.12425702, -841.06512879, -842.03194801,\n",
       "        -843.00078637, -843.97182732, -844.95892689, -845.96259689,\n",
       "        -846.98400041, -848.04448819, -849.12652665, -850.23279304,\n",
       "        -851.34626176, -852.45973049, -853.58267273, -854.7480986 ,\n",
       "        -855.93256234, -857.1403862 , -858.37499335, -859.61361096,\n",
       "        -860.85222856, -862.10758479, -863.3665519 , -864.62551902,\n",
       "        -865.88448614, -867.16443587, -868.45272943, -869.70441102,\n",
       "        -870.31851608, -870.93160595, -871.5583053 , -872.2043132 ,\n",
       "        -872.85868999, -873.51620938, -874.19075015, -874.87388077]),\n",
       " 'mean_test_score': array([-790.45082528, -789.92605748, -789.6579147 , -789.6312257 ,\n",
       "        -789.67693014, -789.77984463, -789.85132576, -789.95773217,\n",
       "        -790.0466807 , -790.17727212, -790.36275676, -790.60370766,\n",
       "        -790.88871046, -791.1908172 , -791.51786592, -791.87657684,\n",
       "        -792.26394836, -792.63882029, -792.96895409, -793.26720786,\n",
       "        -793.56164142, -793.85265191, -794.15950194, -794.45459578,\n",
       "        -794.73447708, -795.01711418, -795.30296039, -795.59056972,\n",
       "        -795.87756817, -796.17066814, -796.47718424, -796.80312065,\n",
       "        -797.13868058, -797.48944905, -797.84826228, -798.2216787 ,\n",
       "        -798.61265865, -799.01606805, -799.43137279, -799.86128864,\n",
       "        -800.3007121 , -800.75561824, -801.22044828, -801.70255846,\n",
       "        -802.19229471, -802.69917207, -803.2201618 , -803.75339053,\n",
       "        -804.30068526, -804.86266003, -805.43960217, -806.02251146,\n",
       "        -806.61313638, -807.21221646, -807.82261654, -808.44246202,\n",
       "        -809.09455966, -809.7626736 , -810.44033569, -811.12918975,\n",
       "        -811.83998642, -812.57123499, -813.31844081, -814.08397432,\n",
       "        -814.86309165, -815.65204475, -816.44577563, -817.25166438,\n",
       "        -818.07454689, -818.91702909, -819.77172254, -820.63743406,\n",
       "        -821.51215833, -822.41067247, -823.33328919, -824.27662022,\n",
       "        -825.23279017, -826.19760854, -827.17772394, -828.17151535,\n",
       "        -829.17047607, -830.17379878, -831.18646299, -832.21366054,\n",
       "        -833.25797984, -834.32121548, -835.39586676, -836.48022521,\n",
       "        -837.57439475, -838.68260375, -839.79920515, -840.92049388,\n",
       "        -841.98538076, -842.9712007 , -843.88656293, -844.66898756,\n",
       "        -845.39780228, -846.05382174, -846.71100284, -847.37112004]),\n",
       " 'std_test_score': array([24.06262737, 23.60121243, 23.38867483, 23.26552485, 23.20219624,\n",
       "        23.16962099, 23.1611102 , 23.23671769, 23.34505664, 23.43988302,\n",
       "        23.48982538, 23.57011047, 23.64763812, 23.69232171, 23.73457497,\n",
       "        23.77845711, 23.82757744, 23.85178517, 23.86397954, 23.90056212,\n",
       "        23.92775097, 23.95616592, 23.9820189 , 24.00900929, 24.02881838,\n",
       "        24.04553908, 24.03913562, 24.02679641, 24.01464806, 24.00720032,\n",
       "        24.00295684, 24.00013059, 24.00056387, 23.99809053, 23.99300086,\n",
       "        23.98570515, 23.97895274, 23.97240414, 23.96942746, 23.96868444,\n",
       "        23.97438191, 23.98500548, 24.00044051, 24.01593326, 24.0375482 ,\n",
       "        24.06472014, 24.09094217, 24.12394657, 24.16653889, 24.221302  ,\n",
       "        24.29284629, 24.37022256, 24.45061574, 24.53819522, 24.63190402,\n",
       "        24.73159841, 24.83720505, 24.94459161, 25.04906013, 25.15977135,\n",
       "        25.27787723, 25.40318915, 25.53059972, 25.65678536, 25.78174575,\n",
       "        25.90825188, 26.03393099, 26.16035947, 26.29139283, 26.41711138,\n",
       "        26.53923982, 26.66462994, 26.79111837, 26.92025629, 27.04898096,\n",
       "        27.18216442, 27.31453463, 27.45178663, 27.59043732, 27.7377905 ,\n",
       "        27.8873593 , 28.04368076, 28.199282  , 28.34503828, 28.48310971,\n",
       "        28.61935322, 28.75504175, 28.8827651 , 29.00700111, 29.13107798,\n",
       "        29.25278514, 29.37025548, 29.4222955 , 29.40221551, 29.31781056,\n",
       "        29.25524038, 29.205274  , 29.24465964, 29.29370848, 29.34473121]),\n",
       " 'rank_test_score': array([ 11,   6,   2,   1,   3,   4,   5,   7,   8,   9,  10,  12,  13,\n",
       "         14,  15,  16,  17,  18,  19,  20,  21,  22,  23,  24,  25,  26,\n",
       "         27,  28,  29,  30,  31,  32,  33,  34,  35,  36,  37,  38,  39,\n",
       "         40,  41,  42,  43,  44,  45,  46,  47,  48,  49,  50,  51,  52,\n",
       "         53,  54,  55,  56,  57,  58,  59,  60,  61,  62,  63,  64,  65,\n",
       "         66,  67,  68,  69,  70,  71,  72,  73,  74,  75,  76,  77,  78,\n",
       "         79,  80,  81,  82,  83,  84,  85,  86,  87,  88,  89,  90,  91,\n",
       "         92,  93,  94,  95,  96,  97,  98,  99, 100])}"
      ]
     },
     "execution_count": 107,
     "metadata": {},
     "output_type": "execute_result"
    }
   ],
   "source": [
    "grid_search1.cv_results_"
   ]
  },
  {
   "cell_type": "code",
   "execution_count": 108,
   "metadata": {},
   "outputs": [],
   "source": [
    "def report(results, n_top=3):\n",
    "    for i in range(1, n_top + 1):\n",
    "        candidates = np.flatnonzero(results['rank_test_score'] == i)\n",
    "        for candidate in candidates:\n",
    "            print(\"Model with rank: {0}\".format(i))\n",
    "            print(\"Mean validation score: {0:.3E} (std: {1:.3})\".format(\n",
    "                results['mean_test_score'][candidate],\n",
    "                results['std_test_score'][candidate]))\n",
    "            print(\"Parameters: {0}\".format(results['params'][candidate]))\n",
    "            print(\"\")"
   ]
  },
  {
   "cell_type": "code",
   "execution_count": 109,
   "metadata": {},
   "outputs": [
    {
     "name": "stdout",
     "output_type": "stream",
     "text": [
      "Model with rank: 1\n",
      "Mean validation score: -7.896E+02 (std: 23.3)\n",
      "Parameters: {'alpha': 4.0}\n",
      "\n",
      "Model with rank: 2\n",
      "Mean validation score: -7.897E+02 (std: 23.4)\n",
      "Parameters: {'alpha': 3.0}\n",
      "\n",
      "Model with rank: 3\n",
      "Mean validation score: -7.897E+02 (std: 23.2)\n",
      "Parameters: {'alpha': 5.0}\n",
      "\n",
      "Model with rank: 4\n",
      "Mean validation score: -7.898E+02 (std: 23.2)\n",
      "Parameters: {'alpha': 6.0}\n",
      "\n",
      "Model with rank: 5\n",
      "Mean validation score: -7.899E+02 (std: 23.2)\n",
      "Parameters: {'alpha': 7.0}\n",
      "\n",
      "Model with rank: 6\n",
      "Mean validation score: -7.899E+02 (std: 23.6)\n",
      "Parameters: {'alpha': 2.0}\n",
      "\n",
      "Model with rank: 7\n",
      "Mean validation score: -7.900E+02 (std: 23.2)\n",
      "Parameters: {'alpha': 8.0}\n",
      "\n",
      "Model with rank: 8\n",
      "Mean validation score: -7.900E+02 (std: 23.3)\n",
      "Parameters: {'alpha': 9.0}\n",
      "\n",
      "Model with rank: 9\n",
      "Mean validation score: -7.902E+02 (std: 23.4)\n",
      "Parameters: {'alpha': 10.0}\n",
      "\n",
      "Model with rank: 10\n",
      "Mean validation score: -7.904E+02 (std: 23.5)\n",
      "Parameters: {'alpha': 11.0}\n",
      "\n",
      "Model with rank: 11\n",
      "Mean validation score: -7.905E+02 (std: 24.1)\n",
      "Parameters: {'alpha': 1.0}\n",
      "\n",
      "Model with rank: 12\n",
      "Mean validation score: -7.906E+02 (std: 23.6)\n",
      "Parameters: {'alpha': 12.0}\n",
      "\n",
      "Model with rank: 13\n",
      "Mean validation score: -7.909E+02 (std: 23.6)\n",
      "Parameters: {'alpha': 13.0}\n",
      "\n",
      "Model with rank: 14\n",
      "Mean validation score: -7.912E+02 (std: 23.7)\n",
      "Parameters: {'alpha': 14.0}\n",
      "\n",
      "Model with rank: 15\n",
      "Mean validation score: -7.915E+02 (std: 23.7)\n",
      "Parameters: {'alpha': 15.0}\n",
      "\n",
      "Model with rank: 16\n",
      "Mean validation score: -7.919E+02 (std: 23.8)\n",
      "Parameters: {'alpha': 16.0}\n",
      "\n",
      "Model with rank: 17\n",
      "Mean validation score: -7.923E+02 (std: 23.8)\n",
      "Parameters: {'alpha': 17.0}\n",
      "\n",
      "Model with rank: 18\n",
      "Mean validation score: -7.926E+02 (std: 23.9)\n",
      "Parameters: {'alpha': 18.0}\n",
      "\n",
      "Model with rank: 19\n",
      "Mean validation score: -7.930E+02 (std: 23.9)\n",
      "Parameters: {'alpha': 19.0}\n",
      "\n",
      "Model with rank: 20\n",
      "Mean validation score: -7.933E+02 (std: 23.9)\n",
      "Parameters: {'alpha': 20.0}\n",
      "\n",
      "Model with rank: 21\n",
      "Mean validation score: -7.936E+02 (std: 23.9)\n",
      "Parameters: {'alpha': 21.0}\n",
      "\n",
      "Model with rank: 22\n",
      "Mean validation score: -7.939E+02 (std: 24.0)\n",
      "Parameters: {'alpha': 22.0}\n",
      "\n",
      "Model with rank: 23\n",
      "Mean validation score: -7.942E+02 (std: 24.0)\n",
      "Parameters: {'alpha': 23.0}\n",
      "\n",
      "Model with rank: 24\n",
      "Mean validation score: -7.945E+02 (std: 24.0)\n",
      "Parameters: {'alpha': 24.0}\n",
      "\n",
      "Model with rank: 25\n",
      "Mean validation score: -7.947E+02 (std: 24.0)\n",
      "Parameters: {'alpha': 25.0}\n",
      "\n",
      "Model with rank: 26\n",
      "Mean validation score: -7.950E+02 (std: 24.0)\n",
      "Parameters: {'alpha': 26.0}\n",
      "\n",
      "Model with rank: 27\n",
      "Mean validation score: -7.953E+02 (std: 24.0)\n",
      "Parameters: {'alpha': 27.0}\n",
      "\n",
      "Model with rank: 28\n",
      "Mean validation score: -7.956E+02 (std: 24.0)\n",
      "Parameters: {'alpha': 28.0}\n",
      "\n",
      "Model with rank: 29\n",
      "Mean validation score: -7.959E+02 (std: 24.0)\n",
      "Parameters: {'alpha': 29.0}\n",
      "\n",
      "Model with rank: 30\n",
      "Mean validation score: -7.962E+02 (std: 24.0)\n",
      "Parameters: {'alpha': 30.0}\n",
      "\n",
      "Model with rank: 31\n",
      "Mean validation score: -7.965E+02 (std: 24.0)\n",
      "Parameters: {'alpha': 31.0}\n",
      "\n",
      "Model with rank: 32\n",
      "Mean validation score: -7.968E+02 (std: 24.0)\n",
      "Parameters: {'alpha': 32.0}\n",
      "\n",
      "Model with rank: 33\n",
      "Mean validation score: -7.971E+02 (std: 24.0)\n",
      "Parameters: {'alpha': 33.0}\n",
      "\n",
      "Model with rank: 34\n",
      "Mean validation score: -7.975E+02 (std: 24.0)\n",
      "Parameters: {'alpha': 34.0}\n",
      "\n",
      "Model with rank: 35\n",
      "Mean validation score: -7.978E+02 (std: 24.0)\n",
      "Parameters: {'alpha': 35.0}\n",
      "\n",
      "Model with rank: 36\n",
      "Mean validation score: -7.982E+02 (std: 24.0)\n",
      "Parameters: {'alpha': 36.0}\n",
      "\n",
      "Model with rank: 37\n",
      "Mean validation score: -7.986E+02 (std: 24.0)\n",
      "Parameters: {'alpha': 37.0}\n",
      "\n",
      "Model with rank: 38\n",
      "Mean validation score: -7.990E+02 (std: 24.0)\n",
      "Parameters: {'alpha': 38.0}\n",
      "\n",
      "Model with rank: 39\n",
      "Mean validation score: -7.994E+02 (std: 24.0)\n",
      "Parameters: {'alpha': 39.0}\n",
      "\n",
      "Model with rank: 40\n",
      "Mean validation score: -7.999E+02 (std: 24.0)\n",
      "Parameters: {'alpha': 40.0}\n",
      "\n",
      "Model with rank: 41\n",
      "Mean validation score: -8.003E+02 (std: 24.0)\n",
      "Parameters: {'alpha': 41.0}\n",
      "\n",
      "Model with rank: 42\n",
      "Mean validation score: -8.008E+02 (std: 24.0)\n",
      "Parameters: {'alpha': 42.0}\n",
      "\n",
      "Model with rank: 43\n",
      "Mean validation score: -8.012E+02 (std: 24.0)\n",
      "Parameters: {'alpha': 43.0}\n",
      "\n",
      "Model with rank: 44\n",
      "Mean validation score: -8.017E+02 (std: 24.0)\n",
      "Parameters: {'alpha': 44.0}\n",
      "\n",
      "Model with rank: 45\n",
      "Mean validation score: -8.022E+02 (std: 24.0)\n",
      "Parameters: {'alpha': 45.0}\n",
      "\n",
      "Model with rank: 46\n",
      "Mean validation score: -8.027E+02 (std: 24.1)\n",
      "Parameters: {'alpha': 46.0}\n",
      "\n",
      "Model with rank: 47\n",
      "Mean validation score: -8.032E+02 (std: 24.1)\n",
      "Parameters: {'alpha': 47.0}\n",
      "\n",
      "Model with rank: 48\n",
      "Mean validation score: -8.038E+02 (std: 24.1)\n",
      "Parameters: {'alpha': 48.0}\n",
      "\n",
      "Model with rank: 49\n",
      "Mean validation score: -8.043E+02 (std: 24.2)\n",
      "Parameters: {'alpha': 49.0}\n",
      "\n",
      "Model with rank: 50\n",
      "Mean validation score: -8.049E+02 (std: 24.2)\n",
      "Parameters: {'alpha': 50.0}\n",
      "\n",
      "Model with rank: 51\n",
      "Mean validation score: -8.054E+02 (std: 24.3)\n",
      "Parameters: {'alpha': 51.0}\n",
      "\n",
      "Model with rank: 52\n",
      "Mean validation score: -8.060E+02 (std: 24.4)\n",
      "Parameters: {'alpha': 52.0}\n",
      "\n",
      "Model with rank: 53\n",
      "Mean validation score: -8.066E+02 (std: 24.5)\n",
      "Parameters: {'alpha': 53.0}\n",
      "\n",
      "Model with rank: 54\n",
      "Mean validation score: -8.072E+02 (std: 24.5)\n",
      "Parameters: {'alpha': 54.0}\n",
      "\n",
      "Model with rank: 55\n",
      "Mean validation score: -8.078E+02 (std: 24.6)\n",
      "Parameters: {'alpha': 55.0}\n",
      "\n",
      "Model with rank: 56\n",
      "Mean validation score: -8.084E+02 (std: 24.7)\n",
      "Parameters: {'alpha': 56.0}\n",
      "\n",
      "Model with rank: 57\n",
      "Mean validation score: -8.091E+02 (std: 24.8)\n",
      "Parameters: {'alpha': 57.0}\n",
      "\n",
      "Model with rank: 58\n",
      "Mean validation score: -8.098E+02 (std: 24.9)\n",
      "Parameters: {'alpha': 58.0}\n",
      "\n",
      "Model with rank: 59\n",
      "Mean validation score: -8.104E+02 (std: 25.0)\n",
      "Parameters: {'alpha': 59.0}\n",
      "\n",
      "Model with rank: 60\n",
      "Mean validation score: -8.111E+02 (std: 25.2)\n",
      "Parameters: {'alpha': 60.0}\n",
      "\n",
      "Model with rank: 61\n",
      "Mean validation score: -8.118E+02 (std: 25.3)\n",
      "Parameters: {'alpha': 61.0}\n",
      "\n",
      "Model with rank: 62\n",
      "Mean validation score: -8.126E+02 (std: 25.4)\n",
      "Parameters: {'alpha': 62.0}\n",
      "\n",
      "Model with rank: 63\n",
      "Mean validation score: -8.133E+02 (std: 25.5)\n",
      "Parameters: {'alpha': 63.0}\n",
      "\n",
      "Model with rank: 64\n",
      "Mean validation score: -8.141E+02 (std: 25.7)\n",
      "Parameters: {'alpha': 64.0}\n",
      "\n",
      "Model with rank: 65\n",
      "Mean validation score: -8.149E+02 (std: 25.8)\n",
      "Parameters: {'alpha': 65.0}\n",
      "\n",
      "Model with rank: 66\n",
      "Mean validation score: -8.157E+02 (std: 25.9)\n",
      "Parameters: {'alpha': 66.0}\n",
      "\n",
      "Model with rank: 67\n",
      "Mean validation score: -8.164E+02 (std: 26.0)\n",
      "Parameters: {'alpha': 67.0}\n",
      "\n",
      "Model with rank: 68\n",
      "Mean validation score: -8.173E+02 (std: 26.2)\n",
      "Parameters: {'alpha': 68.0}\n",
      "\n",
      "Model with rank: 69\n",
      "Mean validation score: -8.181E+02 (std: 26.3)\n",
      "Parameters: {'alpha': 69.0}\n",
      "\n",
      "Model with rank: 70\n",
      "Mean validation score: -8.189E+02 (std: 26.4)\n",
      "Parameters: {'alpha': 70.0}\n",
      "\n",
      "Model with rank: 71\n",
      "Mean validation score: -8.198E+02 (std: 26.5)\n",
      "Parameters: {'alpha': 71.0}\n",
      "\n",
      "Model with rank: 72\n",
      "Mean validation score: -8.206E+02 (std: 26.7)\n",
      "Parameters: {'alpha': 72.0}\n",
      "\n",
      "Model with rank: 73\n",
      "Mean validation score: -8.215E+02 (std: 26.8)\n",
      "Parameters: {'alpha': 73.0}\n",
      "\n",
      "Model with rank: 74\n",
      "Mean validation score: -8.224E+02 (std: 26.9)\n",
      "Parameters: {'alpha': 74.0}\n",
      "\n",
      "Model with rank: 75\n",
      "Mean validation score: -8.233E+02 (std: 27.0)\n",
      "Parameters: {'alpha': 75.0}\n",
      "\n",
      "Model with rank: 76\n",
      "Mean validation score: -8.243E+02 (std: 27.2)\n",
      "Parameters: {'alpha': 76.0}\n",
      "\n",
      "Model with rank: 77\n",
      "Mean validation score: -8.252E+02 (std: 27.3)\n",
      "Parameters: {'alpha': 77.0}\n",
      "\n",
      "Model with rank: 78\n",
      "Mean validation score: -8.262E+02 (std: 27.5)\n",
      "Parameters: {'alpha': 78.0}\n",
      "\n",
      "Model with rank: 79\n",
      "Mean validation score: -8.272E+02 (std: 27.6)\n",
      "Parameters: {'alpha': 79.0}\n",
      "\n",
      "Model with rank: 80\n",
      "Mean validation score: -8.282E+02 (std: 27.7)\n",
      "Parameters: {'alpha': 80.0}\n",
      "\n",
      "Model with rank: 81\n",
      "Mean validation score: -8.292E+02 (std: 27.9)\n",
      "Parameters: {'alpha': 81.0}\n",
      "\n",
      "Model with rank: 82\n",
      "Mean validation score: -8.302E+02 (std: 28.0)\n",
      "Parameters: {'alpha': 82.0}\n",
      "\n",
      "Model with rank: 83\n",
      "Mean validation score: -8.312E+02 (std: 28.2)\n",
      "Parameters: {'alpha': 83.0}\n",
      "\n",
      "Model with rank: 84\n",
      "Mean validation score: -8.322E+02 (std: 28.3)\n",
      "Parameters: {'alpha': 84.0}\n",
      "\n",
      "Model with rank: 85\n",
      "Mean validation score: -8.333E+02 (std: 28.5)\n",
      "Parameters: {'alpha': 85.0}\n",
      "\n",
      "Model with rank: 86\n",
      "Mean validation score: -8.343E+02 (std: 28.6)\n",
      "Parameters: {'alpha': 86.0}\n",
      "\n",
      "Model with rank: 87\n",
      "Mean validation score: -8.354E+02 (std: 28.8)\n",
      "Parameters: {'alpha': 87.0}\n",
      "\n",
      "Model with rank: 88\n",
      "Mean validation score: -8.365E+02 (std: 28.9)\n",
      "Parameters: {'alpha': 88.0}\n",
      "\n",
      "Model with rank: 89\n",
      "Mean validation score: -8.376E+02 (std: 29.0)\n",
      "Parameters: {'alpha': 89.0}\n",
      "\n",
      "Model with rank: 90\n",
      "Mean validation score: -8.387E+02 (std: 29.1)\n",
      "Parameters: {'alpha': 90.0}\n",
      "\n",
      "Model with rank: 91\n",
      "Mean validation score: -8.398E+02 (std: 29.3)\n",
      "Parameters: {'alpha': 91.0}\n",
      "\n",
      "Model with rank: 92\n",
      "Mean validation score: -8.409E+02 (std: 29.4)\n",
      "Parameters: {'alpha': 92.0}\n",
      "\n",
      "Model with rank: 93\n",
      "Mean validation score: -8.420E+02 (std: 29.4)\n",
      "Parameters: {'alpha': 93.0}\n",
      "\n",
      "Model with rank: 94\n",
      "Mean validation score: -8.430E+02 (std: 29.4)\n",
      "Parameters: {'alpha': 94.0}\n",
      "\n",
      "Model with rank: 95\n",
      "Mean validation score: -8.439E+02 (std: 29.3)\n",
      "Parameters: {'alpha': 95.0}\n",
      "\n",
      "Model with rank: 96\n",
      "Mean validation score: -8.447E+02 (std: 29.3)\n",
      "Parameters: {'alpha': 96.0}\n",
      "\n",
      "Model with rank: 97\n",
      "Mean validation score: -8.454E+02 (std: 29.2)\n",
      "Parameters: {'alpha': 97.0}\n",
      "\n",
      "Model with rank: 98\n",
      "Mean validation score: -8.461E+02 (std: 29.2)\n",
      "Parameters: {'alpha': 98.0}\n",
      "\n",
      "Model with rank: 99\n",
      "Mean validation score: -8.467E+02 (std: 29.3)\n",
      "Parameters: {'alpha': 99.0}\n",
      "\n",
      "Model with rank: 100\n",
      "Mean validation score: -8.474E+02 (std: 29.3)\n",
      "Parameters: {'alpha': 100.0}\n",
      "\n"
     ]
    }
   ],
   "source": [
    "report(grid_search1.cv_results_,100)"
   ]
  },
  {
   "cell_type": "code",
   "execution_count": 110,
   "metadata": {},
   "outputs": [],
   "source": [
    "final_sal_lasso = grid_search1.predict(test_data)"
   ]
  },
  {
   "cell_type": "code",
   "execution_count": 111,
   "metadata": {},
   "outputs": [],
   "source": [
    "pd.DataFrame(final_sal_lasso).to_csv('project3_LassoReg.csv',index=False)"
   ]
  },
  {
   "cell_type": "markdown",
   "metadata": {},
   "source": [
    "## COFFECIENTS IN LASSO"
   ]
  },
  {
   "cell_type": "code",
   "execution_count": 112,
   "metadata": {},
   "outputs": [],
   "source": [
    "lasso_model = grid_search1.best_estimator_"
   ]
  },
  {
   "cell_type": "code",
   "execution_count": 113,
   "metadata": {},
   "outputs": [
    {
     "data": {
      "text/plain": [
       "Lasso(alpha=4.0, copy_X=True, fit_intercept=True, max_iter=1000,\n",
       "      normalize=False, positive=False, precompute=False, random_state=None,\n",
       "      selection='cyclic', tol=0.0001, warm_start=False)"
      ]
     },
     "execution_count": 113,
     "metadata": {},
     "output_type": "execute_result"
    }
   ],
   "source": [
    "lasso_model.fit(x_train,y_train)"
   ]
  },
  {
   "cell_type": "code",
   "execution_count": 114,
   "metadata": {},
   "outputs": [
    {
     "data": {
      "text/plain": [
       "[('Area_dist_level_Medium', 45.29744354403235),\n",
       " ('Area_dist_level_Small', 0.0),\n",
       " ('Area_dist_level_Unknown', -0.0),\n",
       " ('Area_City_Type_Tier 2', 43.16071015146733),\n",
       " ('Area_City_Type_Tier 3', -1.8602669018443037),\n",
       " ('Area_Type_DownTown', 247.18067206083003),\n",
       " ('Area_Type_Industrial', -21.74495790478251),\n",
       " ('Area_Type_MidTownResidential', -1618.527016848268),\n",
       " ('SidEffect_Level_mild', -3.885630932146658),\n",
       " ('Medicine_Type_Antacids', 0.0),\n",
       " ('Medicine_Type_Antibiotics', 4.025183218120747),\n",
       " ('Medicine_Type_Antifungal', 0.0),\n",
       " ('Medicine_Type_Antimalarial', -0.0),\n",
       " ('Medicine_Type_Antipyretics', -72.15282013315415),\n",
       " ('Medicine_Type_Antiseptics', -0.0),\n",
       " ('Medicine_Type_Antiviral', 0.0),\n",
       " ('Medicine_Type_Cardiac', 1.2615337842639895),\n",
       " ('Medicine_Type_Hreplacements', -0.0),\n",
       " ('Medicine_Type_Mstablizers', 0.0),\n",
       " ('Medicine_Type_MuscleRelaxants', 0.0),\n",
       " ('Medicine_Type_OralContraceptives', -0.0),\n",
       " ('Medicine_Type_Statins', 0.0),\n",
       " ('Medicine_Type_Stimulants', 0.0),\n",
       " ('Medicine_Type_Tranquilizers', -0.0),\n",
       " ('DistArea_ID_Area013', -0.0),\n",
       " ('DistArea_ID_Area017', 0.0),\n",
       " ('DistArea_ID_Area018', -4.069360830955495),\n",
       " ('DistArea_ID_Area019', -0.0),\n",
       " ('DistArea_ID_Area027', 1329.9683476807922),\n",
       " ('DistArea_ID_Area035', 53.25987781317202),\n",
       " ('DistArea_ID_Area045', -87.23197867488828),\n",
       " ('DistArea_ID_Area046', -0.0),\n",
       " ('DistArea_ID_Area049', 0.0),\n",
       " ('Counterfeit_Weight', -2.553024515031836),\n",
       " ('Active_Since', -0.5733362456759947),\n",
       " ('Medicine_MRP', 14.652271966892334),\n",
       " ('Availability_rating', -0.0)]"
      ]
     },
     "execution_count": 114,
     "metadata": {},
     "output_type": "execute_result"
    }
   ],
   "source": [
    "list(zip(x_train.columns,lasso_model.coef_))"
   ]
  },
  {
   "cell_type": "code",
   "execution_count": 115,
   "metadata": {},
   "outputs": [
    {
     "data": {
      "text/plain": [
       "-789.6312257023253"
      ]
     },
     "execution_count": 115,
     "metadata": {},
     "output_type": "execute_result"
    }
   ],
   "source": [
    "grid_search1.best_score_"
   ]
  },
  {
   "cell_type": "code",
   "execution_count": 116,
   "metadata": {},
   "outputs": [
    {
     "data": {
      "text/plain": [
       "{'alpha': 4.0}"
      ]
     },
     "execution_count": 116,
     "metadata": {},
     "output_type": "execute_result"
    }
   ],
   "source": [
    "grid_search1.best_params_"
   ]
  },
  {
   "cell_type": "code",
   "execution_count": null,
   "metadata": {},
   "outputs": [],
   "source": []
  }
 ],
 "metadata": {
  "kernelspec": {
   "display_name": "Python 3",
   "language": "python",
   "name": "python3"
  },
  "language_info": {
   "codemirror_mode": {
    "name": "ipython",
    "version": 3
   },
   "file_extension": ".py",
   "mimetype": "text/x-python",
   "name": "python",
   "nbconvert_exporter": "python",
   "pygments_lexer": "ipython3",
   "version": "3.7.6"
  }
 },
 "nbformat": 4,
 "nbformat_minor": 4
}
